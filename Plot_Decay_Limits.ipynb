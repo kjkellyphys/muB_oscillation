{
 "cells": [
  {
   "cell_type": "code",
   "execution_count": 5,
   "metadata": {},
   "outputs": [
    {
     "name": "stdout",
     "output_type": "stream",
     "text": [
      "The autoreload extension is already loaded. To reload it, use:\n",
      "  %reload_ext autoreload\n"
     ]
    }
   ],
   "source": [
    "%load_ext autoreload\n",
    "%autoreload 2"
   ]
  },
  {
   "cell_type": "code",
   "execution_count": 6,
   "metadata": {},
   "outputs": [],
   "source": [
    "import numpy as np\n",
    "import matplotlib.pyplot as plt\n",
    "from scipy.interpolate import interp1d\n",
    "\n",
    "import MicroTools as micro\n",
    "import MicroTools.plot_tools as pt"
   ]
  },
  {
   "cell_type": "markdown",
   "metadata": {},
   "source": [
    "## This code perform 2D plotting or 3D with 1 parameter fixed."
   ]
  },
  {
   "cell_type": "code",
   "execution_count": 14,
   "metadata": {},
   "outputs": [],
   "source": [
    "# Our parameter scan\n",
    "path_results = \"fit_data/\"\n",
    "# data = np.load(f\"{path_results}/App_gm4_Um4sq_deGouvea.npy\", allow_pickle=True)\n",
    "data = np.load(f\"{path_results}/App_gm4_Um4sq_osc_decay_deg_g=0.1.npy\", allow_pickle=True)\n",
    "\n",
    "MVec, gm4VecT = 0.04*data[:,3], data[:,1]**2\n",
    "MiniApp_chi2 = data[:,-3]\n",
    "MicroApp_chi2 = data[:,-2]\n",
    "MicroApp_Asimov_chi2 = data[:,-1]\n",
    "\n",
    "MiniApp_deltachi2 = MiniApp_chi2 - np.min(MiniApp_chi2)\n",
    "MicroApp_deltachi2 = MicroApp_chi2 - np.min(MicroApp_chi2)\n",
    "MicroApp_Asimov_deltachi2 = MicroApp_Asimov_chi2 - np.min(MicroApp_Asimov_chi2)\n",
    "\n",
    "# De Gouvea fit\n",
    "MB = np.loadtxt(f'MicroTools/MB_data/DeGouvea_data/miniboone_2sigma.dat')\n",
    "MBX = 10**MB[:,0]\n",
    "MBY = 10**MB[:,1]\n",
    "MBlower = np.loadtxt(f'MicroTools/MB_data/DeGouvea_data/miniboone_2sigma_lower.dat')\n",
    "MBupper = np.loadtxt(f'MicroTools/MB_data/DeGouvea_data/miniboone_2sigma_upper.dat')\n",
    "MBc = np.vstack((MBlower,MBupper))\n",
    "MB = np.loadtxt('MicroTools/MB_data/DeGouvea_data/miniboone_2sigma.dat')\n",
    "MBX = 10**MB[:,0]\n",
    "MBY = 10**MB[:,1]\n",
    "\n",
    "# MicroBooNE official contour\n",
    "muB = np.loadtxt(f'MicroTools/muB_data/official/official_contour.dat')\n",
    "muBX = muB[:,0]\n",
    "muBY = muB[:,1]\n",
    "\n",
    "#print(data)\n",
    "#print('MVec',MVec)\n",
    "#print('gm4',gm4VecT)\n",
    "#print('chi2',MiniApp_chi2)"
   ]
  },
  {
   "cell_type": "code",
   "execution_count": 15,
   "metadata": {},
   "outputs": [
    {
     "name": "stderr",
     "output_type": "stream",
     "text": [
      "<ipython-input-15-6d57524681cd>:21: UserWarning: linewidths is ignored by contourf\n",
      "  ax.tricontourf(MVec, gm4VecT, MicroApp_deltachi2, levels=levsMicroB, cmap='Blues', alpha=1, linewidths=1.5)\n"
     ]
    },
    {
     "data": {
      "text/plain": [
       "Text(0.0002, 0.03, '$|U_{e4}|^2=0.01$\\n$g=0.1$')"
      ]
     },
     "execution_count": 15,
     "metadata": {},
     "output_type": "execute_result"
    },
    {
     "data": {
      "image/png": "[encoded data removed]",
      "text/plain": [
       "<Figure size 319.68x331.583 with 1 Axes>"
      ]
     },
     "metadata": {
      "needs_background": "light"
     },
     "output_type": "display_data"
    }
   ],
   "source": [
    "fig, ax = pt.std_fig(figsize=(pt.std_figsize[0], pt.std_figsize[1]*1.5))\n",
    "xmin, xmax, ymin, ymax = 1e-4, 2e-1, 1e-2, 1e4\n",
    "ax.set_xscale('log')\n",
    "ax.set_yscale('log')\n",
    "ax.axis([xmin, xmax, ymin, ymax])\n",
    "#ax.set_ylabel(r'$g_D m_4 [\\mathrm{eV}]$', fontproperties=pt.font)\n",
    "ax.set_ylabel(r'$\\Delta m_{41}^2 [\\mathrm{eV^2}]$', fontproperties=pt.font)\n",
    "#ax.set_xticks([1e-4, 1e-3, 1e-2, 1e-1, 1])\n",
    "#ax.set_yticks([1e-1, 1, 10, 100])\n",
    "#[l.set_size(pt.labelfont.get_size()) for l in ax.get_xticklabels()]\n",
    "#[l.set_size(pt.labelfont.get_size()) for l in ax.get_yticklabels()]\n",
    "#[l.set_position((0.5, -0.015)) for l in ax.get_xticklabels()]\n",
    "#ax.set_yticklabels((r\"$10^{-1}$\", r\"$1$\", r\"$10$\", r\"$10^2$\"), fontproperties=pt.labelfont)\n",
    "#ax.set_xticklabels((r\"$10^{-4}$\", r\"$10^{-3}$\", r\"$10^{-2}$\", r\"$10^{-1}$\", r\"$1$\"), fontproperties=pt.labelfont)\n",
    "#ax.set_xlabel(r\"$|U_{\\mu 4}|^2$\", fontproperties=pt.font)\n",
    "ax.set_xlabel(r\"$\\sin^2(2\\theta_{\\mu e})$\", fontproperties=pt.font)\n",
    "\n",
    "levs0MB = np.min(MicroApp_chi2)\n",
    "levsMiniB = [0, 2.30, 6.18, 11.83]\n",
    "levsMicroB = [6.18, 1e10]\n",
    "ax.tricontourf(MVec, gm4VecT, MicroApp_deltachi2, levels=levsMicroB, cmap='Blues', alpha=1, linewidths=1.5)\n",
    "ax.tricontour(MVec, gm4VecT, MicroApp_Asimov_deltachi2, levels=levsMicroB, colors=['black'], alpha=1, linewidths=1.5, linestyles=['--'])\n",
    "ax.tricontourf(MVec, gm4VecT, MiniApp_deltachi2, levels=levsMiniB, cmap='Oranges_r', alpha=1)\n",
    "ax.plot(muBX, muBY, color='red')\n",
    "ax.text(2e-4, 3e-2, '$|U_{e4}|^2=0.01$\\n$g=0.1$', fontsize = 15)\n",
    "#fleft = interp1d(10**MBupper[:,1], 10**MBupper[:,0], bounds_error=False, fill_value='extrapolate')\n",
    "#fright = interp1d(10**MBlower[:,1], 10**MBlower[:,0], bounds_error=False, fill_value='extrapolate')\n",
    "#y = np.geomspace(np.min([10**MBupper[:,1].min(), 10**MBlower[:,1].min()]), np.max([10**MBupper[:,1].max(), 10**MBlower[:,1].max()]))\n",
    "#ax.fill_betweenx(y, fleft(y), fright(y), edgecolor='black', hatch='////', facecolor='None', alpha=0.5, label='deGouvea MB $2\\sigma$')\n",
    "#ax.legend(loc = 'lower left', fontsize = 10)\n",
    "\n",
    "#fig.savefig(f\"{micro.path_plots}/Fixed_Ue4sq_1e-2_g=0.01.pdf\", bbox_inches='tight')"
   ]
  },
  {
   "cell_type": "code",
   "execution_count": null,
   "metadata": {},
   "outputs": [],
   "source": []
  },
  {
   "cell_type": "markdown",
   "metadata": {},
   "source": [
    "## Old plotting scripts"
   ]
  },
  {
   "cell_type": "code",
   "execution_count": 24,
   "metadata": {},
   "outputs": [
    {
     "ename": "ValueError",
     "evalue": "cannot reshape array of size 25 into shape (31,31)",
     "output_type": "error",
     "traceback": [
      "\u001b[0;31m---------------------------------------------------------------------------\u001b[0m",
      "\u001b[0;31mValueError\u001b[0m                                Traceback (most recent call last)",
      "\u001b[1;32m/Users/matheushostert/Repos/muB_oscillation/Plot_Decay_Limits.ipynb Cell 4\u001b[0m line \u001b[0;36m1\n\u001b[1;32m      <a href='vscode-notebook-cell:/Users/matheushostert/Repos/muB_oscillation/Plot_Decay_Limits.ipynb#W2sZmlsZQ%3D%3D?line=8'>9</a>\u001b[0m MuBAppDisT \u001b[39m=\u001b[39m np\u001b[39m.\u001b[39marray((np\u001b[39m.\u001b[39masarray(MuBAppDisT0\u001b[39m.\u001b[39mT[\u001b[39m0\u001b[39m]))\u001b[39m.\u001b[39mreshape(\u001b[39mlen\u001b[39m(gm4VecT), \u001b[39mlen\u001b[39m(MVec)), dtype\u001b[39m=\u001b[39m\u001b[39mfloat\u001b[39m)\n\u001b[1;32m     <a href='vscode-notebook-cell:/Users/matheushostert/Repos/muB_oscillation/Plot_Decay_Limits.ipynb#W2sZmlsZQ%3D%3D?line=9'>10</a>\u001b[0m MuBAppDisTAs \u001b[39m=\u001b[39m np\u001b[39m.\u001b[39marray((np\u001b[39m.\u001b[39masarray(MuBAppDisT0\u001b[39m.\u001b[39mT[\u001b[39m1\u001b[39m]))\u001b[39m.\u001b[39mreshape(\u001b[39mlen\u001b[39m(gm4VecT), \u001b[39mlen\u001b[39m(MVec)), dtype\u001b[39m=\u001b[39m\u001b[39mfloat\u001b[39m)\n\u001b[0;32m---> <a href='vscode-notebook-cell:/Users/matheushostert/Repos/muB_oscillation/Plot_Decay_Limits.ipynb#W2sZmlsZQ%3D%3D?line=11'>12</a>\u001b[0m MuBAppDisT_new \u001b[39m=\u001b[39m np\u001b[39m.\u001b[39marray((np\u001b[39m.\u001b[39;49masarray(MuBAppDisT0_new\u001b[39m.\u001b[39;49mT[\u001b[39m0\u001b[39;49m]))\u001b[39m.\u001b[39;49mreshape(\u001b[39mlen\u001b[39;49m(gm4VecT), \u001b[39mlen\u001b[39;49m(MVec)), dtype\u001b[39m=\u001b[39m\u001b[39mfloat\u001b[39m)\n\u001b[1;32m     <a href='vscode-notebook-cell:/Users/matheushostert/Repos/muB_oscillation/Plot_Decay_Limits.ipynb#W2sZmlsZQ%3D%3D?line=12'>13</a>\u001b[0m MuBAppDisTAs_new \u001b[39m=\u001b[39m np\u001b[39m.\u001b[39marray((np\u001b[39m.\u001b[39masarray(MuBAppDisT0_new\u001b[39m.\u001b[39mT[\u001b[39m1\u001b[39m]))\u001b[39m.\u001b[39mreshape(\u001b[39mlen\u001b[39m(gm4VecT), \u001b[39mlen\u001b[39m(MVec)), dtype\u001b[39m=\u001b[39m\u001b[39mfloat\u001b[39m)\n",
      "\u001b[0;31mValueError\u001b[0m: cannot reshape array of size 25 into shape (31,31)"
     ]
    }
   ],
   "source": [
    "MuBAppDisT0 = np.load(f\"{micro.path_osc_data}/App_gm4_Um4sq.npy\", allow_pickle=True)\n",
    "data = np.load(f\"{micro.path_osc_data}/App_gm4_Um4sq_migrated_1_v2.npy\", allow_pickle=True)\n",
    "MuBAppDisT0_new = data[:,:-1]\n",
    "\n",
    "PVs = np.load(f\"{micro.path_osc_data}/gm4_Um4sq_PVs.npy\", allow_pickle=True)\n",
    "gm4VecT = PVs[0]\n",
    "MVec = PVs[1]\n",
    "\n",
    "MuBAppDisT = np.array((np.asarray(MuBAppDisT0.T[0])).reshape(len(gm4VecT), len(MVec)), dtype=float)\n",
    "MuBAppDisTAs = np.array((np.asarray(MuBAppDisT0.T[1])).reshape(len(gm4VecT), len(MVec)), dtype=float)\n",
    "\n",
    "MuBAppDisT_new = np.array((np.asarray(MuBAppDisT0_new.T[0])).reshape(len(gm4VecT), len(MVec)), dtype=float)\n",
    "MuBAppDisTAs_new = np.array((np.asarray(MuBAppDisT0_new.T[1])).reshape(len(gm4VecT), len(MVec)), dtype=float)"
   ]
  },
  {
   "cell_type": "code",
   "execution_count": 15,
   "metadata": {},
   "outputs": [],
   "source": [
    "MB = np.loadtxt(f'MicroTools/MB_data/DeGouvea_data/miniboone_2sigma.dat')\n",
    "MBX = 10**MB[:,0]\n",
    "MBY = 10**MB[:,1]\n",
    "MBlower = np.loadtxt(f'MicroTools/MB_data/DeGouvea_data/miniboone_2sigma_lower.dat')\n",
    "MBupper = np.loadtxt(f'MicroTools/MB_data/DeGouvea_data/miniboone_2sigma_upper.dat')\n",
    "MBc = np.vstack((MBlower,MBupper))"
   ]
  },
  {
   "cell_type": "code",
   "execution_count": 13,
   "metadata": {},
   "outputs": [
    {
     "name": "stdout",
     "output_type": "stream",
     "text": [
      "92.65762086182028\n"
     ]
    },
    {
     "data": {
      "image/png": "[encoded data removed]",
      "text/plain": [
       "<Figure size 444x460.531 with 1 Axes>"
      ]
     },
     "metadata": {},
     "output_type": "display_data"
    }
   ],
   "source": [
    "from MicroTools.plot_tools import *\n",
    "\n",
    "# Load 95% contour from Miniboone.\n",
    "MB = np.loadtxt('MicroTools/MB_data/DeGouvea_data/miniboone_2sigma.dat')\n",
    "MBX = 10**MB[:,0]\n",
    "MBY = 10**MB[:,1]\n",
    "\n",
    "fig, ax = std_fig(figsize=(std_figsize[0], std_figsize[1]*1.5))\n",
    "xmin, xmax, ymin, ymax = 1e-4, 1, 1e-1, 1e2\n",
    "ax.set_xscale('log')\n",
    "ax.set_yscale('log')\n",
    "ax.axis([xmin, xmax, ymin, ymax])\n",
    "ax.set_ylabel(r'$g_D m_4 [\\mathrm{eV}]$', fontproperties=font)        \n",
    "ax.set_xticks([1e-4, 1e-3, 1e-2, 1e-1, 1])\n",
    "ax.set_yticks([1e-1, 1, 10, 100])\n",
    "[l.set_size(labelfont.get_size()) for l in ax.get_xticklabels()]\n",
    "[l.set_size(labelfont.get_size()) for l in ax.get_yticklabels()]\n",
    "[l.set_position((0.5, -0.015)) for l in ax.get_xticklabels()]\n",
    "ax.set_yticklabels((r\"$10^{-1}$\", r\"$1$\", r\"$10$\", r\"$10^2$\"), fontproperties=labelfont)\n",
    "ax.set_xticklabels((r\"$10^{-4}$\", r\"$10^{-3}$\", r\"$10^{-2}$\", r\"$10^{-1}$\", r\"$1$\"), fontproperties=labelfont)\n",
    "ax.set_xlabel(r\"$|U_{\\mu 4}|^2$\", fontproperties=font)        \n",
    "\n",
    "\n",
    "levs0MB = np.min(MuBAppDisT)\n",
    "levs0MB_new = np.min(MuBAppDisT_new)\n",
    "print(levs0MB)\n",
    "#levsMB = [levs0MB, levs0MB + 2.30, levs0MB + 6.18, levs0MB + 11.83]\n",
    "levsMB = [levs0MB, levs0MB + 11.83]\n",
    "levsMB_new = [levs0MB_new, levs0MB_new + 11.83]\n",
    "#ax.contourf(MVec, gm4VecT, MuBAppDisT, levels=levsMB, colors=['#333333', '#666666', '#999999', '#CCCCCC'], alpha=0.3)\n",
    "#ax.contour(MVec, gm4VecT, MuBAppDisT, levels=levsMB, colors=['#333333', '#666666', '#999999', '#CCCCCC'], alpha=1, linewidths=0.25)\n",
    "ax.contourf(MVec, gm4VecT, MuBAppDisT, levels=levsMB, colors=['green','green'], alpha=0.3)\n",
    "ax.contour(MVec, gm4VecT, MuBAppDisT, levels=levsMB, colors=['green','green'], alpha=1, linewidths=0.25)\n",
    "ax.contourf(MVec, gm4VecT, MuBAppDisT_new, levels=levsMB_new, colors=['orange','orange'], alpha=0.3)\n",
    "ax.contour(MVec, gm4VecT, MuBAppDisT_new, levels=levsMB_new, colors=['orange','orange'], alpha=1, linewidths=0.25)\n",
    "# ax.fill(MBX,MBY,color='Black',alpha=0.5)\n",
    "\n",
    "ax.fill_between(x=10**MBlower[:,0],y1=10**MBlower[:,1],y2=100,color='blue', alpha=.3)\n",
    "ax.fill_between(x=10**MBupper[:,0],y1=10**MBupper[:,1],y2=100,color='white')\n",
    "plt.Rectangle((0.1,0.1),0.8,0.8,fc = 'blue', alpha = .3, label=r'MiniBooNE $2\\sigma$'),\n",
    "\n",
    "legend_elements = [plt.Rectangle((0.1,0.1),0.8,0.8,fc = 'green', alpha = .3, label=r'MicroBooNE $3\\sigma$'),\n",
    "                   plt.Rectangle((0.1,0.1),0.8,0.8,fc = 'orange', alpha = .3, label=r'new MicroBooNE $3\\sigma$')]\n",
    "ax.legend(handles = legend_elements, loc = 'upper right', fontsize = 12)\n",
    "\n",
    "fig.savefig(f\"{micro.path_plots}/gm4_Um4sq_compare_migrated.pdf\", bbox_inches='tight')"
   ]
  },
  {
   "cell_type": "code",
   "execution_count": null,
   "metadata": {},
   "outputs": [],
   "source": []
  }
 ],
 "metadata": {
  "kernelspec": {
   "display_name": "Python 3",
   "language": "python",
   "name": "python3"
  },
  "language_info": {
   "codemirror_mode": {
    "name": "ipython",
    "version": 3
   },
   "file_extension": ".py",
   "mimetype": "text/x-python",
   "name": "python",
   "nbconvert_exporter": "python",
   "pygments_lexer": "ipython3",
   "version": "3.9.15"
  }
 },
 "nbformat": 4,
 "nbformat_minor": 2
}
