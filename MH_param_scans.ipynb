{
 "cells": [
  {
   "cell_type": "code",
   "execution_count": 1,
   "id": "57b30225-60f2-4b20-bd77-48ede436f6b0",
   "metadata": {},
   "outputs": [],
   "source": [
    "%load_ext autoreload\n",
    "%autoreload 2"
   ]
  },
  {
   "cell_type": "code",
   "execution_count": 2,
   "id": "c64e5fe4-fd59-4292-88d2-22e4d0dc4196",
   "metadata": {},
   "outputs": [],
   "source": [
    "import numpy as np\n",
    "from multiprocessing import Pool\n",
    "import matplotlib.pyplot as plt\n",
    "\n",
    "from functools import partial\n",
    "\n",
    "import param_scan"
   ]
  },
  {
   "cell_type": "code",
   "execution_count": 1,
   "id": "baabf34e-76b7-4279-9bb8-1311a37d60fe",
   "metadata": {},
   "outputs": [
    {
     "ename": "NameError",
     "evalue": "name 'param_scan' is not defined",
     "output_type": "error",
     "traceback": [
      "\u001b[0;31m---------------------------------------------------------------------------\u001b[0m",
      "\u001b[0;31mNameError\u001b[0m                                 Traceback (most recent call last)",
      "Cell \u001b[0;32mIn[1], line 1\u001b[0m\n\u001b[0;32m----> 1\u001b[0m \u001b[43mparam_scan\u001b[49m\u001b[38;5;241m.\u001b[39mcreate_grid_of_params()\n",
      "\u001b[0;31mNameError\u001b[0m: name 'param_scan' is not defined"
     ]
    }
   ],
   "source": [
    "# --------------------------------------------------------------------------------\n",
    "#                 Setting up Parameter Scan -- 3-dimensions\n",
    "# --------------------------------------------------------------------------------\n",
    "path_results = \"fit_data/\"\n",
    "Npoints = 10\n",
    "\n",
    "# Range of mixings scanned \n",
    "sin2theta4e_Vec = np.geomspace(1e-4, 0.03, Npoints)\n",
    "umu4_Vec = np.geomspace(1e-3, 0.5, Npoints)\n",
    "dm_Vec = np.geomspace(np.sqrt(1e-1), np.sqrt(100), Npoints)\n",
    "\n",
    "\n",
    "# Cartesian product of grid\n",
    "paramlist_decay = create_grid_of_params(g=1, m4=dm_Vec, Ue4Sq=ue4_Vec, Um4Sq=umu4_Vec)\n",
    "\n",
    "# Pure oscillation method\n",
    "func_3Dscan_osc = partial(param_scan.DecayReturnMicroBooNEChi2, oscillations=True, decay=False, decouple_decay=True, disappearance=True, energy_degradation=False)\n",
    "\n",
    "# Designed to run in parallel. Set the argument of \"Pool\" to 1 to disable this.\n",
    "pool = Pool()\n",
    "res = pool.map(func_3Dscan_osc, paramlist_decay)\n",
    "np.save(f\"{path_results}/Oscillation_only_fullmodel\", res)\n",
    "\n",
    "param_scan.create_grid_of_params()"
   ]
  },
  {
   "cell_type": "code",
   "execution_count": null,
   "id": "9c8f25dc-cd6b-40fe-9f32-a3045742bf13",
   "metadata": {},
   "outputs": [],
   "source": []
  }
 ],
 "metadata": {
  "kernelspec": {
   "display_name": "Python [conda env:.conda-darknews-3.10]",
   "language": "python",
   "name": "conda-env-.conda-darknews-3.10-py"
  },
  "language_info": {
   "codemirror_mode": {
    "name": "ipython",
    "version": 3
   },
   "file_extension": ".py",
   "mimetype": "text/x-python",
   "name": "python",
   "nbconvert_exporter": "python",
   "pygments_lexer": "ipython3",
   "version": "3.10.9"
  }
 },
 "nbformat": 4,
 "nbformat_minor": 5
}
