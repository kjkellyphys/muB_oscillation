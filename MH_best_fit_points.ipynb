{
 "cells": [
  {
   "cell_type": "code",
   "execution_count": 1,
   "metadata": {},
   "outputs": [],
   "source": [
    "%load_ext autoreload\n",
    "%autoreload 2"
   ]
  },
  {
   "cell_type": "code",
   "execution_count": 37,
   "metadata": {},
   "outputs": [],
   "source": [
    "import MicroTools.param_scan as param_scan"
   ]
  },
  {
   "cell_type": "markdown",
   "metadata": {},
   "source": [
    "## Oscillation only"
   ]
  },
  {
   "cell_type": "code",
   "execution_count": 54,
   "metadata": {},
   "outputs": [],
   "source": [
    "dic_osc_app = param_scan.load_scan_data('fit_data/MH_apponly_50.pkl')\n",
    "dic_osc_full = param_scan.load_scan_data('fit_data/MH_fullosc_3D_50.pkl')\n"
   ]
  },
  {
   "cell_type": "code",
   "execution_count": 77,
   "metadata": {},
   "outputs": [
    {
     "name": "stdout",
     "output_type": "stream",
     "text": [
      "g = 1e-10\n",
      "dm4SQR = 0.066 eV^2\n",
      "Ue4SQR = 0.21\n",
      "Umu4SQR = 0.5\n",
      "MB chi2 = -32\n",
      "MB pval = 19%\n",
      "Micro deltachi2 = 21\n",
      "\n",
      "g = 1\n",
      "dm4SQR = 0.18 eV^2\n",
      "Ue4SQR = 0.031\n",
      "Umu4SQR = 0.42\n",
      "MB chi2 = -33\n",
      "MB pval = 20%\n",
      "Micro deltachi2 = 21\n",
      "\n",
      "g = 1\n",
      "dm4SQR = 0.23 eV^2\n",
      "Ue4SQR = 0.085\n",
      "Umu4SQR = 0.088\n",
      "MB chi2 = -32\n",
      "MB pval = 16%\n",
      "Micro deltachi2 = 19\n",
      "\n"
     ]
    }
   ],
   "source": [
    "print(param_scan.get_bf_point_definition(dic_osc_app, ndof=9*2+2*8-4))\n",
    "print(param_scan.get_bf_point_definition(dic_osc_full, ndof=9*2+2*8-4))\n",
    "print(param_scan.get_bf_point_definition(dic_osc_full, ndof=9*2+2*8-4, Ue4SQRmax=0.1, Umu4SQRmax=0.1))"
   ]
  },
  {
   "cell_type": "markdown",
   "metadata": {},
   "source": [
    "## Model II (de Gouvea)"
   ]
  },
  {
   "cell_type": "code",
   "execution_count": 78,
   "metadata": {},
   "outputs": [
    {
     "name": "stdout",
     "output_type": "stream",
     "text": [
      "g = 0.001\n",
      "dm4SQR = 2.7e+06 eV^2\n",
      "Ue4SQR = 0\n",
      "Umu4SQR = 0.012\n",
      "MB chi2 = -35\n",
      "MB pval = 2.3%\n",
      "Micro deltachi2 = 20\n",
      "\n",
      "g = 0.001\n",
      "dm4SQR = 8.9e+06 eV^2\n",
      "Ue4SQR = 0.1\n",
      "Umu4SQR = 0.0045\n",
      "MB chi2 = -30\n",
      "MB pval = 0.75%\n",
      "Micro deltachi2 = 19\n",
      "\n"
     ]
    }
   ],
   "source": [
    "print(param_scan.get_bf_point_definition(param_scan.load_scan_data(\"fit_data/MH_decay_gfixed_1e-3_2D_40_conserving_modelII.pkl\")))\n",
    "print(param_scan.get_bf_point_definition(param_scan.load_scan_data(\"fit_data/MH_decay_gfixed_1e-3_Ue4Sq_0.1_2D_40_conserving_modelII.pkl\")))"
   ]
  },
  {
   "cell_type": "code",
   "execution_count": 81,
   "metadata": {},
   "outputs": [
    {
     "name": "stdout",
     "output_type": "stream",
     "text": [
      "g = 0.001\n",
      "dm4SQR = 2.7e+06 eV^2\n",
      "Ue4SQR = 0\n",
      "Umu4SQR = 0.012\n",
      "MB chi2 = -35\n",
      "MB pval = 2.3%\n",
      "Micro deltachi2 = 20\n",
      "\n",
      "g = 0.001\n",
      "dm4SQR = 8.9e+06 eV^2\n",
      "Ue4SQR = 0.1\n",
      "Umu4SQR = 0.0045\n",
      "MB chi2 = -30\n",
      "MB pval = 0.75%\n",
      "Micro deltachi2 = 19\n",
      "\n"
     ]
    }
   ],
   "source": [
    "print(param_scan.get_bf_point_definition(param_scan.load_scan_data(\"fit_data/MH_decay_gfixed_1e-3_2D_40_conserving_modelII.pkl\"), Ue4SQRmax=0.1, Umu4SQRmax=0.1))\n",
    "print(param_scan.get_bf_point_definition(param_scan.load_scan_data(\"fit_data/MH_decay_gfixed_1e-3_Ue4Sq_0.1_2D_40_conserving_modelII.pkl\"), Ue4SQRmax=1, Umu4SQRmax=0.1))"
   ]
  },
  {
   "cell_type": "markdown",
   "metadata": {},
   "source": [
    "## Model I (full scans)"
   ]
  },
  {
   "cell_type": "code",
   "execution_count": 82,
   "metadata": {},
   "outputs": [
    {
     "name": "stdout",
     "output_type": "stream",
     "text": [
      "g = 2.5\n",
      "dm4SQR = 0.1 eV^2\n",
      "Ue4SQR = 0.19\n",
      "Umu4SQR = 0.17\n",
      "MB chi2 = -33\n",
      "MB pval = 1.7%\n",
      "Micro deltachi2 = 20\n",
      "\n",
      "g = 1\n",
      "dm4SQR = 2.4e+02 eV^2\n",
      "Ue4SQR = 0.013\n",
      "Umu4SQR = 0.012\n",
      "MB chi2 = -33\n",
      "MB pval = 1.5%\n",
      "Micro deltachi2 = 23\n",
      "\n",
      "g = 3.04\n",
      "dm4SQR = 0.1 eV^2\n",
      "Ue4SQR = 0.21\n",
      "Umu4SQR = 0.15\n",
      "MB chi2 = -34\n",
      "MB pval = 1.8%\n",
      "Micro deltachi2 = 22\n",
      "\n"
     ]
    }
   ],
   "source": [
    "print(param_scan.get_bf_point_definition(param_scan.load_scan_data(\"fit_data/MH_decay_gfixed_2.5_3D_40.pkl\")))\n",
    "print(param_scan.get_bf_point_definition(param_scan.load_scan_data(\"fit_data/MH_decay_gfixed_1.0_3D_40.pkl\")))\n",
    "print(param_scan.get_bf_point_definition(param_scan.load_scan_data(\"fit_data/MH_decay_4D_30.pkl\")))"
   ]
  },
  {
   "cell_type": "code",
   "execution_count": 85,
   "metadata": {},
   "outputs": [
    {
     "name": "stdout",
     "output_type": "stream",
     "text": [
      "g = 2.5\n",
      "dm4SQR = 29 eV^2\n",
      "Ue4SQR = 0.021\n",
      "Umu4SQR = 0.0098\n",
      "MB chi2 = -33\n",
      "MB pval = 1.6%\n",
      "Micro deltachi2 = 22\n",
      "\n",
      "g = 1\n",
      "dm4SQR = 2.4e+02 eV^2\n",
      "Ue4SQR = 0.013\n",
      "Umu4SQR = 0.012\n",
      "MB chi2 = -33\n",
      "MB pval = 1.5%\n",
      "Micro deltachi2 = 23\n",
      "\n",
      "g = 3.04\n",
      "dm4SQR = 19 eV^2\n",
      "Ue4SQR = 0.02\n",
      "Umu4SQR = 0.011\n",
      "MB chi2 = -33\n",
      "MB pval = 1.5%\n",
      "Micro deltachi2 = 24\n",
      "\n"
     ]
    }
   ],
   "source": [
    "print(param_scan.get_bf_point_definition(param_scan.load_scan_data(\"fit_data/MH_decay_gfixed_2.5_3D_40.pkl\"), Ue4SQRmax=0.1, Umu4SQRmax=0.1))\n",
    "print(param_scan.get_bf_point_definition(param_scan.load_scan_data(\"fit_data/MH_decay_gfixed_1.0_3D_40.pkl\"), Ue4SQRmax=0.1, Umu4SQRmax=0.1))\n",
    "print(param_scan.get_bf_point_definition(param_scan.load_scan_data(\"fit_data/MH_decay_4D_30.pkl\"), Ue4SQRmax=0.1, Umu4SQRmax=0.1))"
   ]
  }
 ],
 "metadata": {
  "kernelspec": {
   "display_name": "darknews",
   "language": "python",
   "name": "python3"
  },
  "language_info": {
   "codemirror_mode": {
    "name": "ipython",
    "version": 3
   },
   "file_extension": ".py",
   "mimetype": "text/x-python",
   "name": "python",
   "nbconvert_exporter": "python",
   "pygments_lexer": "ipython3",
   "version": "3.11.0"
  }
 },
 "nbformat": 4,
 "nbformat_minor": 2
}
