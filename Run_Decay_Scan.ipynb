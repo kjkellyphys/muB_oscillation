{
 "cells": [
  {
   "cell_type": "code",
   "execution_count": 1,
   "metadata": {},
   "outputs": [],
   "source": [
    "%load_ext autoreload\n",
    "%autoreload 2"
   ]
  },
  {
   "cell_type": "code",
   "execution_count": 2,
   "metadata": {},
   "outputs": [],
   "source": [
    "import numpy as np\n",
    "from multiprocessing import Pool\n",
    "import matplotlib.pyplot as plt"
   ]
  },
  {
   "cell_type": "code",
   "execution_count": 3,
   "metadata": {},
   "outputs": [],
   "source": [
    "import MiniTools as mini\n",
    "import MicroTools as micro\n",
    "import param_scan"
   ]
  },
  {
   "cell_type": "code",
   "execution_count": 14,
   "metadata": {},
   "outputs": [],
   "source": [
    "# from MiniTools import fit"
   ]
  },
  {
   "cell_type": "code",
   "execution_count": 11,
   "metadata": {},
   "outputs": [],
   "source": [
    "# --------------------------------------------------------------------------------\n",
    "#                 Setting up Parameter Scan -- 2-dimensions\n",
    "# --------------------------------------------------------------------------------\n",
    "path_results = \"fit_data/\"\n",
    "Npoints = 15\n",
    "\n",
    "# Range of |U_{\\mu4}|^2 scanned over 1e-4 to 1 in 30 steps\n",
    "x_Vec = np.geomspace(1e-4, 0.9, Npoints)\n",
    "\n",
    "# Range of gm4 for sterile decay model scanned over 0.1 to 100 in 30 steps\n",
    "y_Vec = np.geomspace(1e-1, 1e2, Npoints)\n",
    "\n",
    "# Cartesian product of grid\n",
    "paramlist_decay = np.array(np.meshgrid(x_Vec, y_Vec)).T.reshape(-1, 2)"
   ]
  },
  {
   "cell_type": "code",
   "execution_count": 12,
   "metadata": {},
   "outputs": [],
   "source": [
    "# Designed to run in parallel. Set the argument of \"Pool\" to 1 to disable this.\n",
    "pool = Pool()\n",
    "res = pool.map(param_scan.DecayReturnMicroBooNEChi2, paramlist_decay)\n",
    "np.save(f\"{path_results}/App_gm4_Um4sq_migrated_1_v2\", res)"
   ]
  }
 ],
 "metadata": {
  "kernelspec": {
   "display_name": "kjk",
   "language": "python",
   "name": "python3"
  },
  "language_info": {
   "codemirror_mode": {
    "name": "ipython",
    "version": 3
   },
   "file_extension": ".py",
   "mimetype": "text/x-python",
   "name": "python",
   "nbconvert_exporter": "python",
   "pygments_lexer": "ipython3",
   "version": "3.9.15"
  },
  "orig_nbformat": 4
 },
 "nbformat": 4,
 "nbformat_minor": 2
}
