{
 "cells": [
  {
   "cell_type": "code",
   "execution_count": 9,
   "metadata": {},
   "outputs": [
    {
     "name": "stdout",
     "output_type": "stream",
     "text": [
      "The autoreload extension is already loaded. To reload it, use:\n",
      "  %reload_ext autoreload\n"
     ]
    }
   ],
   "source": [
    "%load_ext autoreload\n",
    "%autoreload 2"
   ]
  },
  {
   "cell_type": "code",
   "execution_count": 10,
   "metadata": {},
   "outputs": [],
   "source": [
    "import numpy as np\n",
    "from multiprocessing import Pool\n",
    "import matplotlib.pyplot as plt\n",
    "\n",
    "from functools import partial\n",
    "\n",
    "import param_scan\n"
   ]
  },
  {
   "cell_type": "code",
   "execution_count": 7,
   "metadata": {},
   "outputs": [
    {
     "data": {
      "text/plain": [
       "[<matplotlib.lines.Line2D at 0x7ff7ab718e80>]"
      ]
     },
     "execution_count": 7,
     "metadata": {},
     "output_type": "execute_result"
    },
    {
     "data": {
      "image/png": "[encoded data removed]",
      "text/plain": [
       "<Figure size 432x288 with 1 Axes>"
      ]
     },
     "metadata": {
      "needs_background": "light"
     },
     "output_type": "display_data"
    }
   ],
   "source": [
    "# Test the probabilities\n",
    "theta = {\"g\": 10, \"m4\": np.sqrt(0.3), \"Ue4Sq\": 1e-1, \"Um4Sq\": 1e-1}\n",
    "sterile = param_scan.Sterile(theta, decouple_decay=True, oscillations=True, decay=False)\n",
    "# sterile.Ldec(0.2)\n",
    "# sterile.Losc(0.3)\n",
    "E = np.linspace(0.1, 1, 1000)\n",
    "L = 0.5\n",
    "plt.plot(E, sterile.Pme(E,E,L))\n",
    "plt.plot(E, sterile.Pme_old(E,L), c = 'Orange')"
   ]
  },
  {
   "cell_type": "code",
   "execution_count": 63,
   "metadata": {},
   "outputs": [
    {
     "data": {
      "text/plain": [
       "[<matplotlib.lines.Line2D at 0x7fa462b22a30>]"
      ]
     },
     "execution_count": 63,
     "metadata": {},
     "output_type": "execute_result"
    },
    {
     "data": {
      "image/png": "[encoded data removed]",
      "text/plain": [
       "<Figure size 432x288 with 1 Axes>"
      ]
     },
     "metadata": {
      "needs_background": "light"
     },
     "output_type": "display_data"
    }
   ],
   "source": [
    "# NuE spectra as a function of true energy, w/o and w/ new physics.\n",
    "MuB_True_BinEdges = [\n",
    "    0.200,\n",
    "    0.250,\n",
    "    0.300,\n",
    "    0.350,\n",
    "    0.400,\n",
    "    0.450,\n",
    "    0.500,\n",
    "    0.600,\n",
    "    0.800,\n",
    "    1.000,\n",
    "    1.500,\n",
    "    2.000,\n",
    "    2.500,\n",
    "    3.000,\n",
    "]\n",
    "MCT = [77.71578947, 143.90340557, 196.07832817, 267.13560372, 327.16160991,\n",
    "  373.37368421, 894.8247678, 2112.43839009, 2272.64024768, 5099.22910217,\n",
    "3630.38080495, 2404.02167183, 1456.92260062]\n",
    "#theta = {\"g\": 1, \"m4\": 100, \"Ue4Sq\": 1e-1, \"Um4Sq\": 5e-1}\n",
    "theta = {\"g\": 1, \"m4\": 100, \"Ue4Sq\": 5e-1, \"Um4Sq\": 0.0}\n",
    "sterile = param_scan.Sterile(theta, decouple_decay=False, oscillations=True, decay=True)\n",
    "# sterile.Ldec(0.2)\n",
    "# sterile.Losc(0.3)\n",
    "Ebin = np.linspace(0, 3, 51)\n",
    "L = 0.5\n",
    "PeeRW = []\n",
    "PeeRWn1 = []\n",
    "\n",
    "PeeRW_deg = np.zeros((len(MCT), len(MCT)))\n",
    "PeeRW_degn1 = np.zeros((len(MCT), len(MCT)))\n",
    "PeeRW_osc = []\n",
    "# degradation piece\n",
    "for k in range(len(MCT)):\n",
    "    for i in range(k + 1):\n",
    "        Peedecay = sterile.Peedecay(MuB_True_BinEdges[k], MuB_True_BinEdges[k + 1], MuB_True_BinEdges[i], MuB_True_BinEdges[i + 1], L, noffset=0)\n",
    "        PeeRW_deg[k][i] = Peedecay * MCT[i] / (MuB_True_BinEdges[i + 1] - MuB_True_BinEdges[i])\n",
    "\n",
    "        Peedecayn1 = sterile.Peedecay(MuB_True_BinEdges[k], MuB_True_BinEdges[k + 1], MuB_True_BinEdges[i], MuB_True_BinEdges[i + 1], L, noffset=10000)\n",
    "        PeeRW_degn1[k][i] = Peedecayn1 * MCT[i] / (MuB_True_BinEdges[i + 1] - MuB_True_BinEdges[i])\n",
    "PeeRW_sum = np.sum(PeeRW_deg, axis=0)\n",
    "PeeRW_sumn1 = np.sum(PeeRW_degn1, axis=0)\n",
    "\n",
    "# oscillation piece\n",
    "for i in range(len(MCT)):\n",
    "    Peeosc = sterile.Peeosc(MuB_True_BinEdges[i], MuB_True_BinEdges[i + 1], L)\n",
    "    PeeRW_osc.append(Peeosc * MCT[i] / (MuB_True_BinEdges[i + 1] - MuB_True_BinEdges[i]))\n",
    "\n",
    "# Normalize MCT-event rate/GeV\n",
    "MCT_norm = []\n",
    "for i in range(len(MCT)):\n",
    "    MCT_norm.append(MCT[i] / (MuB_True_BinEdges[i + 1] - MuB_True_BinEdges[i]))\n",
    "PeeRW = PeeRW_sum + PeeRW_osc\n",
    "PeeRWn1 = PeeRW_sumn1 + PeeRW_osc\n",
    "\n",
    "\n",
    "\n",
    "#PeeRW_unnorm = sterile.EnergyDegradation(MCT, MuB_True_BinEdges, 'Pee')\n",
    "plt.step(MuB_True_BinEdges[1:], MCT_norm, color='#666666', ls='-', lw=2)\n",
    "plt.step(MuB_True_BinEdges[1:], PeeRW, color='dodgerblue', ls='-', lw=2)\n",
    "plt.step(MuB_True_BinEdges[1:], PeeRWn1, color='dodgerblue', ls=':', lw=2)\n",
    "plt.step(MuB_True_BinEdges[1:], PeeRW_osc, color='dodgerblue', ls='--', lw=2)\n",
    "#plt.step(MuB_True_BinEdges[1:], PeeRW_unnorm)\n",
    "#plt.step(MuB_True_BinEdges[1:], PeeRW_sum1, label = 'n = 1 (default)')\n",
    "#plt.step(MuB_True_BinEdges[1:], PeeRW_sum2, label = 'n = 2')\n",
    "#plt.step(MuB_True_BinEdges[1:], PeeRW_sum3, label = 'n = 3')\n",
    "#plt.xlabel('True energy(GeV)')\n",
    "#plt.ylabel('Events/GeV')\n",
    "#plt.title('NuE spectrum (decay term) with different degradation power(n)')\n",
    "#plt.legend()\n",
    "\n",
    "#plt.step(MuB_True_BinEdges[1:], PeeRW_osc)\n",
    "#plt.step(MuB_True_BinEdges[1:], PeeRW_deg[5])\n",
    "#plt.step(MuB_True_BinEdges[1:], PeeRW_deg[7])\n",
    "#plt.step(MuB_True_BinEdges[1:], PeeRW_deg[9])"
   ]
  },
  {
   "cell_type": "code",
   "execution_count": 121,
   "metadata": {},
   "outputs": [
    {
     "data": {
      "text/plain": [
       "[<matplotlib.lines.Line2D at 0x7f79aac2feb0>]"
      ]
     },
     "execution_count": 121,
     "metadata": {},
     "output_type": "execute_result"
    },
    {
     "data": {
      "image/png": "[encoded data removed]",
      "text/plain": [
       "<Figure size 432x288 with 1 Axes>"
      ]
     },
     "metadata": {
      "needs_background": "light"
     },
     "output_type": "display_data"
    }
   ],
   "source": [
    "# NuE spectra as a function of true energy, w/o and w/ new physics.\n",
    "MuB_True_BinEdges = [\n",
    "    0.200,\n",
    "    0.250,\n",
    "    0.300,\n",
    "    0.350,\n",
    "    0.400,\n",
    "    0.450,\n",
    "    0.500,\n",
    "    0.600,\n",
    "    0.800,\n",
    "    1.000,\n",
    "    1.500,\n",
    "    2.000,\n",
    "    2.500,\n",
    "    3.000,\n",
    "]\n",
    "MCT = [77.71578947, 143.90340557, 196.07832817, 267.13560372, 327.16160991,\n",
    "  373.37368421, 894.8247678, 2112.43839009, 2272.64024768, 5099.22910217,\n",
    "3630.38080495, 2404.02167183, 1456.92260062]\n",
    "#theta = {\"g\": 1, \"m4\": 100, \"Ue4Sq\": 1e-1, \"Um4Sq\": 5e-1}\n",
    "theta = {\"g\": 1, \"m4\": 100, \"Ue4Sq\": 5e-1, \"Um4Sq\": 1e-1}\n",
    "sterile = param_scan.Sterile(theta, decouple_decay=False, oscillations=True, decay=True)\n",
    "# sterile.Ldec(0.2)\n",
    "# sterile.Losc(0.3)\n",
    "Ebin = np.linspace(0, 3, 51)\n",
    "L = 0.5\n",
    "PeeRW = []\n",
    "PeeRWn1 = []\n",
    "\n",
    "PeeRW_deg = np.zeros((len(MCT), len(MCT)))\n",
    "PeeRW_degn1 = np.zeros((len(MCT), len(MCT)))\n",
    "PeeRW_osc = []\n",
    "# degradation piece\n",
    "for k in range(len(MCT)):\n",
    "    for i in range(k + 1):\n",
    "        Peedecay = sterile.Peedecay(MuB_True_BinEdges[k], MuB_True_BinEdges[k + 1], MuB_True_BinEdges[i], MuB_True_BinEdges[i + 1], L, noffset=10000)\n",
    "        PeeRW_deg[k][i] = Peedecay * MCT[i] / (MuB_True_BinEdges[i + 1] - MuB_True_BinEdges[i])\n",
    "\n",
    "        Peedecayn1 = sterile.Peedecay(MuB_True_BinEdges[k], MuB_True_BinEdges[k + 1], MuB_True_BinEdges[i], MuB_True_BinEdges[i + 1], L, noffset=1)\n",
    "        PeeRW_degn1[k][i] = Peedecayn1 * MCT[i] / (MuB_True_BinEdges[i + 1] - MuB_True_BinEdges[i])\n",
    "PeeRW_sum = np.sum(PeeRW_deg, axis=0)\n",
    "PeeRW_sumn1 = np.sum(PeeRW_degn1, axis=0)\n",
    "\n",
    "# oscillation piece\n",
    "for i in range(len(MCT)):\n",
    "    Peeosc = sterile.Peeosc(MuB_True_BinEdges[i], MuB_True_BinEdges[i + 1], L)\n",
    "    PeeRW_osc.append(Peeosc * MCT[i] / (MuB_True_BinEdges[i + 1] - MuB_True_BinEdges[i]))\n",
    "\n",
    "# Normalize MCT-event rate/GeV\n",
    "MCT_norm = []\n",
    "for i in range(len(MCT)):\n",
    "    MCT_norm.append(MCT[i] / (MuB_True_BinEdges[i + 1] - MuB_True_BinEdges[i]))\n",
    "PeeRW = PeeRW_sum + PeeRW_osc\n",
    "PeeRWn1 = PeeRW_sumn1 + PeeRW_osc\n",
    "\n",
    "\n",
    "\n",
    "#PeeRW_unnorm = sterile.EnergyDegradation(MCT, MuB_True_BinEdges, 'Pee')\n",
    "#plt.step(MuB_True_BinEdges[1:], MCT_norm, color='#666666', ls='-', lw=2)\n",
    "plt.step(MuB_True_BinEdges[1:], PeeRW, color='dodgerblue', ls='-', lw=2)\n",
    "plt.step(MuB_True_BinEdges[1:], PeeRWn1, color='dodgerblue', ls=':', lw=2)\n",
    "#plt.step(MuB_True_BinEdges[1:], PeeRW_osc, color='dodgerblue', ls='--', lw=2)\n",
    "#plt.step(MuB_True_BinEdges[1:], PeeRW_unnorm)\n",
    "#plt.step(MuB_True_BinEdges[1:], PeeRW_sum1, label = 'n = 1 (default)')\n",
    "#plt.step(MuB_True_BinEdges[1:], PeeRW_sum2, label = 'n = 2')\n",
    "#plt.step(MuB_True_BinEdges[1:], PeeRW_sum3, label = 'n = 3')\n",
    "#plt.xlabel('True energy(GeV)')\n",
    "#plt.ylabel('Events/GeV')\n",
    "#plt.title('NuE spectrum (decay term) with different degradation power(n)')\n",
    "#plt.legend()\n",
    "#plt.gca().axis([0.5, 1.5, 8000, 12000])\n",
    "#plt.step(MuB_True_BinEdges[1:], PeeRW_osc)\n",
    "#plt.step(MuB_True_BinEdges[1:], PeeRW_deg[5])\n",
    "#plt.step(MuB_True_BinEdges[1:], PeeRW_deg[7])\n",
    "#plt.step(MuB_True_BinEdges[1:], PeeRW_deg[9])"
   ]
  },
  {
   "cell_type": "code",
   "execution_count": 5,
   "metadata": {},
   "outputs": [
    {
     "data": {
      "text/plain": [
       "[<matplotlib.lines.Line2D at 0x12dcb7610>]"
      ]
     },
     "execution_count": 5,
     "metadata": {},
     "output_type": "execute_result"
    },
    {
     "data": {
      "image/png": "[encoded data removed]",
      "text/plain": [
       "<Figure size 640x480 with 1 Axes>"
      ]
     },
     "metadata": {},
     "output_type": "display_data"
    }
   ],
   "source": [
    "# NuE spectra w/ and w/o energy degradation\n",
    "PeeRW_old = []\n",
    "for k in range(len(MCT)):\n",
    "    RWFact = sterile.PeeAvg(MuB_True_BinEdges[k], MuB_True_BinEdges[k + 1], L)\n",
    "    PeeRW_old.append(MCT[k] * RWFact / (MuB_True_BinEdges[k + 1] - MuB_True_BinEdges[k]))\n",
    "plt.step(MuB_True_BinEdges[1:], PeeRW_old)\n",
    "plt.step(MuB_True_BinEdges[1:], PeeRW)"
   ]
  },
  {
   "cell_type": "markdown",
   "metadata": {},
   "source": [
    "## Run some scans"
   ]
  },
  {
   "cell_type": "code",
   "execution_count": 11,
   "metadata": {},
   "outputs": [],
   "source": [
    "def create_grid_of_params(g, m4, Ue4Sq, Um4Sq):\n",
    "    paramlist_decay = np.array(np.meshgrid(g, m4, Ue4Sq, Um4Sq)).T.reshape(-1, 4)\n",
    "    return [{\"g\": g, \"m4\": m4, \"Ue4Sq\": Ue4Sq, \"Um4Sq\": Um4Sq} for g, m4, Ue4Sq, Um4Sq in paramlist_decay]"
   ]
  },
  {
   "cell_type": "markdown",
   "metadata": {},
   "source": [
    "### 2D scans"
   ]
  },
  {
   "cell_type": "markdown",
   "metadata": {},
   "source": [
    "De Gouvea's case"
   ]
  },
  {
   "cell_type": "code",
   "execution_count": 10,
   "metadata": {},
   "outputs": [],
   "source": [
    "# --------------------------------------------------------------------------------\n",
    "#                 Setting up Parameter Scan -- 2-dimensions\n",
    "# --------------------------------------------------------------------------------\n",
    "path_results = \"fit_data/\"\n",
    "Npoints = 10\n",
    "\n",
    "# Range of |U_{\\mu4}|^2 scanned over 1e-4 to 1 in 30 steps\n",
    "x_Vec = np.geomspace(1e-4, 0.9, Npoints)\n",
    "\n",
    "# Range of gm4 for sterile decay model scanned over 0.1 to 100 in 30 steps\n",
    "y_Vec = np.geomspace(1e-1, 1e2, Npoints)\n",
    "\n",
    "# Cartesian product of grid\n",
    "paramlist_decay = create_grid_of_params(g=1, m4=y_Vec, Ue4Sq=1e-1, Um4Sq=x_Vec)\n",
    "\n",
    "func_2Dscan_deGouvea = partial(param_scan.DecayReturnMicroBooNEChi2, oscillations=False, decay=True, decouple_decay=True)\n",
    "\n",
    "# Designed to run in parallel. Set the argument of \"Pool\" to 1 to disable this.\n",
    "pool = Pool()\n",
    "res = pool.map(func_2Dscan_deGouvea, paramlist_decay)\n",
    "np.save(f\"{path_results}/App_gm4_Um4sq_deGouvea\", res)"
   ]
  },
  {
   "cell_type": "markdown",
   "metadata": {},
   "source": [
    "Pure oscillation case"
   ]
  },
  {
   "cell_type": "code",
   "execution_count": 22,
   "metadata": {},
   "outputs": [],
   "source": [
    "# --------------------------------------------------------------------------------\n",
    "#                 Setting up Parameter Scan -- 2-dimensions\n",
    "# --------------------------------------------------------------------------------\n",
    "path_results = \"fit_data/\"\n",
    "Npoints = 15\n",
    "\n",
    "# Range of |U_{\\mu4}|^2 scanned over 1e-4 to 1 in 30 steps\n",
    "x_Vec = np.geomspace(1e-4, 0.89, Npoints)\n",
    "\n",
    "# Range of m4 for sterile decay model scanned over 0.1 to 100 in 30 steps\n",
    "y_Vec = np.geomspace(1e-1, 1e2, Npoints)\n",
    "\n",
    "# Cartesian product of grid\n",
    "paramlist_decay = create_grid_of_params(g=1, m4=y_Vec, Ue4Sq=1e-1, Um4Sq=x_Vec)\n",
    "\n",
    "# Pure oscillation method\n",
    "func_2Dscan_osc = partial(param_scan.DecayReturnMicroBooNEChi2, oscillations=True, decay=False, decouple_decay=True, disappearance=False, energy_degradation=False)\n",
    "\n",
    "# Designed to run in parallel. Set the argument of \"Pool\" to 1 to disable this.\n",
    "pool = Pool()\n",
    "res = pool.map(func_2Dscan_osc, paramlist_decay)\n",
    "np.save(f\"{path_results}/App_gm4_Um4sq_osc_decay_deg_g=1_Ue4Sq=0.1_osc_22\", res)"
   ]
  },
  {
   "cell_type": "markdown",
   "metadata": {},
   "source": [
    "Oscillation + Decay"
   ]
  },
  {
   "cell_type": "code",
   "execution_count": 18,
   "metadata": {},
   "outputs": [],
   "source": [
    "# --------------------------------------------------------------------------------\n",
    "#                 Setting up Parameter Scan -- 2-dimensions\n",
    "# --------------------------------------------------------------------------------\n",
    "path_results = \"fit_data/\"\n",
    "Npoints = 15\n",
    "\n",
    "# Range of |U_{\\mu4}|^2 scanned over 1e-4 to 1 in 30 steps\n",
    "x_Vec = np.geomspace(1e-4, 0.94, Npoints)\n",
    "\n",
    "# Range of m4 for sterile decay model scanned over 0.1 to 100 in 30 steps\n",
    "y_Vec = np.geomspace(1e-1, 1e2, Npoints)\n",
    "\n",
    "# Cartesian product of grid\n",
    "paramlist_decay = create_grid_of_params(g=0.1, m4=y_Vec, Ue4Sq=5e-2, Um4Sq=x_Vec)\n",
    "\n",
    "# Pure oscillation method\n",
    "func_2Dscan_osc = partial(param_scan.DecayReturnMicroBooNEChi2, oscillations=True, decay=True, decouple_decay=False, disappearance=True, energy_degradation=True)\n",
    "\n",
    "# Designed to run in parallel. Set the argument of \"Pool\" to 1 to disable this.\n",
    "pool = Pool()\n",
    "res = pool.map(func_2Dscan_osc, paramlist_decay)\n",
    "np.save(f\"{path_results}/App_gm4_Um4sq_osc_decay_deg_g=0.1_Ue4Sq=0.1_dec_3\", res)"
   ]
  },
  {
   "cell_type": "code",
   "execution_count": 6,
   "metadata": {},
   "outputs": [],
   "source": [
    "# --------------------------------------------------------------------------------\n",
    "#                 Setting up Parameter Scan -- 3-dimensions\n",
    "# --------------------------------------------------------------------------------\n",
    "path_results = \"fit_data/\"\n",
    "Npoints = 3\n",
    "\n",
    "# Range of gm4 for sterile decay model scanned over 0.1 to 1000\n",
    "gm_Vec = np.geomspace(1e-1, 1e2, Npoints)\n",
    "\n",
    "# Range of |U_{e4}|^2 scanned over 1e-4 to 1\n",
    "e_Vec = np.geomspace(1e-4, 0.49, Npoints)\n",
    "\n",
    "# Range of |U_{\\mu4}|^2 scanned over 1e-4 to 1\n",
    "mu_Vec = np.geomspace(1e-4, 0.49, Npoints)\n",
    "\n",
    "# Cartesian product of grid\n",
    "paramlist_decay = create_grid_of_params(g=1, m4=gm_Vec, Ue4Sq=e_Vec, Um4Sq=mu_Vec)\n",
    "\n",
    "# Pure oscillation method\n",
    "func_3Dscan_decay = partial(param_scan.DecayReturnMicroBooNEChi2, oscillations=True, decay=True)\n",
    "\n",
    "# Designed to run in parallel. Set the argument of \"Pool\" to 1 to disable this.\n",
    "pool = Pool()\n",
    "res = pool.map(func_3Dscan_decay, paramlist_decay)\n",
    "np.save(f\"{path_results}/App_gm4_Ue4sq_Um4sq_test\", res)"
   ]
  },
  {
   "cell_type": "code",
   "execution_count": 129,
   "metadata": {},
   "outputs": [],
   "source": [
    "# --------------------------------------------------------------------------------\n",
    "#                 Setting up Parameter Scan -- 4-dimensions\n",
    "# --------------------------------------------------------------------------------\n",
    "# Note: |U_{e4}|^2 + |U_{\\mu4}|^2 < 1\n",
    "path_results = \"fit_data/\"\n",
    "Npoints = 15\n",
    "\n",
    "# Range of gm4 for sterile decay model scanned over 0.1 to 1000\n",
    "g_Vec = np.geomspace(1e-1, 1e2, Npoints)\n",
    "\n",
    "# Range of m4 for sterile decay model scanned over 10 to 1000 eV\n",
    "m_Vec = np.geomspace(1e-1, 1e2, Npoints)\n",
    "\n",
    "# Range of |U_{e4}|^2 scanned over 1e-4 to 1\n",
    "e_Vec = np.geomspace(1e-4, 0.49, Npoints)\n",
    "\n",
    "# Range of |U_{\\mu4}|^2 scanned over 1e-4 to 1\n",
    "mu_Vec = np.geomspace(1e-4, 0.49, Npoints)\n",
    "\n",
    "# Cartesian product of grid\n",
    "paramlist_decay = create_grid_of_params(g=g_Vec, m4=m_Vec, Ue4Sq=e_Vec, Um4Sq=mu_Vec)\n",
    "\n",
    "# Pure oscillation method\n",
    "func_3Dscan_decay = partial(param_scan.DecayReturnMicroBooNEChi2, oscillations=True, decay=True)\n",
    "\n",
    "# Designed to run in parallel. Set the argument of \"Pool\" to 1 to disable this.\n",
    "pool = Pool()\n",
    "res = pool.map(func_3Dscan_decay, paramlist_decay)\n",
    "np.save(f\"{path_results}/App_g_m4_Ue4sq_Um4sq_deg\", res)"
   ]
  },
  {
   "cell_type": "markdown",
   "metadata": {},
   "source": [
    "### Deprecated\n",
    "\n",
    "THis code needs to adapted to the method above."
   ]
  },
  {
   "cell_type": "code",
   "execution_count": 73,
   "metadata": {},
   "outputs": [
    {
     "name": "stdout",
     "output_type": "stream",
     "text": [
      "[[1.00000000e-01 1.00000000e-04 1.00000000e-04]\n",
      " [1.00000000e-01 1.83478607e-04 1.00000000e-04]\n",
      " [1.00000000e-01 3.36643992e-04 1.00000000e-04]\n",
      " ...\n",
      " [1.00000000e+05 1.45554357e-01 4.90000000e-01]\n",
      " [1.00000000e+05 2.67061108e-01 4.90000000e-01]\n",
      " [1.00000000e+05 4.90000000e-01 4.90000000e-01]]\n"
     ]
    }
   ],
   "source": [
    "# --------------------------------------------------------------------------------\n",
    "#                 Setting up Parameter Scan -- 3-dimensions\n",
    "# --------------------------------------------------------------------------------\n",
    "path_results = \"fit_data/\"\n",
    "Npoints = 15\n",
    "\n",
    "# Range of gm4 for sterile decay model scanned over 0.1 to 100\n",
    "gm_Vec = np.geomspace(1e-1, 1e3, Npoints)\n",
    "\n",
    "# Range of |U_{e4}|^2 scanned over 1e-4 to 1\n",
    "e_Vec = np.geomspace(1e-4, 0.49, Npoints)\n",
    "\n",
    "# Range of |U_{\\mu4}|^2 scanned over 1e-4 to 1\n",
    "mu_Vec = np.geomspace(1e-4, 0.49, Npoints)\n",
    "\n",
    "# Cartesian product of grid\n",
    "paramlist_decay = np.array(np.meshgrid(gm_Vec, e_Vec, mu_Vec)).T.reshape(-1, 3)\n",
    "print(paramlist_decay)\n",
    "\n",
    "# Designed to run in parallel. Set the argument of \"Pool\" to 1 to disable this.\n",
    "pool = Pool()\n",
    "res = pool.map(param_scan.DecayReturnMicroBooNEChi2_3D, paramlist_decay)\n",
    "np.save(f\"{path_results}/App_gm4_Ue4sq_Um4sq_migrated_v3_15*15*15\", res)"
   ]
  },
  {
   "cell_type": "code",
   "execution_count": 72,
   "metadata": {},
   "outputs": [
    {
     "name": "stdout",
     "output_type": "stream",
     "text": [
      "[[1.00000000e-01 1.00000000e-01 1.00000000e-04]\n",
      " [1.63789371e-01 1.00000000e-01 1.00000000e-04]\n",
      " [2.68269580e-01 1.00000000e-01 1.00000000e-04]\n",
      " [4.39397056e-01 1.00000000e-01 1.00000000e-04]\n",
      " [7.19685673e-01 1.00000000e-01 1.00000000e-04]\n",
      " [1.17876863e+00 1.00000000e-01 1.00000000e-04]\n",
      " [1.93069773e+00 1.00000000e-01 1.00000000e-04]\n",
      " [3.16227766e+00 1.00000000e-01 1.00000000e-04]\n",
      " [5.17947468e+00 1.00000000e-01 1.00000000e-04]\n",
      " [8.48342898e+00 1.00000000e-01 1.00000000e-04]\n",
      " [1.38949549e+01 1.00000000e-01 1.00000000e-04]\n",
      " [2.27584593e+01 1.00000000e-01 1.00000000e-04]\n",
      " [3.72759372e+01 1.00000000e-01 1.00000000e-04]\n",
      " [6.10540230e+01 1.00000000e-01 1.00000000e-04]\n",
      " [1.00000000e+02 1.00000000e-01 1.00000000e-04]\n",
      " [1.00000000e-01 1.00000000e-01 1.83478607e-04]\n",
      " [1.63789371e-01 1.00000000e-01 1.83478607e-04]\n",
      " [2.68269580e-01 1.00000000e-01 1.83478607e-04]\n",
      " [4.39397056e-01 1.00000000e-01 1.83478607e-04]\n",
      " [7.19685673e-01 1.00000000e-01 1.83478607e-04]\n",
      " [1.17876863e+00 1.00000000e-01 1.83478607e-04]\n",
      " [1.93069773e+00 1.00000000e-01 1.83478607e-04]\n",
      " [3.16227766e+00 1.00000000e-01 1.83478607e-04]\n",
      " [5.17947468e+00 1.00000000e-01 1.83478607e-04]\n",
      " [8.48342898e+00 1.00000000e-01 1.83478607e-04]\n",
      " [1.38949549e+01 1.00000000e-01 1.83478607e-04]\n",
      " [2.27584593e+01 1.00000000e-01 1.83478607e-04]\n",
      " [3.72759372e+01 1.00000000e-01 1.83478607e-04]\n",
      " [6.10540230e+01 1.00000000e-01 1.83478607e-04]\n",
      " [1.00000000e+02 1.00000000e-01 1.83478607e-04]\n",
      " [1.00000000e-01 1.00000000e-01 3.36643992e-04]\n",
      " [1.63789371e-01 1.00000000e-01 3.36643992e-04]\n",
      " [2.68269580e-01 1.00000000e-01 3.36643992e-04]\n",
      " [4.39397056e-01 1.00000000e-01 3.36643992e-04]\n",
      " [7.19685673e-01 1.00000000e-01 3.36643992e-04]\n",
      " [1.17876863e+00 1.00000000e-01 3.36643992e-04]\n",
      " [1.93069773e+00 1.00000000e-01 3.36643992e-04]\n",
      " [3.16227766e+00 1.00000000e-01 3.36643992e-04]\n",
      " [5.17947468e+00 1.00000000e-01 3.36643992e-04]\n",
      " [8.48342898e+00 1.00000000e-01 3.36643992e-04]\n",
      " [1.38949549e+01 1.00000000e-01 3.36643992e-04]\n",
      " [2.27584593e+01 1.00000000e-01 3.36643992e-04]\n",
      " [3.72759372e+01 1.00000000e-01 3.36643992e-04]\n",
      " [6.10540230e+01 1.00000000e-01 3.36643992e-04]\n",
      " [1.00000000e+02 1.00000000e-01 3.36643992e-04]\n",
      " [1.00000000e-01 1.00000000e-01 6.17669708e-04]\n",
      " [1.63789371e-01 1.00000000e-01 6.17669708e-04]\n",
      " [2.68269580e-01 1.00000000e-01 6.17669708e-04]\n",
      " [4.39397056e-01 1.00000000e-01 6.17669708e-04]\n",
      " [7.19685673e-01 1.00000000e-01 6.17669708e-04]\n",
      " [1.17876863e+00 1.00000000e-01 6.17669708e-04]\n",
      " [1.93069773e+00 1.00000000e-01 6.17669708e-04]\n",
      " [3.16227766e+00 1.00000000e-01 6.17669708e-04]\n",
      " [5.17947468e+00 1.00000000e-01 6.17669708e-04]\n",
      " [8.48342898e+00 1.00000000e-01 6.17669708e-04]\n",
      " [1.38949549e+01 1.00000000e-01 6.17669708e-04]\n",
      " [2.27584593e+01 1.00000000e-01 6.17669708e-04]\n",
      " [3.72759372e+01 1.00000000e-01 6.17669708e-04]\n",
      " [6.10540230e+01 1.00000000e-01 6.17669708e-04]\n",
      " [1.00000000e+02 1.00000000e-01 6.17669708e-04]\n",
      " [1.00000000e-01 1.00000000e-01 1.13329178e-03]\n",
      " [1.63789371e-01 1.00000000e-01 1.13329178e-03]\n",
      " [2.68269580e-01 1.00000000e-01 1.13329178e-03]\n",
      " [4.39397056e-01 1.00000000e-01 1.13329178e-03]\n",
      " [7.19685673e-01 1.00000000e-01 1.13329178e-03]\n",
      " [1.17876863e+00 1.00000000e-01 1.13329178e-03]\n",
      " [1.93069773e+00 1.00000000e-01 1.13329178e-03]\n",
      " [3.16227766e+00 1.00000000e-01 1.13329178e-03]\n",
      " [5.17947468e+00 1.00000000e-01 1.13329178e-03]\n",
      " [8.48342898e+00 1.00000000e-01 1.13329178e-03]\n",
      " [1.38949549e+01 1.00000000e-01 1.13329178e-03]\n",
      " [2.27584593e+01 1.00000000e-01 1.13329178e-03]\n",
      " [3.72759372e+01 1.00000000e-01 1.13329178e-03]\n",
      " [6.10540230e+01 1.00000000e-01 1.13329178e-03]\n",
      " [1.00000000e+02 1.00000000e-01 1.13329178e-03]\n",
      " [1.00000000e-01 1.00000000e-01 2.07934796e-03]\n",
      " [1.63789371e-01 1.00000000e-01 2.07934796e-03]\n",
      " [2.68269580e-01 1.00000000e-01 2.07934796e-03]\n",
      " [4.39397056e-01 1.00000000e-01 2.07934796e-03]\n",
      " [7.19685673e-01 1.00000000e-01 2.07934796e-03]\n",
      " [1.17876863e+00 1.00000000e-01 2.07934796e-03]\n",
      " [1.93069773e+00 1.00000000e-01 2.07934796e-03]\n",
      " [3.16227766e+00 1.00000000e-01 2.07934796e-03]\n",
      " [5.17947468e+00 1.00000000e-01 2.07934796e-03]\n",
      " [8.48342898e+00 1.00000000e-01 2.07934796e-03]\n",
      " [1.38949549e+01 1.00000000e-01 2.07934796e-03]\n",
      " [2.27584593e+01 1.00000000e-01 2.07934796e-03]\n",
      " [3.72759372e+01 1.00000000e-01 2.07934796e-03]\n",
      " [6.10540230e+01 1.00000000e-01 2.07934796e-03]\n",
      " [1.00000000e+02 1.00000000e-01 2.07934796e-03]\n",
      " [1.00000000e-01 1.00000000e-01 3.81515868e-03]\n",
      " [1.63789371e-01 1.00000000e-01 3.81515868e-03]\n",
      " [2.68269580e-01 1.00000000e-01 3.81515868e-03]\n",
      " [4.39397056e-01 1.00000000e-01 3.81515868e-03]\n",
      " [7.19685673e-01 1.00000000e-01 3.81515868e-03]\n",
      " [1.17876863e+00 1.00000000e-01 3.81515868e-03]\n",
      " [1.93069773e+00 1.00000000e-01 3.81515868e-03]\n",
      " [3.16227766e+00 1.00000000e-01 3.81515868e-03]\n",
      " [5.17947468e+00 1.00000000e-01 3.81515868e-03]\n",
      " [8.48342898e+00 1.00000000e-01 3.81515868e-03]\n",
      " [1.38949549e+01 1.00000000e-01 3.81515868e-03]\n",
      " [2.27584593e+01 1.00000000e-01 3.81515868e-03]\n",
      " [3.72759372e+01 1.00000000e-01 3.81515868e-03]\n",
      " [6.10540230e+01 1.00000000e-01 3.81515868e-03]\n",
      " [1.00000000e+02 1.00000000e-01 3.81515868e-03]\n",
      " [1.00000000e-01 1.00000000e-01 7.00000000e-03]\n",
      " [1.63789371e-01 1.00000000e-01 7.00000000e-03]\n",
      " [2.68269580e-01 1.00000000e-01 7.00000000e-03]\n",
      " [4.39397056e-01 1.00000000e-01 7.00000000e-03]\n",
      " [7.19685673e-01 1.00000000e-01 7.00000000e-03]\n",
      " [1.17876863e+00 1.00000000e-01 7.00000000e-03]\n",
      " [1.93069773e+00 1.00000000e-01 7.00000000e-03]\n",
      " [3.16227766e+00 1.00000000e-01 7.00000000e-03]\n",
      " [5.17947468e+00 1.00000000e-01 7.00000000e-03]\n",
      " [8.48342898e+00 1.00000000e-01 7.00000000e-03]\n",
      " [1.38949549e+01 1.00000000e-01 7.00000000e-03]\n",
      " [2.27584593e+01 1.00000000e-01 7.00000000e-03]\n",
      " [3.72759372e+01 1.00000000e-01 7.00000000e-03]\n",
      " [6.10540230e+01 1.00000000e-01 7.00000000e-03]\n",
      " [1.00000000e+02 1.00000000e-01 7.00000000e-03]\n",
      " [1.00000000e-01 1.00000000e-01 1.28435025e-02]\n",
      " [1.63789371e-01 1.00000000e-01 1.28435025e-02]\n",
      " [2.68269580e-01 1.00000000e-01 1.28435025e-02]\n",
      " [4.39397056e-01 1.00000000e-01 1.28435025e-02]\n",
      " [7.19685673e-01 1.00000000e-01 1.28435025e-02]\n",
      " [1.17876863e+00 1.00000000e-01 1.28435025e-02]\n",
      " [1.93069773e+00 1.00000000e-01 1.28435025e-02]\n",
      " [3.16227766e+00 1.00000000e-01 1.28435025e-02]\n",
      " [5.17947468e+00 1.00000000e-01 1.28435025e-02]\n",
      " [8.48342898e+00 1.00000000e-01 1.28435025e-02]\n",
      " [1.38949549e+01 1.00000000e-01 1.28435025e-02]\n",
      " [2.27584593e+01 1.00000000e-01 1.28435025e-02]\n",
      " [3.72759372e+01 1.00000000e-01 1.28435025e-02]\n",
      " [6.10540230e+01 1.00000000e-01 1.28435025e-02]\n",
      " [1.00000000e+02 1.00000000e-01 1.28435025e-02]\n",
      " [1.00000000e-01 1.00000000e-01 2.35650795e-02]\n",
      " [1.63789371e-01 1.00000000e-01 2.35650795e-02]\n",
      " [2.68269580e-01 1.00000000e-01 2.35650795e-02]\n",
      " [4.39397056e-01 1.00000000e-01 2.35650795e-02]\n",
      " [7.19685673e-01 1.00000000e-01 2.35650795e-02]\n",
      " [1.17876863e+00 1.00000000e-01 2.35650795e-02]\n",
      " [1.93069773e+00 1.00000000e-01 2.35650795e-02]\n",
      " [3.16227766e+00 1.00000000e-01 2.35650795e-02]\n",
      " [5.17947468e+00 1.00000000e-01 2.35650795e-02]\n",
      " [8.48342898e+00 1.00000000e-01 2.35650795e-02]\n",
      " [1.38949549e+01 1.00000000e-01 2.35650795e-02]\n",
      " [2.27584593e+01 1.00000000e-01 2.35650795e-02]\n",
      " [3.72759372e+01 1.00000000e-01 2.35650795e-02]\n",
      " [6.10540230e+01 1.00000000e-01 2.35650795e-02]\n",
      " [1.00000000e+02 1.00000000e-01 2.35650795e-02]\n",
      " [1.00000000e-01 1.00000000e-01 4.32368795e-02]\n",
      " [1.63789371e-01 1.00000000e-01 4.32368795e-02]\n",
      " [2.68269580e-01 1.00000000e-01 4.32368795e-02]\n",
      " [4.39397056e-01 1.00000000e-01 4.32368795e-02]\n",
      " [7.19685673e-01 1.00000000e-01 4.32368795e-02]\n",
      " [1.17876863e+00 1.00000000e-01 4.32368795e-02]\n",
      " [1.93069773e+00 1.00000000e-01 4.32368795e-02]\n",
      " [3.16227766e+00 1.00000000e-01 4.32368795e-02]\n",
      " [5.17947468e+00 1.00000000e-01 4.32368795e-02]\n",
      " [8.48342898e+00 1.00000000e-01 4.32368795e-02]\n",
      " [1.38949549e+01 1.00000000e-01 4.32368795e-02]\n",
      " [2.27584593e+01 1.00000000e-01 4.32368795e-02]\n",
      " [3.72759372e+01 1.00000000e-01 4.32368795e-02]\n",
      " [6.10540230e+01 1.00000000e-01 4.32368795e-02]\n",
      " [1.00000000e+02 1.00000000e-01 4.32368795e-02]\n",
      " [1.00000000e-01 1.00000000e-01 7.93304243e-02]\n",
      " [1.63789371e-01 1.00000000e-01 7.93304243e-02]\n",
      " [2.68269580e-01 1.00000000e-01 7.93304243e-02]\n",
      " [4.39397056e-01 1.00000000e-01 7.93304243e-02]\n",
      " [7.19685673e-01 1.00000000e-01 7.93304243e-02]\n",
      " [1.17876863e+00 1.00000000e-01 7.93304243e-02]\n",
      " [1.93069773e+00 1.00000000e-01 7.93304243e-02]\n",
      " [3.16227766e+00 1.00000000e-01 7.93304243e-02]\n",
      " [5.17947468e+00 1.00000000e-01 7.93304243e-02]\n",
      " [8.48342898e+00 1.00000000e-01 7.93304243e-02]\n",
      " [1.38949549e+01 1.00000000e-01 7.93304243e-02]\n",
      " [2.27584593e+01 1.00000000e-01 7.93304243e-02]\n",
      " [3.72759372e+01 1.00000000e-01 7.93304243e-02]\n",
      " [6.10540230e+01 1.00000000e-01 7.93304243e-02]\n",
      " [1.00000000e+02 1.00000000e-01 7.93304243e-02]\n",
      " [1.00000000e-01 1.00000000e-01 1.45554357e-01]\n",
      " [1.63789371e-01 1.00000000e-01 1.45554357e-01]\n",
      " [2.68269580e-01 1.00000000e-01 1.45554357e-01]\n",
      " [4.39397056e-01 1.00000000e-01 1.45554357e-01]\n",
      " [7.19685673e-01 1.00000000e-01 1.45554357e-01]\n",
      " [1.17876863e+00 1.00000000e-01 1.45554357e-01]\n",
      " [1.93069773e+00 1.00000000e-01 1.45554357e-01]\n",
      " [3.16227766e+00 1.00000000e-01 1.45554357e-01]\n",
      " [5.17947468e+00 1.00000000e-01 1.45554357e-01]\n",
      " [8.48342898e+00 1.00000000e-01 1.45554357e-01]\n",
      " [1.38949549e+01 1.00000000e-01 1.45554357e-01]\n",
      " [2.27584593e+01 1.00000000e-01 1.45554357e-01]\n",
      " [3.72759372e+01 1.00000000e-01 1.45554357e-01]\n",
      " [6.10540230e+01 1.00000000e-01 1.45554357e-01]\n",
      " [1.00000000e+02 1.00000000e-01 1.45554357e-01]\n",
      " [1.00000000e-01 1.00000000e-01 2.67061108e-01]\n",
      " [1.63789371e-01 1.00000000e-01 2.67061108e-01]\n",
      " [2.68269580e-01 1.00000000e-01 2.67061108e-01]\n",
      " [4.39397056e-01 1.00000000e-01 2.67061108e-01]\n",
      " [7.19685673e-01 1.00000000e-01 2.67061108e-01]\n",
      " [1.17876863e+00 1.00000000e-01 2.67061108e-01]\n",
      " [1.93069773e+00 1.00000000e-01 2.67061108e-01]\n",
      " [3.16227766e+00 1.00000000e-01 2.67061108e-01]\n",
      " [5.17947468e+00 1.00000000e-01 2.67061108e-01]\n",
      " [8.48342898e+00 1.00000000e-01 2.67061108e-01]\n",
      " [1.38949549e+01 1.00000000e-01 2.67061108e-01]\n",
      " [2.27584593e+01 1.00000000e-01 2.67061108e-01]\n",
      " [3.72759372e+01 1.00000000e-01 2.67061108e-01]\n",
      " [6.10540230e+01 1.00000000e-01 2.67061108e-01]\n",
      " [1.00000000e+02 1.00000000e-01 2.67061108e-01]\n",
      " [1.00000000e-01 1.00000000e-01 4.90000000e-01]\n",
      " [1.63789371e-01 1.00000000e-01 4.90000000e-01]\n",
      " [2.68269580e-01 1.00000000e-01 4.90000000e-01]\n",
      " [4.39397056e-01 1.00000000e-01 4.90000000e-01]\n",
      " [7.19685673e-01 1.00000000e-01 4.90000000e-01]\n",
      " [1.17876863e+00 1.00000000e-01 4.90000000e-01]\n",
      " [1.93069773e+00 1.00000000e-01 4.90000000e-01]\n",
      " [3.16227766e+00 1.00000000e-01 4.90000000e-01]\n",
      " [5.17947468e+00 1.00000000e-01 4.90000000e-01]\n",
      " [8.48342898e+00 1.00000000e-01 4.90000000e-01]\n",
      " [1.38949549e+01 1.00000000e-01 4.90000000e-01]\n",
      " [2.27584593e+01 1.00000000e-01 4.90000000e-01]\n",
      " [3.72759372e+01 1.00000000e-01 4.90000000e-01]\n",
      " [6.10540230e+01 1.00000000e-01 4.90000000e-01]\n",
      " [1.00000000e+02 1.00000000e-01 4.90000000e-01]]\n"
     ]
    }
   ],
   "source": [
    "# ---------------------------------------------------------------------------------------------\n",
    "#                 Setting up Parameter Scan -- 3-dimensions with 1 parameter fixed\n",
    "# ---------------------------------------------------------------------------------------------\n",
    "path_results = \"fit_data/\"\n",
    "Npoints = 15\n",
    "\n",
    "# Range of |U_{\\mu4}|^2 scanned over 1e-4 to 1 in 30 steps\n",
    "mu_Vec = np.geomspace(1e-4, 0.49, Npoints)\n",
    "\n",
    "# Range of gm4 for sterile decay model scanned over 0.1 to 100 in 30 steps\n",
    "gm_Vec = np.geomspace(1e-1, 1e2, Npoints)\n",
    "\n",
    "# Cartesian product of grid\n",
    "paramlist_decay = np.array(np.meshgrid(gm_Vec, 1e-1, mu_Vec)).T.reshape(-1, 3)\n",
    "print(paramlist_decay)\n",
    "\n",
    "# Designed to run in parallel. Set the argument of \"Pool\" to 1 to disable this.\n",
    "pool = Pool()\n",
    "res = pool.map(param_scan.DecayReturnMicroBooNEChi2_3D, paramlist_decay)\n",
    "np.save(f\"{path_results}/Fixed_Ue4sq_1e-2_15*15_v3\", res)"
   ]
  },
  {
   "cell_type": "code",
   "execution_count": 69,
   "metadata": {},
   "outputs": [
    {
     "name": "stdout",
     "output_type": "stream",
     "text": [
      "[[1.00000000e-01 1.00000000e+03 1.00000000e-04 1.00000000e-04]\n",
      " [1.63789371e-01 1.00000000e+03 1.00000000e-04 1.00000000e-04]\n",
      " [2.68269580e-01 1.00000000e+03 1.00000000e-04 1.00000000e-04]\n",
      " ...\n",
      " [3.72759372e+01 1.00000000e+03 4.90000000e-01 4.90000000e-01]\n",
      " [6.10540230e+01 1.00000000e+03 4.90000000e-01 4.90000000e-01]\n",
      " [1.00000000e+02 1.00000000e+03 4.90000000e-01 4.90000000e-01]]\n"
     ]
    }
   ],
   "source": [
    "# ---------------------------------------------------------------------------------------------\n",
    "#                 Setting up Parameter Scan -- 4-dimensions with 1 parameter fixed\n",
    "# ---------------------------------------------------------------------------------------------\n",
    "path_results = \"fit_data/\"\n",
    "Npoints = 15\n",
    "\n",
    "m4 = 1e3\n",
    "\n",
    "# Range of |U_{\\mu4}|^2 scanned over 1e-4 to 0.5 in 15 steps\n",
    "mu_Vec = np.geomspace(1e-4, 0.49, Npoints)\n",
    "\n",
    "# Range of g for sterile decay model scanned over 0.1 to 100 in 15 steps\n",
    "g_Vec = np.geomspace(1e-1, 1e2, Npoints)\n",
    "\n",
    "# Range of |U_{e4}|^2 scanned over 1e-4 to 0.5 in 15 steps\n",
    "e_Vec = np.geomspace(1e-4, 0.49, Npoints)\n",
    "\n",
    "# Cartesian product of grid\n",
    "paramlist_decay = np.array(np.meshgrid(g_Vec, m4, e_Vec, mu_Vec)).T.reshape(-1, 4)\n",
    "print(paramlist_decay)\n",
    "\n",
    "# Designed to run in parallel. Set the argument of \"Pool\" to 1 to disable this.\n",
    "pool = Pool()\n",
    "res = pool.map(param_scan.DecayReturnMicroBooNEChi2_4D, paramlist_decay)\n",
    "np.save(f\"{path_results}/Fixed_m4_1e3_15*15*15_v1\", res)"
   ]
  },
  {
   "cell_type": "code",
   "execution_count": null,
   "metadata": {},
   "outputs": [],
   "source": []
  }
 ],
 "metadata": {
  "kernelspec": {
   "display_name": "Python 3",
   "language": "python",
   "name": "python3"
  },
  "language_info": {
   "codemirror_mode": {
    "name": "ipython",
    "version": 3
   },
   "file_extension": ".py",
   "mimetype": "text/x-python",
   "name": "python",
   "nbconvert_exporter": "python",
   "pygments_lexer": "ipython3",
   "version": "3.8.5"
  }
 },
 "nbformat": 4,
 "nbformat_minor": 2
}
