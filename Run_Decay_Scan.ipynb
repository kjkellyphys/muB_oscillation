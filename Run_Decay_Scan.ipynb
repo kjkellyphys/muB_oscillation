{
 "cells": [
  {
   "cell_type": "code",
   "execution_count": 2,
   "metadata": {},
   "outputs": [],
   "source": [
    "%load_ext autoreload\n",
    "%autoreload 2"
   ]
  },
  {
   "cell_type": "code",
   "execution_count": 3,
   "metadata": {},
   "outputs": [],
   "source": [
    "import numpy as np\n",
    "from multiprocessing import Pool\n",
    "import matplotlib.pyplot as plt"
   ]
  },
  {
   "cell_type": "code",
   "execution_count": 4,
   "metadata": {},
   "outputs": [],
   "source": [
    "import MiniTools as mini\n",
    "import MicroTools as micro\n",
    "import param_scan"
   ]
  },
  {
   "cell_type": "code",
   "execution_count": 5,
   "metadata": {},
   "outputs": [
    {
     "name": "stdout",
     "output_type": "stream",
     "text": [
      "[0.2   0.3   0.375 0.475 0.55  0.675 0.8   0.95  1.1   1.3   1.5   3.   ]\n",
      "[0.2, 0.25, 0.3, 0.35, 0.4, 0.45, 0.5, 0.6, 0.8, 1.0, 1.5, 2.0, 2.5, 3.0]\n"
     ]
    }
   ],
   "source": [
    "print(mini.bin_edges_reco)\n",
    "print(micro.bin_edges_reco)"
   ]
  },
  {
   "cell_type": "code",
   "execution_count": 6,
   "metadata": {},
   "outputs": [
    {
     "data": {
      "text/plain": [
       "208945.81184273175"
      ]
     },
     "execution_count": 6,
     "metadata": {},
     "output_type": "execute_result"
    }
   ],
   "source": [
    "param_scan.Weight.sum()/len(param_scan.Weight)"
   ]
  },
  {
   "cell_type": "code",
   "execution_count": 7,
   "metadata": {},
   "outputs": [
    {
     "ename": "ValueError",
     "evalue": "x and y must have same first dimension, but have shapes (11,) and (5,)",
     "output_type": "error",
     "traceback": [
      "\u001b[0;31m---------------------------------------------------------------------------\u001b[0m",
      "\u001b[0;31mValueError\u001b[0m                                Traceback (most recent call last)",
      "\u001b[1;32m/Users/matheushostert/Repos/muB_oscillation/Run_Decay_Scan.ipynb Cell 6\u001b[0m line \u001b[0;36m3\n\u001b[1;32m      <a href='vscode-notebook-cell:/Users/matheushostert/Repos/muB_oscillation/Run_Decay_Scan.ipynb#W5sZmlsZQ%3D%3D?line=0'>1</a>\u001b[0m \u001b[39m# %%prun\u001b[39;00m\n\u001b[1;32m      <a href='vscode-notebook-cell:/Users/matheushostert/Repos/muB_oscillation/Run_Decay_Scan.ipynb#W5sZmlsZQ%3D%3D?line=1'>2</a>\u001b[0m data \u001b[39m=\u001b[39m param_scan\u001b[39m.\u001b[39mDecayReturnMicroBooNEChi2([\u001b[39m100\u001b[39m, \u001b[39m1\u001b[39m])\n\u001b[0;32m----> <a href='vscode-notebook-cell:/Users/matheushostert/Repos/muB_oscillation/Run_Decay_Scan.ipynb#W5sZmlsZQ%3D%3D?line=2'>3</a>\u001b[0m plt\u001b[39m.\u001b[39;49mplot(param_scan\u001b[39m.\u001b[39;49mMB_Ereco_official_bins[:\u001b[39m-\u001b[39;49m\u001b[39m1\u001b[39;49m], data)\u001b[39m#/np.diff(param_scan.MB_Ereco_official_bins)/1e3)\u001b[39;00m\n",
      "File \u001b[0;32m/usr/local/anaconda3/envs/py39/lib/python3.9/site-packages/matplotlib/pyplot.py:2812\u001b[0m, in \u001b[0;36mplot\u001b[0;34m(scalex, scaley, data, *args, **kwargs)\u001b[0m\n\u001b[1;32m   2810\u001b[0m \u001b[39m@_copy_docstring_and_deprecators\u001b[39m(Axes\u001b[39m.\u001b[39mplot)\n\u001b[1;32m   2811\u001b[0m \u001b[39mdef\u001b[39;00m \u001b[39mplot\u001b[39m(\u001b[39m*\u001b[39margs, scalex\u001b[39m=\u001b[39m\u001b[39mTrue\u001b[39;00m, scaley\u001b[39m=\u001b[39m\u001b[39mTrue\u001b[39;00m, data\u001b[39m=\u001b[39m\u001b[39mNone\u001b[39;00m, \u001b[39m*\u001b[39m\u001b[39m*\u001b[39mkwargs):\n\u001b[0;32m-> 2812\u001b[0m     \u001b[39mreturn\u001b[39;00m gca()\u001b[39m.\u001b[39;49mplot(\n\u001b[1;32m   2813\u001b[0m         \u001b[39m*\u001b[39;49margs, scalex\u001b[39m=\u001b[39;49mscalex, scaley\u001b[39m=\u001b[39;49mscaley,\n\u001b[1;32m   2814\u001b[0m         \u001b[39m*\u001b[39;49m\u001b[39m*\u001b[39;49m({\u001b[39m\"\u001b[39;49m\u001b[39mdata\u001b[39;49m\u001b[39m\"\u001b[39;49m: data} \u001b[39mif\u001b[39;49;00m data \u001b[39mis\u001b[39;49;00m \u001b[39mnot\u001b[39;49;00m \u001b[39mNone\u001b[39;49;00m \u001b[39melse\u001b[39;49;00m {}), \u001b[39m*\u001b[39;49m\u001b[39m*\u001b[39;49mkwargs)\n",
      "File \u001b[0;32m/usr/local/anaconda3/envs/py39/lib/python3.9/site-packages/matplotlib/axes/_axes.py:1688\u001b[0m, in \u001b[0;36mAxes.plot\u001b[0;34m(self, scalex, scaley, data, *args, **kwargs)\u001b[0m\n\u001b[1;32m   1445\u001b[0m \u001b[39m\u001b[39m\u001b[39m\"\"\"\u001b[39;00m\n\u001b[1;32m   1446\u001b[0m \u001b[39mPlot y versus x as lines and/or markers.\u001b[39;00m\n\u001b[1;32m   1447\u001b[0m \n\u001b[0;32m   (...)\u001b[0m\n\u001b[1;32m   1685\u001b[0m \u001b[39m(``'green'``) or hex strings (``'#008000'``).\u001b[39;00m\n\u001b[1;32m   1686\u001b[0m \u001b[39m\"\"\"\u001b[39;00m\n\u001b[1;32m   1687\u001b[0m kwargs \u001b[39m=\u001b[39m cbook\u001b[39m.\u001b[39mnormalize_kwargs(kwargs, mlines\u001b[39m.\u001b[39mLine2D)\n\u001b[0;32m-> 1688\u001b[0m lines \u001b[39m=\u001b[39m [\u001b[39m*\u001b[39m\u001b[39mself\u001b[39m\u001b[39m.\u001b[39m_get_lines(\u001b[39m*\u001b[39margs, data\u001b[39m=\u001b[39mdata, \u001b[39m*\u001b[39m\u001b[39m*\u001b[39mkwargs)]\n\u001b[1;32m   1689\u001b[0m \u001b[39mfor\u001b[39;00m line \u001b[39min\u001b[39;00m lines:\n\u001b[1;32m   1690\u001b[0m     \u001b[39mself\u001b[39m\u001b[39m.\u001b[39madd_line(line)\n",
      "File \u001b[0;32m/usr/local/anaconda3/envs/py39/lib/python3.9/site-packages/matplotlib/axes/_base.py:311\u001b[0m, in \u001b[0;36m_process_plot_var_args.__call__\u001b[0;34m(self, data, *args, **kwargs)\u001b[0m\n\u001b[1;32m    309\u001b[0m     this \u001b[39m+\u001b[39m\u001b[39m=\u001b[39m args[\u001b[39m0\u001b[39m],\n\u001b[1;32m    310\u001b[0m     args \u001b[39m=\u001b[39m args[\u001b[39m1\u001b[39m:]\n\u001b[0;32m--> 311\u001b[0m \u001b[39myield from\u001b[39;00m \u001b[39mself\u001b[39;49m\u001b[39m.\u001b[39;49m_plot_args(\n\u001b[1;32m    312\u001b[0m     this, kwargs, ambiguous_fmt_datakey\u001b[39m=\u001b[39;49mambiguous_fmt_datakey)\n",
      "File \u001b[0;32m/usr/local/anaconda3/envs/py39/lib/python3.9/site-packages/matplotlib/axes/_base.py:504\u001b[0m, in \u001b[0;36m_process_plot_var_args._plot_args\u001b[0;34m(self, tup, kwargs, return_kwargs, ambiguous_fmt_datakey)\u001b[0m\n\u001b[1;32m    501\u001b[0m     \u001b[39mself\u001b[39m\u001b[39m.\u001b[39maxes\u001b[39m.\u001b[39myaxis\u001b[39m.\u001b[39mupdate_units(y)\n\u001b[1;32m    503\u001b[0m \u001b[39mif\u001b[39;00m x\u001b[39m.\u001b[39mshape[\u001b[39m0\u001b[39m] \u001b[39m!=\u001b[39m y\u001b[39m.\u001b[39mshape[\u001b[39m0\u001b[39m]:\n\u001b[0;32m--> 504\u001b[0m     \u001b[39mraise\u001b[39;00m \u001b[39mValueError\u001b[39;00m(\u001b[39mf\u001b[39m\u001b[39m\"\u001b[39m\u001b[39mx and y must have same first dimension, but \u001b[39m\u001b[39m\"\u001b[39m\n\u001b[1;32m    505\u001b[0m                      \u001b[39mf\u001b[39m\u001b[39m\"\u001b[39m\u001b[39mhave shapes \u001b[39m\u001b[39m{\u001b[39;00mx\u001b[39m.\u001b[39mshape\u001b[39m}\u001b[39;00m\u001b[39m and \u001b[39m\u001b[39m{\u001b[39;00my\u001b[39m.\u001b[39mshape\u001b[39m}\u001b[39;00m\u001b[39m\"\u001b[39m)\n\u001b[1;32m    506\u001b[0m \u001b[39mif\u001b[39;00m x\u001b[39m.\u001b[39mndim \u001b[39m>\u001b[39m \u001b[39m2\u001b[39m \u001b[39mor\u001b[39;00m y\u001b[39m.\u001b[39mndim \u001b[39m>\u001b[39m \u001b[39m2\u001b[39m:\n\u001b[1;32m    507\u001b[0m     \u001b[39mraise\u001b[39;00m \u001b[39mValueError\u001b[39;00m(\u001b[39mf\u001b[39m\u001b[39m\"\u001b[39m\u001b[39mx and y can be no greater than 2D, but have \u001b[39m\u001b[39m\"\u001b[39m\n\u001b[1;32m    508\u001b[0m                      \u001b[39mf\u001b[39m\u001b[39m\"\u001b[39m\u001b[39mshapes \u001b[39m\u001b[39m{\u001b[39;00mx\u001b[39m.\u001b[39mshape\u001b[39m}\u001b[39;00m\u001b[39m and \u001b[39m\u001b[39m{\u001b[39;00my\u001b[39m.\u001b[39mshape\u001b[39m}\u001b[39;00m\u001b[39m\"\u001b[39m)\n",
      "\u001b[0;31mValueError\u001b[0m: x and y must have same first dimension, but have shapes (11,) and (5,)"
     ]
    },
    {
     "data": {
      "image/png": "[encoded data removed]",
      "text/plain": [
       "<Figure size 640x480 with 1 Axes>"
      ]
     },
     "metadata": {},
     "output_type": "display_data"
    }
   ],
   "source": [
    "# %%prun\n",
    "data = param_scan.DecayReturnMicroBooNEChi2([100, 1])\n",
    "plt.plot(param_scan.MB_Ereco_official_bins[:-1], data)#/np.diff(param_scan.MB_Ereco_official_bins)/1e3)"
   ]
  },
  {
   "cell_type": "code",
   "execution_count": null,
   "metadata": {},
   "outputs": [],
   "source": [
    "import copy\n",
    "# Load the MiniBooNE MC from data release\n",
    "MiniBooNE_Signal = micro.mb_mc_data_release\n",
    "MB_Ereco_Bins = micro.bin_edges_reco\n",
    "LMBT = 0.4685  # Baseline length in kilometers\n",
    "Ereco = MiniBooNE_Signal[:, 0] / 1000  # GeV\n",
    "Etrue = MiniBooNE_Signal[:, 1] / 1000  # GeV\n",
    "Length = MiniBooNE_Signal[:, 2] / 100000  # Kilometers\n",
    "# Reweighted by a factor of 1/24860 to match Pedro's signal rate\n",
    "Weight = MiniBooNE_Signal[:, 3]\n",
    "\n",
    "# Set up a migration matrix that maps Etrue to Ereco with shape of (50,13)\n",
    "e_prod_e_int_bins = np.linspace(0, 3, 51)\n",
    "h0_unnorm = np.histogram2d(\n",
    "    Etrue, Ereco, bins=[e_prod_e_int_bins, MB_Ereco_Bins], weights=Weight\n",
    ")[0]\n",
    "migration_matrix = copy.deepcopy(h0_unnorm)\n",
    "\n",
    "gm4, Um4Sq = 1, 1e-3\n",
    "sterile = param_scan.Sterile(gm4, 0, Um4Sq)\n",
    "# Flavor transition probabilities -- Assuming nu4 decays only into nue\n",
    "Pme = Um4Sq * sterile.Pdecay(Etrue, Length)\n",
    "Pmm = 1 - Um4Sq * sterile.Pdecay(Etrue, Length)\n",
    "\n",
    "Etrue_ext, Etrue_int, Weight_int = param_scan.create_Etrue_and_Weight_int()\n",
    "\n",
    "Weight_int = Weight_int\n",
    "\n",
    "# # Calculate the MiniBooNE chi2\n",
    "# MBSig_for_MBfit = np.dot(\n",
    "#     (np.histogram(Etrue_int, bins=e_prod_e_int_bins, weights=Weight_int)[0]),\n",
    "#     param_scan.migration_matrix_official_bins,\n",
    "# )\n",
    "\n",
    "# MB_chi2 = mini.fit.chi2_MiniBooNE_2020(MBSig_for_MBfit)\n"
   ]
  },
  {
   "cell_type": "code",
   "execution_count": null,
   "metadata": {},
   "outputs": [
    {
     "data": {
      "text/plain": [
       "array([0.518847  , 0.50860715, 0.5332256 , ..., 0.50574088, 0.53443652,\n",
       "       0.51996619])"
      ]
     },
     "execution_count": 68,
     "metadata": {},
     "output_type": "execute_result"
    }
   ],
   "source": [
    "param_scan.Length"
   ]
  },
  {
   "cell_type": "code",
   "execution_count": null,
   "metadata": {},
   "outputs": [
    {
     "data": {
      "text/plain": [
       "[<matplotlib.lines.Line2D at 0x16a5a7af0>]"
      ]
     },
     "execution_count": 67,
     "metadata": {},
     "output_type": "execute_result"
    },
    {
     "data": {
      "image/png": "[encoded data removed]",
      "text/plain": [
       "<Figure size 640x480 with 1 Axes>"
      ]
     },
     "metadata": {},
     "output_type": "display_data"
    }
   ],
   "source": [
    "plt.plot(e_prod_e_int_bins[:-1], np.histogram(param_scan.Etrue, bins=e_prod_e_int_bins, weights=param_scan.Weight)[0])\n",
    "plt.plot(param_scan.MB_Ereco_official_bins[:-1], np.dot(np.histogram(param_scan.Etrue, bins=e_prod_e_int_bins, weights=param_scan.Weight)[0], param_scan.migration_matrix_official_bins))"
   ]
  },
  {
   "cell_type": "code",
   "execution_count": 8,
   "metadata": {},
   "outputs": [
    {
     "data": {
      "text/plain": [
       "[[1.0878221673318857,\n",
       "  10.20956028402181,\n",
       "  782.2838563722214,\n",
       "  2261.3228049471054,\n",
       "  3473.3163858507337,\n",
       "  4094.053668745482,\n",
       "  4376.158896109556,\n",
       "  4099.522727015532,\n",
       "  3481.8193756961246,\n",
       "  2781.960499075674,\n",
       "  2132.171381539117,\n",
       "  1642.7412239626196,\n",
       "  1124.408928074895,\n",
       "  740.2979202967454,\n",
       "  518.432096778758,\n",
       "  374.87948974884523,\n",
       "  219.56043916496031,\n",
       "  137.5945352250522,\n",
       "  114.35106873735992,\n",
       "  72.16552436785801,\n",
       "  40.44902092231546,\n",
       "  23.273406563307294,\n",
       "  16.16763234183862,\n",
       "  14.89018979497081,\n",
       "  7.3752347561018725,\n",
       "  34.19154843915697],\n",
       " [9.560859090429402,\n",
       "  169.6303986293983,\n",
       "  2269.735971312234,\n",
       "  5788.461459310346,\n",
       "  8849.313615811183,\n",
       "  10112.115483541384,\n",
       "  9874.002191989728,\n",
       "  8861.808612408502,\n",
       "  7286.841706647117,\n",
       "  5769.409614712997,\n",
       "  4409.581997134867,\n",
       "  3105.2133498045355,\n",
       "  2245.6941113226385,\n",
       "  1598.4598772065126,\n",
       "  1040.5069013169389,\n",
       "  780.5972415250163,\n",
       "  550.4280411641789,\n",
       "  390.80760186113963,\n",
       "  288.0433362876673,\n",
       "  204.1912085564645,\n",
       "  158.60247734284445,\n",
       "  126.66641345121651,\n",
       "  90.88804187166323,\n",
       "  75.22939054263131,\n",
       "  56.92603391265295,\n",
       "  233.31290686760244]]"
      ]
     },
     "execution_count": 8,
     "metadata": {},
     "output_type": "execute_result"
    }
   ],
   "source": [
    "from MicroTools.InclusiveTools.inclusive_osc_tools import DecayMuBNuMuDis\n",
    "gm4, Um4Sq = 1, 1e-3\n",
    "DecayMuBNuMuDis(gm4, Um4Sq)"
   ]
  },
  {
   "cell_type": "code",
   "execution_count": 35,
   "metadata": {},
   "outputs": [],
   "source": [
    "# --------------------------------------------------------------------------------\n",
    "#                 Setting up Parameter Scan -- 2-dimensions\n",
    "# --------------------------------------------------------------------------------\n",
    "path_results = \"fit_data/\"\n",
    "Npoints = 30\n",
    "\n",
    "# Range of |U_{\\mu4}|^2 scanned over 1e-4 to 1 in 30 steps\n",
    "x_Vec = np.geomspace(1e-4, 1, Npoints)\n",
    "\n",
    "# Range of gm4 for sterile decay model scanned over 0.1 to 100 in 30 steps\n",
    "y_Vec = np.geomspace(1e-1, 1e2, Npoints)\n",
    "\n",
    "# Cartesian product of grid\n",
    "paramlist_decay = np.array(np.meshgrid(x_Vec, y_Vec)).T.reshape(-1, 2)"
   ]
  },
  {
   "cell_type": "code",
   "execution_count": 36,
   "metadata": {},
   "outputs": [],
   "source": [
    "# Designed to run in parallel. Set the argument of \"Pool\" to 1 to disable this.\n",
    "pool = Pool()\n",
    "res = pool.map(param_scan.DecayReturnMicroBooNEChi2, paramlist_decay)\n",
    "np.save(f\"{path_results}/App_gm4_Um4sq_migrated_1_v2\", res)"
   ]
  },
  {
   "cell_type": "code",
   "execution_count": null,
   "metadata": {},
   "outputs": [],
   "source": []
  }
 ],
 "metadata": {
  "kernelspec": {
   "display_name": "kjk",
   "language": "python",
   "name": "python3"
  },
  "language_info": {
   "codemirror_mode": {
    "name": "ipython",
    "version": 3
   },
   "file_extension": ".py",
   "mimetype": "text/x-python",
   "name": "python",
   "nbconvert_exporter": "python",
   "pygments_lexer": "ipython3",
   "version": "3.9.15"
  },
  "orig_nbformat": 4
 },
 "nbformat": 4,
 "nbformat_minor": 2
}
