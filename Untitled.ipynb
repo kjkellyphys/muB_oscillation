{
 "cells": [
  {
   "cell_type": "code",
   "execution_count": 2,
   "metadata": {},
   "outputs": [],
   "source": [
    "%load_ext autoreload\n",
    "%autoreload 2"
   ]
  },
  {
   "cell_type": "code",
   "execution_count": 3,
   "metadata": {},
   "outputs": [
    {
     "name": "stdout",
     "output_type": "stream",
     "text": [
      "[[1.00000000e-01 1.00000000e-04 1.00000000e-04]\n",
      " [1.00000000e-01 7.00000000e-03 1.00000000e-04]\n",
      " [1.00000000e-01 4.90000000e-01 1.00000000e-04]\n",
      " [3.16227766e+00 1.00000000e-04 1.00000000e-04]\n",
      " [3.16227766e+00 7.00000000e-03 1.00000000e-04]\n",
      " [3.16227766e+00 4.90000000e-01 1.00000000e-04]\n",
      " [1.00000000e+02 1.00000000e-04 1.00000000e-04]\n",
      " [1.00000000e+02 7.00000000e-03 1.00000000e-04]\n",
      " [1.00000000e+02 4.90000000e-01 1.00000000e-04]\n",
      " [1.00000000e-01 1.00000000e-04 7.00000000e-03]\n",
      " [1.00000000e-01 7.00000000e-03 7.00000000e-03]\n",
      " [1.00000000e-01 4.90000000e-01 7.00000000e-03]\n",
      " [3.16227766e+00 1.00000000e-04 7.00000000e-03]\n",
      " [3.16227766e+00 7.00000000e-03 7.00000000e-03]\n",
      " [3.16227766e+00 4.90000000e-01 7.00000000e-03]\n",
      " [1.00000000e+02 1.00000000e-04 7.00000000e-03]\n",
      " [1.00000000e+02 7.00000000e-03 7.00000000e-03]\n",
      " [1.00000000e+02 4.90000000e-01 7.00000000e-03]\n",
      " [1.00000000e-01 1.00000000e-04 4.90000000e-01]\n",
      " [1.00000000e-01 7.00000000e-03 4.90000000e-01]\n",
      " [1.00000000e-01 4.90000000e-01 4.90000000e-01]\n",
      " [3.16227766e+00 1.00000000e-04 4.90000000e-01]\n",
      " [3.16227766e+00 7.00000000e-03 4.90000000e-01]\n",
      " [3.16227766e+00 4.90000000e-01 4.90000000e-01]\n",
      " [1.00000000e+02 1.00000000e-04 4.90000000e-01]\n",
      " [1.00000000e+02 7.00000000e-03 4.90000000e-01]\n",
      " [1.00000000e+02 4.90000000e-01 4.90000000e-01]]\n"
     ]
    },
    {
     "ename": "AttributeError",
     "evalue": "module 'param_scan' has no attribute 'DecayReturnMicroBooNEChi2_3D'",
     "output_type": "error",
     "traceback": [
      "\u001b[0;31m---------------------------------------------------------------------------\u001b[0m",
      "\u001b[0;31mAttributeError\u001b[0m                            Traceback (most recent call last)",
      "\u001b[0;32m<ipython-input-3-ccf194d467fe>\u001b[0m in \u001b[0;36m<module>\u001b[0;34m\u001b[0m\n\u001b[1;32m     27\u001b[0m \u001b[0;31m# Designed to run in parallel. Set the argument of \"Pool\" to 1 to disable this.\u001b[0m\u001b[0;34m\u001b[0m\u001b[0;34m\u001b[0m\u001b[0;34m\u001b[0m\u001b[0m\n\u001b[1;32m     28\u001b[0m \u001b[0mpool\u001b[0m \u001b[0;34m=\u001b[0m \u001b[0mPool\u001b[0m\u001b[0;34m(\u001b[0m\u001b[0;34m)\u001b[0m\u001b[0;34m\u001b[0m\u001b[0;34m\u001b[0m\u001b[0m\n\u001b[0;32m---> 29\u001b[0;31m \u001b[0mres\u001b[0m \u001b[0;34m=\u001b[0m \u001b[0mpool\u001b[0m\u001b[0;34m.\u001b[0m\u001b[0mmap\u001b[0m\u001b[0;34m(\u001b[0m\u001b[0mparam_scan\u001b[0m\u001b[0;34m.\u001b[0m\u001b[0mDecayReturnMicroBooNEChi2_3D\u001b[0m\u001b[0;34m,\u001b[0m \u001b[0mparamlist_decay\u001b[0m\u001b[0;34m)\u001b[0m\u001b[0;34m\u001b[0m\u001b[0;34m\u001b[0m\u001b[0m\n\u001b[0m\u001b[1;32m     30\u001b[0m \u001b[0mnp\u001b[0m\u001b[0;34m.\u001b[0m\u001b[0msave\u001b[0m\u001b[0;34m(\u001b[0m\u001b[0;34mf\"{path_results}/test\"\u001b[0m\u001b[0;34m,\u001b[0m \u001b[0mres\u001b[0m\u001b[0;34m)\u001b[0m\u001b[0;34m\u001b[0m\u001b[0;34m\u001b[0m\u001b[0m\n",
      "\u001b[0;31mAttributeError\u001b[0m: module 'param_scan' has no attribute 'DecayReturnMicroBooNEChi2_3D'"
     ]
    }
   ],
   "source": [
    "import numpy as np\n",
    "from multiprocessing import Pool\n",
    "import matplotlib.pyplot as plt\n",
    "import MiniTools as mini\n",
    "import MicroTools as micro\n",
    "import param_scan\n",
    "from scipy.special import expi\n",
    "# --------------------------------------------------------------------------------\n",
    "#                 Setting up Parameter Scan -- 3-dimensions\n",
    "# --------------------------------------------------------------------------------\n",
    "path_results = \"fit_data/\"\n",
    "Npoints = 3\n",
    "\n",
    "# Range of gm4 for sterile decay model scanned over 0.1 to 100\n",
    "gm_Vec = np.geomspace(1e-1, 1e2, Npoints)\n",
    "\n",
    "# Range of |U_{e4}|^2 scanned over 1e-4 to 1\n",
    "e_Vec = np.geomspace(1e-4, 0.49, Npoints)\n",
    "\n",
    "# Range of |U_{\\mu4}|^2 scanned over 1e-4 to 1\n",
    "mu_Vec = np.geomspace(1e-4, 0.49, Npoints)\n",
    "\n",
    "# Cartesian product of grid\n",
    "paramlist_decay = np.array(np.meshgrid(gm_Vec, e_Vec, mu_Vec)).T.reshape(-1, 3)\n",
    "print(paramlist_decay)\n",
    "\n",
    "# Designed to run in parallel. Set the argument of \"Pool\" to 1 to disable this.\n",
    "pool = Pool()\n",
    "res = pool.map(param_scan.DecayReturnMicroBooNEChi2_3D, paramlist_decay)\n",
    "np.save(f\"{path_results}/test\", res)"
   ]
  },
  {
   "cell_type": "code",
   "execution_count": 85,
   "metadata": {},
   "outputs": [
    {
     "name": "stdout",
     "output_type": "stream",
     "text": [
      "[[1.00000000e-01 1.00000000e-04 1.00000000e-04 3.18020316e+01\n",
      "  9.26403109e+01 9.29802024e-21]\n",
      " [1.00000000e-01 7.00000000e-03 1.00000000e-04 3.18020311e+01\n",
      "  9.26403109e+01 8.95006520e-21]\n",
      " [1.00000000e-01 4.90000000e-01 1.00000000e-04 3.18020311e+01\n",
      "  9.26403109e+01 8.59481549e-19]\n",
      " [3.16227766e+00 1.00000000e-04 1.00000000e-04 3.18020326e+01\n",
      "  9.26403104e+01 9.29630251e-15]\n",
      " [3.16227766e+00 7.00000000e-03 1.00000000e-04 3.18020321e+01\n",
      "  9.26403104e+01 8.89129646e-15]\n",
      " [3.16227766e+00 4.90000000e-01 1.00000000e-04 3.18020252e+01\n",
      "  9.26403120e+01 7.08193565e-13]\n",
      " [1.00000000e+02 1.00000000e-04 1.00000000e-04 3.18028093e+01\n",
      "  9.26398794e+01 7.77784666e-09]\n",
      " [1.00000000e+02 7.00000000e-03 1.00000000e-04 3.18021576e+01\n",
      "  9.26401907e+01 4.04647370e-10]\n",
      " [1.00000000e+02 4.90000000e-01 1.00000000e-04 3.18019963e+01\n",
      "  9.26403226e+01 4.42652719e-11]\n",
      " [1.00000000e-01 1.00000000e-04 7.00000000e-03 3.18020360e+01\n",
      "  9.26403087e+01 2.17144872e-13]\n",
      " [1.00000000e-01 7.00000000e-03 7.00000000e-03 3.18020359e+01\n",
      "  9.26403088e+01 2.08966575e-13]\n",
      " [1.00000000e-01 4.90000000e-01 7.00000000e-03 3.18019999e+01\n",
      "  9.26403164e+01 1.95416204e-11]\n",
      " [3.16227766e+00 1.00000000e-04 7.00000000e-03 3.18066970e+01\n",
      "  9.26381560e+01 2.15717922e-07]\n",
      " [3.16227766e+00 7.00000000e-03 7.00000000e-03 3.18064856e+01\n",
      "  9.26381929e+01 2.06299759e-07]\n",
      " [3.16227766e+00 4.90000000e-01 7.00000000e-03 3.17740668e+01\n",
      "  9.26458451e+01 1.60943998e-05]\n",
      " [1.00000000e+02 1.00000000e-04 7.00000000e-03 3.24307392e+01\n",
      "  9.20657665e+01 9.72374561e-03]\n",
      " [1.00000000e+02 7.00000000e-03 7.00000000e-03 3.21158495e+01\n",
      "  9.23456857e+01 2.72494564e-03]\n",
      " [1.00000000e+02 4.90000000e-01 7.00000000e-03 3.16364247e+01\n",
      "  9.26972693e+01 1.00303418e-03]\n",
      " [1.00000000e-01 1.00000000e-04 4.90000000e-01 3.18083682e+01\n",
      "  9.26375232e+01 3.62511286e-07]\n",
      " [1.00000000e-01 7.00000000e-03 4.90000000e-01 3.18081644e+01\n",
      "  9.26376042e+01 3.39702304e-07]\n",
      " [1.00000000e-01 4.90000000e-01 4.90000000e-01 3.18017894e+01\n",
      "  9.26403535e+01 1.17295456e-09]\n",
      " [3.16227766e+00 1.00000000e-04 4.90000000e-01 3.76863461e+01\n",
      "  9.03840353e+01 2.68994417e-01]\n",
      " [3.16227766e+00 7.00000000e-03 4.90000000e-01 3.74762646e+01\n",
      "  9.04370845e+01 2.52388163e-01]\n",
      " [3.16227766e+00 4.90000000e-01 4.90000000e-01 3.15625765e+01\n",
      "  9.26844557e+01 1.15030880e-03]\n",
      " [1.00000000e+02 1.00000000e-04 4.90000000e-01 5.72854435e+01\n",
      "  8.72200140e+01 1.01089664e+01]\n",
      " [1.00000000e+02 7.00000000e-03 4.90000000e-01 5.63557652e+01\n",
      "  8.69793289e+01 9.53073436e+00]\n",
      " [1.00000000e+02 4.90000000e-01 4.90000000e-01 1.90366383e+01\n",
      "  1.05892585e+02 7.66119018e+00]]\n"
     ]
    }
   ],
   "source": [
    "print(data)"
   ]
  },
  {
   "cell_type": "code",
   "execution_count": 94,
   "metadata": {},
   "outputs": [
    {
     "name": "stdout",
     "output_type": "stream",
     "text": [
      "[[[31.80203157 31.80203113 31.80203111]\n",
      "  [31.80203258 31.80203207 31.80202525]\n",
      "  [31.80280926 31.80215765 31.80199629]]\n",
      "\n",
      " [[31.802036   31.80203591 31.80199991]\n",
      "  [31.80669697 31.80648555 31.77406677]\n",
      "  [32.43073921 32.1158495  31.63642466]]\n",
      "\n",
      " [[31.80836823 31.8081644  31.8017894 ]\n",
      "  [37.68634609 37.47626465 31.56257651]\n",
      "  [57.28544346 56.35576522 19.0366383 ]]]\n",
      "[31.80203157 31.80203113 31.8017894  31.80203258 31.80203207 31.56257651\n",
      " 31.80280926 31.80215765 19.0366383 ]\n"
     ]
    }
   ],
   "source": [
    "data = np.load(f\"{path_results}/test.npy\", allow_pickle=True)\n",
    "MiniApp_chi2 = data[:,-3]\n",
    "MicroApp_chi2 = data[:,-2]\n",
    "MicroApp_Asimov_chi2 = data[:,-1]\n",
    "chi2_rs = np.reshape(MiniApp_chi2, (Npoints, Npoints, Npoints))\n",
    "min_chi2 = np.min(chi2_rs, axis = 0)\n",
    "min_chi2 = np.ravel(min_chi2)\n",
    "print(chi2_rs)\n",
    "#print(data)\n",
    "print(min_chi2)"
   ]
  },
  {
   "cell_type": "code",
   "execution_count": 80,
   "metadata": {},
   "outputs": [
    {
     "name": "stdout",
     "output_type": "stream",
     "text": [
      "1\n",
      "5\n",
      "9\n"
     ]
    }
   ],
   "source": [
    "x = [1,2,3]\n",
    "y = [5,6,7]\n",
    "z = [8,9,10]\n",
    "xvec, yvec, zvec = np.meshgrid(x,y,z)\n",
    "xvec, yvec, zvec = np.ravel(xvec), np.ravel(yvec), np.ravel(zvec)\n",
    "print(xvec[1])\n",
    "print(yvec[1])\n",
    "print(zvec[1])"
   ]
  },
  {
   "cell_type": "code",
   "execution_count": 81,
   "metadata": {},
   "outputs": [
    {
     "name": "stdout",
     "output_type": "stream",
     "text": [
      "[[[[ 1  1  1]\n",
      "   [ 2  2  2]\n",
      "   [ 3  3  3]]\n",
      "\n",
      "  [[ 1  1  1]\n",
      "   [ 2  2  2]\n",
      "   [ 3  3  3]]\n",
      "\n",
      "  [[ 1  1  1]\n",
      "   [ 2  2  2]\n",
      "   [ 3  3  3]]]\n",
      "\n",
      "\n",
      " [[[ 5  5  5]\n",
      "   [ 5  5  5]\n",
      "   [ 5  5  5]]\n",
      "\n",
      "  [[ 6  6  6]\n",
      "   [ 6  6  6]\n",
      "   [ 6  6  6]]\n",
      "\n",
      "  [[ 7  7  7]\n",
      "   [ 7  7  7]\n",
      "   [ 7  7  7]]]\n",
      "\n",
      "\n",
      " [[[ 8  9 10]\n",
      "   [ 8  9 10]\n",
      "   [ 8  9 10]]\n",
      "\n",
      "  [[ 8  9 10]\n",
      "   [ 8  9 10]\n",
      "   [ 8  9 10]]\n",
      "\n",
      "  [[ 8  9 10]\n",
      "   [ 8  9 10]\n",
      "   [ 8  9 10]]]]\n"
     ]
    }
   ],
   "source": [
    "param_list = np.array(np.meshgrid(x,y,z))\n",
    "print(param_list)"
   ]
  },
  {
   "cell_type": "code",
   "execution_count": 13,
   "metadata": {},
   "outputs": [
    {
     "name": "stdout",
     "output_type": "stream",
     "text": [
      "[[[[ 1  5  8]\n",
      "   [ 1  6  8]\n",
      "   [ 1  7  8]]\n",
      "\n",
      "  [[ 2  5  8]\n",
      "   [ 2  6  8]\n",
      "   [ 2  7  8]]\n",
      "\n",
      "  [[ 3  5  8]\n",
      "   [ 3  6  8]\n",
      "   [ 3  7  8]]]\n",
      "\n",
      "\n",
      " [[[ 1  5  9]\n",
      "   [ 1  6  9]\n",
      "   [ 1  7  9]]\n",
      "\n",
      "  [[ 2  5  9]\n",
      "   [ 2  6  9]\n",
      "   [ 2  7  9]]\n",
      "\n",
      "  [[ 3  5  9]\n",
      "   [ 3  6  9]\n",
      "   [ 3  7  9]]]\n",
      "\n",
      "\n",
      " [[[ 1  5 10]\n",
      "   [ 1  6 10]\n",
      "   [ 1  7 10]]\n",
      "\n",
      "  [[ 2  5 10]\n",
      "   [ 2  6 10]\n",
      "   [ 2  7 10]]\n",
      "\n",
      "  [[ 3  5 10]\n",
      "   [ 3  6 10]\n",
      "   [ 3  7 10]]]]\n"
     ]
    }
   ],
   "source": [
    "param_list = np.array(np.meshgrid(x,y,z)).T\n",
    "print(param_list)"
   ]
  },
  {
   "cell_type": "code",
   "execution_count": 15,
   "metadata": {},
   "outputs": [
    {
     "name": "stdout",
     "output_type": "stream",
     "text": [
      "[[ 1  5  8]\n",
      " [ 1  6  8]\n",
      " [ 1  7  8]\n",
      " [ 2  5  8]\n",
      " [ 2  6  8]\n",
      " [ 2  7  8]\n",
      " [ 3  5  8]\n",
      " [ 3  6  8]\n",
      " [ 3  7  8]\n",
      " [ 1  5  9]\n",
      " [ 1  6  9]\n",
      " [ 1  7  9]\n",
      " [ 2  5  9]\n",
      " [ 2  6  9]\n",
      " [ 2  7  9]\n",
      " [ 3  5  9]\n",
      " [ 3  6  9]\n",
      " [ 3  7  9]\n",
      " [ 1  5 10]\n",
      " [ 1  6 10]\n",
      " [ 1  7 10]\n",
      " [ 2  5 10]\n",
      " [ 2  6 10]\n",
      " [ 2  7 10]\n",
      " [ 3  5 10]\n",
      " [ 3  6 10]\n",
      " [ 3  7 10]]\n"
     ]
    }
   ],
   "source": [
    "param_list = np.array(np.meshgrid(x,y,z)).T.reshape(-1,3)\n",
    "print(param_list)"
   ]
  },
  {
   "cell_type": "code",
   "execution_count": 4,
   "metadata": {},
   "outputs": [
    {
     "name": "stdout",
     "output_type": "stream",
     "text": [
      "[[[ 1  2  3]\n",
      "  [ 4  5  6]\n",
      "  [ 7  8  9]]\n",
      "\n",
      " [[10 11 12]\n",
      "  [13 14 15]\n",
      "  [16 17 18]]\n",
      "\n",
      " [[19 20 21]\n",
      "  [22 23 24]\n",
      "  [25 26 27]]]\n"
     ]
    }
   ],
   "source": [
    "import numpy as np\n",
    "chi2 = [i+1 for i in range(27)]\n",
    "chi2 = np.array(chi2)\n",
    "chi2 = chi2.reshape(3,3,3)\n",
    "print(chi2)"
   ]
  },
  {
   "cell_type": "code",
   "execution_count": 22,
   "metadata": {},
   "outputs": [
    {
     "name": "stdout",
     "output_type": "stream",
     "text": [
      "[1 5 9]\n"
     ]
    }
   ],
   "source": [
    "print(chi2[0,:,0])"
   ]
  },
  {
   "cell_type": "code",
   "execution_count": 10,
   "metadata": {},
   "outputs": [
    {
     "name": "stdout",
     "output_type": "stream",
     "text": [
      "[[[ 1  2  3  4]\n",
      "  [ 5  6  7  8]\n",
      "  [ 9 10 11 12]]\n",
      "\n",
      " [[13 14 15 16]\n",
      "  [17 18 19 20]\n",
      "  [21 22 23 24]]]\n",
      "[[ 1  2  3  4]\n",
      " [13 14 15 16]]\n"
     ]
    }
   ],
   "source": [
    "chi2 = [i+1 for i in range(24)]\n",
    "chi2 = np.array(chi2)\n",
    "chi2 = chi2.reshape(2,3,4)\n",
    "print(chi2)\n",
    "min_chi2 = np.min(chi2, axis=1)\n",
    "print(min_chi2)"
   ]
  },
  {
   "cell_type": "code",
   "execution_count": 7,
   "metadata": {},
   "outputs": [
    {
     "name": "stdout",
     "output_type": "stream",
     "text": [
      "[3.18020261e+01 3.17830592e+01 3.17144075e+01 3.18020109e+01\n",
      " 3.17372406e+01 3.04379351e+01 3.18013361e+01 2.92263185e+01\n",
      " 2.98125549e+01 3.18016849e+01 3.70521586e+01 3.09030838e+01\n",
      " 3.18006295e+01 3.39080635e+01 1.27311468e+01 3.17536733e+01\n",
      " 5.40385393e+01 4.36915848e+01 3.17944892e+01 2.89483208e+05\n",
      " 2.98125549e+01 3.17470233e+01 2.43009337e+05 4.36915848e+01\n",
      " 2.91858497e+01 1.73174269e+06 4.67031915e+02]\n",
      "[[[3.18020261e+01 3.17830592e+01 3.17144075e+01]\n",
      "  [3.18020109e+01 3.17372406e+01 3.04379351e+01]\n",
      "  [3.18013361e+01 2.92263185e+01 2.98125549e+01]]\n",
      "\n",
      " [[3.18016849e+01 3.70521586e+01 3.09030838e+01]\n",
      "  [3.18006295e+01 3.39080635e+01 1.27311468e+01]\n",
      "  [3.17536733e+01 5.40385393e+01 4.36915848e+01]]\n",
      "\n",
      " [[3.17944892e+01 2.89483208e+05 2.98125549e+01]\n",
      "  [3.17470233e+01 2.43009337e+05 4.36915848e+01]\n",
      "  [2.91858497e+01 1.73174269e+06 4.67031915e+02]]]\n",
      "[1.0e-04 7.0e-03 4.9e-01 1.0e-04 7.0e-03 4.9e-01 1.0e-04 7.0e-03 4.9e-01]\n",
      "[3.18013361e+01 2.92263185e+01 2.98125549e+01 3.17536733e+01\n",
      " 3.39080635e+01 1.27311468e+01 2.91858497e+01 2.43009337e+05\n",
      " 2.98125549e+01]\n"
     ]
    }
   ],
   "source": [
    "# 3D parameter scan\n",
    "path_results = \"fit_data/\"\n",
    "data = np.load(f\"{path_results}/App_gm4_Ue4sq_Um4sq_test.npy\", allow_pickle=True)\n",
    "\n",
    "#gm4VecT, EVec, MVec = data[:,0], data[:,1], data[:,2]\n",
    "\n",
    "MiniApp_chi2 = data[:,-3]\n",
    "MicroApp_chi2 = data[:,-2]\n",
    "MicroApp_Asimov_chi2 = data[:,-1]\n",
    "Npoints = 3\n",
    "\n",
    "chi2_rs = np.reshape(MiniApp_chi2, (Npoints, Npoints, Npoints))\n",
    "\n",
    "print(MiniApp_chi2)\n",
    "print(chi2_rs)\n",
    "def marg(chi2, which_axis):\n",
    "    chi2_rs = np.reshape(chi2, (Npoints, Npoints, Npoints))\n",
    "    min_chi2 = np.min(chi2_rs, axis = which_axis)\n",
    "    min_chi2 = min_chi2\n",
    "    min_chi2 = np.ravel(min_chi2)\n",
    "    return min_chi2\n",
    "\n",
    "# Necessary for marginalization because parameters need to have the same dimension as chi2\n",
    "# Range of gm4 for sterile decay model scanned over 0.1 to 100\n",
    "gm = np.geomspace(1e-1, 1e3, Npoints)\n",
    "\n",
    "# Range of |U_{e4}|^2 scanned over 1e-4 to 1\n",
    "e = np.geomspace(1e-4, 0.49, Npoints)\n",
    "\n",
    "# Range of |U_{\\mu4}|^2 scanned over 1e-4 to 1\n",
    "mu = np.geomspace(1e-4, 0.49, Npoints)\n",
    "\n",
    "EVec, MVec = np.meshgrid(e,mu)\n",
    "EVec, MVec = np.ravel(EVec), np.ravel(MVec)\n",
    "print(EVec)\n",
    "\n",
    "# marg over e\n",
    "MiniApp_deltachi2 = marg(MiniApp_chi2,which_axis = 1)\n",
    "MicroApp_deltachi2 = marg(MicroApp_chi2,which_axis = 1)\n",
    "MicroApp_Asimov_deltachi2 = marg(MicroApp_Asimov_chi2,which_axis = 1)\n",
    "\n",
    "print(MiniApp_deltachi2)\n",
    "# De Gouvea fit\n",
    "MB = np.loadtxt(f'MicroTools/MB_data/DeGouvea_data/miniboone_2sigma.dat')\n",
    "MBX = 10**MB[:,0]\n",
    "MBY = 10**MB[:,1]\n",
    "MBlower = np.loadtxt(f'MicroTools/MB_data/DeGouvea_data/miniboone_2sigma_lower.dat')\n",
    "MBupper = np.loadtxt(f'MicroTools/MB_data/DeGouvea_data/miniboone_2sigma_upper.dat')\n",
    "MBc = np.vstack((MBlower,MBupper))\n",
    "MB = np.loadtxt('MicroTools/MB_data/DeGouvea_data/miniboone_2sigma.dat')\n",
    "MBX = 10**MB[:,0]\n",
    "MBY = 10**MB[:,1]"
   ]
  },
  {
   "cell_type": "code",
   "execution_count": 8,
   "metadata": {},
   "outputs": [
    {
     "name": "stdout",
     "output_type": "stream",
     "text": [
      "[[1.00000000e+00 1.00000000e-01 1.00000000e-04 1.00000000e-04\n",
      "  3.18020261e+01 9.26575861e+01 9.52118282e-06]\n",
      " [1.00000000e+00 3.16227766e+00 1.00000000e-04 1.00000000e-04\n",
      "  3.17830592e+01 9.26577899e+01 1.00582971e-05]\n",
      " [1.00000000e+00 1.00000000e+02 1.00000000e-04 1.00000000e-04\n",
      "  3.17144075e+01 9.26784465e+01 2.65518575e-04]\n",
      " [1.00000000e+00 1.00000000e-01 7.00000000e-03 1.00000000e-04\n",
      "  3.18020109e+01 9.26575873e+01 9.52895717e-06]\n",
      " [1.00000000e+00 3.16227766e+00 7.00000000e-03 1.00000000e-04\n",
      "  3.17372406e+01 9.26718976e+01 1.18438890e-04]\n",
      " [1.00000000e+00 1.00000000e+02 7.00000000e-03 1.00000000e-04\n",
      "  3.04379351e+01 9.31922420e+01 6.33912133e-02]\n",
      " [1.00000000e+00 1.00000000e-01 4.90000000e-01 1.00000000e-04\n",
      "  3.18013361e+01 9.26575998e+01 9.86441628e-06]\n",
      " [1.00000000e+00 3.16227766e+00 4.90000000e-01 1.00000000e-04\n",
      "  2.92263185e+01 9.38097390e+01 2.55327816e-01]\n",
      " [1.00000000e+00 1.00000000e+02 4.90000000e-01 1.00000000e-04\n",
      "  2.98125549e+01 9.35776278e+01 1.59094381e-01]\n",
      " [1.00000000e+00 1.00000000e-01 1.00000000e-04 7.00000000e-03\n",
      "  3.18016849e+01 9.39127990e+01 4.71145005e-02]\n",
      " [1.00000000e+00 3.16227766e+00 1.00000000e-04 7.00000000e-03\n",
      "  3.70521586e+01 9.39301862e+01 4.97592829e-02]\n",
      " [1.00000000e+00 1.00000000e+02 1.00000000e-04 7.00000000e-03\n",
      "  3.09030838e+01 9.45371265e+01 1.84529853e-01]\n",
      " [1.00000000e+00 1.00000000e-01 7.00000000e-03 7.00000000e-03\n",
      "  3.18006295e+01 9.39129291e+01 4.71526438e-02]\n",
      " [1.00000000e+00 3.16227766e+00 7.00000000e-03 7.00000000e-03\n",
      "  3.39080635e+01 9.54891287e+01 5.61723582e-01]\n",
      " [1.00000000e+00 1.00000000e+02 7.00000000e-03 7.00000000e-03\n",
      "  1.27311468e+01 1.62253466e+02 5.09232052e+01]\n",
      " [1.00000000e+00 1.00000000e-01 4.90000000e-01 7.00000000e-03\n",
      "  3.17536733e+01 9.39157976e+01 4.87995042e-02]\n",
      " [1.00000000e+00 3.16227766e+00 4.90000000e-01 7.00000000e-03\n",
      "  5.40385393e+01 3.85154388e+02 2.43136290e+02]\n",
      " [1.00000000e+00 1.00000000e+02 4.90000000e-01 7.00000000e-03\n",
      "  4.36915848e+01 3.23649711e+02 1.90572379e+02]\n",
      " [1.00000000e+00 1.00000000e-01 1.00000000e-04 4.90000000e-01\n",
      "  3.17944892e+01 4.12488235e+02 1.92036617e+02]\n",
      " [1.00000000e+00 3.16227766e+00 1.00000000e-04 4.90000000e-01\n",
      "  2.89483208e+05 4.28937937e+02 2.04627523e+02]\n",
      " [1.00000000e+00 1.00000000e+02 1.00000000e-04 4.90000000e-01\n",
      "  2.98125549e+01 4.25165749e+02 2.01685653e+02]\n",
      " [1.00000000e+00 1.00000000e-01 7.00000000e-03 4.90000000e-01\n",
      "  3.17470233e+01 4.12652621e+02 1.92165187e+02]\n",
      " [1.00000000e+00 3.16227766e+00 7.00000000e-03 4.90000000e-01\n",
      "  2.43009337e+05 1.34899677e+03 9.47107687e+02]\n",
      " [1.00000000e+00 1.00000000e+02 7.00000000e-03 4.90000000e-01\n",
      "  4.36915848e+01 1.18325721e+03 8.12796567e+02]\n",
      " [1.00000000e+00 1.00000000e-01 4.90000000e-01 4.90000000e-01\n",
      "  2.91858497e+01 4.21630444e+02 1.99162524e+02]\n",
      " [1.00000000e+00 3.16227766e+00 4.90000000e-01 4.90000000e-01\n",
      "  1.73174269e+06 2.44895169e+03 1.83429684e+03]\n",
      " [1.00000000e+00 1.00000000e+02 4.90000000e-01 4.90000000e-01\n",
      "  4.67031915e+02 2.43229240e+03 1.81967663e+03]]\n"
     ]
    }
   ],
   "source": [
    "print(data)"
   ]
  },
  {
   "cell_type": "code",
   "execution_count": 5,
   "metadata": {},
   "outputs": [
    {
     "data": {
      "text/plain": [
       "array([[0, 1, 2, 3],\n",
       "       [4, 5, 6, 7]])"
      ]
     },
     "execution_count": 5,
     "metadata": {},
     "output_type": "execute_result"
    }
   ],
   "source": [
    "import numpy as np\n",
    "np.arange(8).reshape(2,4)"
   ]
  },
  {
   "cell_type": "code",
   "execution_count": 1,
   "metadata": {},
   "outputs": [
    {
     "data": {
      "text/plain": [
       "(21.333333333333336, 2.368475785867001e-13)"
      ]
     },
     "execution_count": 1,
     "metadata": {},
     "output_type": "execute_result"
    }
   ],
   "source": [
    "from scipy import integrate\n",
    "import numpy as np\n",
    "x2 = lambda x: x**2\n",
    "integrate.quad(x2, 0, 4)"
   ]
  },
  {
   "cell_type": "code",
   "execution_count": 7,
   "metadata": {},
   "outputs": [
    {
     "data": {
      "text/plain": [
       "0.989358074914727"
      ]
     },
     "execution_count": 7,
     "metadata": {},
     "output_type": "execute_result"
    }
   ],
   "source": [
    "def Fdecay(E4, Edaughter, Length):\n",
    "    return (1 - np.exp(-Length / E4))\n",
    "def FdecayAvg(Emin, Emax, Edaughter, Length):\n",
    "    integrand = lambda E4: (Fdecay(E4, Edaughter, Length))\n",
    "    return integrate.quad(integrand, Emin, Emax)[0]/ (Emax-Emin)\n",
    "FdecayAvg(0,1,2,3)"
   ]
  },
  {
   "cell_type": "code",
   "execution_count": 18,
   "metadata": {},
   "outputs": [
    {
     "name": "stdout",
     "output_type": "stream",
     "text": [
      "[250.0, 337.5, 425.0, 512.5, 612.5, 737.5, 875.0, 1025.0, 1175.0, 1375.0, 2250.0]\n"
     ]
    }
   ],
   "source": [
    "nue_bin_edges = np.array([200.0, 300.0, 375.0, 475.0, 550.0, 675.0, 800.0, 950.0, 1100.0, 1250.0, 1500.0, 3000.0])\n",
    "bin_c = [(nue_bin_edges[i]+nue_bin_edges[i+1])/2 for i in range(len(nue_bin_edges)-1)]\n",
    "print(bin_c)"
   ]
  },
  {
   "cell_type": "code",
   "execution_count": 12,
   "metadata": {},
   "outputs": [
    {
     "name": "stdout",
     "output_type": "stream",
     "text": [
      "[0, 1, 2, 3, 4, 5, 6, 7, 8, 9, 10, 11]\n"
     ]
    }
   ],
   "source": [
    "array = [i for i in range(12)]\n",
    "print(array)"
   ]
  },
  {
   "cell_type": "code",
   "execution_count": 20,
   "metadata": {},
   "outputs": [
    {
     "name": "stdout",
     "output_type": "stream",
     "text": [
      "[ 250.   337.5  425.   512.5  612.5  737.5  875.  1025.  1175.  1375.\n",
      " 2250. ]\n"
     ]
    }
   ],
   "source": [
    "binc = (nue_bin_edges[:-1] + nue_bin_edges[1:])/2\n",
    "print(binc)"
   ]
  },
  {
   "cell_type": "code",
   "execution_count": 25,
   "metadata": {},
   "outputs": [
    {
     "name": "stdout",
     "output_type": "stream",
     "text": [
      "3\n"
     ]
    }
   ],
   "source": [
    "my_array = np.array([1, 2, 3, 4, 5, 6, 7, 8, 9, 10])\n",
    "\n",
    "E4 = 4  # Replace with the element you're looking for\n",
    "\n",
    "# Find the index of E4 in the NumPy array\n",
    "indices = np.argmax(my_array == E4)\n",
    "\n",
    "print(indices)"
   ]
  },
  {
   "cell_type": "code",
   "execution_count": 29,
   "metadata": {},
   "outputs": [
    {
     "name": "stdout",
     "output_type": "stream",
     "text": [
      "4\n"
     ]
    }
   ],
   "source": [
    "for i in range(4,5):\n",
    "    print(i)"
   ]
  },
  {
   "cell_type": "code",
   "execution_count": 34,
   "metadata": {},
   "outputs": [
    {
     "name": "stdout",
     "output_type": "stream",
     "text": [
      "3\n"
     ]
    }
   ],
   "source": [
    "array1 = np.zeros(3)\n",
    "array2 = [1,2,3]\n",
    "print(len(array2))"
   ]
  },
  {
   "cell_type": "code",
   "execution_count": 35,
   "metadata": {},
   "outputs": [
    {
     "name": "stdout",
     "output_type": "stream",
     "text": [
      "[15 18 21 24]\n"
     ]
    }
   ],
   "source": [
    "import numpy as np\n",
    "\n",
    "# Example 2D array (replace this with your actual array)\n",
    "my_array = np.array([\n",
    "    [1, 2, 3, 4],\n",
    "    [5, 6, 7, 8],\n",
    "    [9, 10, 11, 12]\n",
    "])\n",
    "\n",
    "# Calculate column sums using np.sum with axis=0\n",
    "result_array = np.sum(my_array, axis=0)\n",
    "\n",
    "print(result_array)\n"
   ]
  },
  {
   "cell_type": "code",
   "execution_count": 41,
   "metadata": {},
   "outputs": [
    {
     "name": "stdout",
     "output_type": "stream",
     "text": [
      "[ 2  6 12 20]\n"
     ]
    }
   ],
   "source": [
    "array1 = np.array([1,2,3,4])\n",
    "array2 = [2,3,4,5]\n",
    "\n",
    "array1 *= array2\n",
    "\n",
    "print(array1)"
   ]
  },
  {
   "cell_type": "code",
   "execution_count": 2,
   "metadata": {},
   "outputs": [
    {
     "name": "stdout",
     "output_type": "stream",
     "text": [
      "[0.  1.5 3. ]\n"
     ]
    }
   ],
   "source": [
    "import numpy as np\n",
    "print(np.linspace(0,3,3))"
   ]
  },
  {
   "cell_type": "code",
   "execution_count": 3,
   "metadata": {},
   "outputs": [
    {
     "name": "stdout",
     "output_type": "stream",
     "text": [
      "[0.0, 0.1, 0.2, 0.30000000000000004, 0.4, 0.5, 0.6000000000000001, 0.7000000000000001, 0.8, 0.9, 1.0, 1.1, 1.2000000000000002, 1.3, 1.4000000000000001, 1.5, 1.6, 1.7000000000000002, 1.8, 1.9000000000000001, 2.0, 2.1, 2.2, 2.3000000000000003, 2.4000000000000004, 2.5]\n"
     ]
    }
   ],
   "source": [
    "print([0.0 + 0.1 * j for j in range(26)])"
   ]
  },
  {
   "cell_type": "code",
   "execution_count": 6,
   "metadata": {},
   "outputs": [
    {
     "data": {
      "text/plain": [
       "8"
      ]
     },
     "execution_count": 6,
     "metadata": {},
     "output_type": "execute_result"
    }
   ],
   "source": [
    "np.dot([1,2],[2,3])"
   ]
  },
  {
   "cell_type": "code",
   "execution_count": 1,
   "metadata": {},
   "outputs": [
    {
     "name": "stdout",
     "output_type": "stream",
     "text": [
      "[3, 4]\n",
      "7\n"
     ]
    }
   ],
   "source": [
    "mat = [[1,2],[3,4]]\n",
    "print(mat[1])\n",
    "print(list(map(sum, mat))[1])"
   ]
  },
  {
   "cell_type": "code",
   "execution_count": 10,
   "metadata": {},
   "outputs": [],
   "source": [
    "import cmath\n",
    "from scipy.special import expi\n",
    "import numpy as np\n",
    "def test(x):\n",
    "    return 1/4*(2*expi(-(1/x)) - (1 + 2j)*expi(-((1 + 2j)/x)) - (1 - 2j)*expi(-((1 - 2j)/x)) + 4*np.exp(-1/x)*x*np.sin(1/x)**2)"
   ]
  },
  {
   "cell_type": "code",
   "execution_count": 11,
   "metadata": {},
   "outputs": [
    {
     "name": "stdout",
     "output_type": "stream",
     "text": [
      "(-3.019109527232312+0j)\n"
     ]
    }
   ],
   "source": [
    "print(test(1))"
   ]
  },
  {
   "cell_type": "code",
   "execution_count": 31,
   "metadata": {},
   "outputs": [
    {
     "name": "stdout",
     "output_type": "stream",
     "text": [
      "{'g': 1, 'm4': 1, 'Ue4Sq': 1, 'Um4Sq': 1}\n",
      "\n",
      "{'g': 1, 'm4': 2, 'Ue4Sq': 1, 'Um4Sq': 1}\n",
      "\n",
      "{'g': 1, 'm4': 3, 'Ue4Sq': 1, 'Um4Sq': 1}\n",
      "\n",
      "{'g': 1, 'm4': 4, 'Ue4Sq': 1, 'Um4Sq': 1}\n",
      "\n",
      "{'g': 2, 'm4': 1, 'Ue4Sq': 1, 'Um4Sq': 1}\n",
      "\n",
      "{'g': 2, 'm4': 2, 'Ue4Sq': 1, 'Um4Sq': 1}\n",
      "\n",
      "{'g': 2, 'm4': 3, 'Ue4Sq': 1, 'Um4Sq': 1}\n",
      "\n",
      "{'g': 2, 'm4': 4, 'Ue4Sq': 1, 'Um4Sq': 1}\n",
      "\n",
      "{'g': 3, 'm4': 1, 'Ue4Sq': 1, 'Um4Sq': 1}\n",
      "\n",
      "{'g': 3, 'm4': 2, 'Ue4Sq': 1, 'Um4Sq': 1}\n",
      "\n",
      "{'g': 3, 'm4': 3, 'Ue4Sq': 1, 'Um4Sq': 1}\n",
      "\n",
      "{'g': 3, 'm4': 4, 'Ue4Sq': 1, 'Um4Sq': 1}\n",
      "\n",
      "{'g': 4, 'm4': 1, 'Ue4Sq': 1, 'Um4Sq': 1}\n",
      "\n",
      "{'g': 4, 'm4': 2, 'Ue4Sq': 1, 'Um4Sq': 1}\n",
      "\n",
      "{'g': 4, 'm4': 3, 'Ue4Sq': 1, 'Um4Sq': 1}\n",
      "\n",
      "{'g': 4, 'm4': 4, 'Ue4Sq': 1, 'Um4Sq': 1}\n",
      "\n",
      "{'g': 1, 'm4': 1, 'Ue4Sq': 2, 'Um4Sq': 1}\n",
      "\n",
      "{'g': 1, 'm4': 2, 'Ue4Sq': 2, 'Um4Sq': 1}\n",
      "\n",
      "{'g': 1, 'm4': 3, 'Ue4Sq': 2, 'Um4Sq': 1}\n",
      "\n",
      "{'g': 1, 'm4': 4, 'Ue4Sq': 2, 'Um4Sq': 1}\n",
      "\n",
      "{'g': 2, 'm4': 1, 'Ue4Sq': 2, 'Um4Sq': 1}\n",
      "\n",
      "{'g': 2, 'm4': 2, 'Ue4Sq': 2, 'Um4Sq': 1}\n",
      "\n",
      "{'g': 2, 'm4': 3, 'Ue4Sq': 2, 'Um4Sq': 1}\n",
      "\n",
      "{'g': 2, 'm4': 4, 'Ue4Sq': 2, 'Um4Sq': 1}\n",
      "\n",
      "{'g': 3, 'm4': 1, 'Ue4Sq': 2, 'Um4Sq': 1}\n",
      "\n",
      "{'g': 3, 'm4': 2, 'Ue4Sq': 2, 'Um4Sq': 1}\n",
      "\n",
      "{'g': 3, 'm4': 3, 'Ue4Sq': 2, 'Um4Sq': 1}\n",
      "\n",
      "{'g': 3, 'm4': 4, 'Ue4Sq': 2, 'Um4Sq': 1}\n",
      "\n",
      "{'g': 4, 'm4': 1, 'Ue4Sq': 2, 'Um4Sq': 1}\n",
      "\n",
      "{'g': 4, 'm4': 2, 'Ue4Sq': 2, 'Um4Sq': 1}\n",
      "\n",
      "{'g': 4, 'm4': 3, 'Ue4Sq': 2, 'Um4Sq': 1}\n",
      "\n",
      "{'g': 4, 'm4': 4, 'Ue4Sq': 2, 'Um4Sq': 1}\n",
      "\n",
      "{'g': 1, 'm4': 1, 'Ue4Sq': 3, 'Um4Sq': 1}\n",
      "\n",
      "{'g': 1, 'm4': 2, 'Ue4Sq': 3, 'Um4Sq': 1}\n",
      "\n",
      "{'g': 1, 'm4': 3, 'Ue4Sq': 3, 'Um4Sq': 1}\n",
      "\n",
      "{'g': 1, 'm4': 4, 'Ue4Sq': 3, 'Um4Sq': 1}\n",
      "\n",
      "{'g': 2, 'm4': 1, 'Ue4Sq': 3, 'Um4Sq': 1}\n",
      "\n",
      "{'g': 2, 'm4': 2, 'Ue4Sq': 3, 'Um4Sq': 1}\n",
      "\n",
      "{'g': 2, 'm4': 3, 'Ue4Sq': 3, 'Um4Sq': 1}\n",
      "\n",
      "{'g': 2, 'm4': 4, 'Ue4Sq': 3, 'Um4Sq': 1}\n",
      "\n",
      "{'g': 3, 'm4': 1, 'Ue4Sq': 3, 'Um4Sq': 1}\n",
      "\n",
      "{'g': 3, 'm4': 2, 'Ue4Sq': 3, 'Um4Sq': 1}\n",
      "\n",
      "{'g': 3, 'm4': 3, 'Ue4Sq': 3, 'Um4Sq': 1}\n",
      "\n",
      "{'g': 3, 'm4': 4, 'Ue4Sq': 3, 'Um4Sq': 1}\n",
      "\n",
      "{'g': 4, 'm4': 1, 'Ue4Sq': 3, 'Um4Sq': 1}\n",
      "\n",
      "{'g': 4, 'm4': 2, 'Ue4Sq': 3, 'Um4Sq': 1}\n",
      "\n",
      "{'g': 4, 'm4': 3, 'Ue4Sq': 3, 'Um4Sq': 1}\n",
      "\n",
      "{'g': 4, 'm4': 4, 'Ue4Sq': 3, 'Um4Sq': 1}\n",
      "\n",
      "{'g': 1, 'm4': 1, 'Ue4Sq': 4, 'Um4Sq': 1}\n",
      "\n",
      "{'g': 1, 'm4': 2, 'Ue4Sq': 4, 'Um4Sq': 1}\n",
      "\n",
      "{'g': 1, 'm4': 3, 'Ue4Sq': 4, 'Um4Sq': 1}\n",
      "\n",
      "{'g': 1, 'm4': 4, 'Ue4Sq': 4, 'Um4Sq': 1}\n",
      "\n",
      "{'g': 2, 'm4': 1, 'Ue4Sq': 4, 'Um4Sq': 1}\n",
      "\n",
      "{'g': 2, 'm4': 2, 'Ue4Sq': 4, 'Um4Sq': 1}\n",
      "\n",
      "{'g': 2, 'm4': 3, 'Ue4Sq': 4, 'Um4Sq': 1}\n",
      "\n",
      "{'g': 2, 'm4': 4, 'Ue4Sq': 4, 'Um4Sq': 1}\n",
      "\n",
      "{'g': 3, 'm4': 1, 'Ue4Sq': 4, 'Um4Sq': 1}\n",
      "\n",
      "{'g': 3, 'm4': 2, 'Ue4Sq': 4, 'Um4Sq': 1}\n",
      "\n",
      "{'g': 3, 'm4': 3, 'Ue4Sq': 4, 'Um4Sq': 1}\n",
      "\n",
      "{'g': 3, 'm4': 4, 'Ue4Sq': 4, 'Um4Sq': 1}\n",
      "\n",
      "{'g': 4, 'm4': 1, 'Ue4Sq': 4, 'Um4Sq': 1}\n",
      "\n",
      "{'g': 4, 'm4': 2, 'Ue4Sq': 4, 'Um4Sq': 1}\n",
      "\n",
      "{'g': 4, 'm4': 3, 'Ue4Sq': 4, 'Um4Sq': 1}\n",
      "\n",
      "{'g': 4, 'm4': 4, 'Ue4Sq': 4, 'Um4Sq': 1}\n",
      "\n",
      "{'g': 1, 'm4': 1, 'Ue4Sq': 1, 'Um4Sq': 2}\n",
      "\n",
      "{'g': 1, 'm4': 2, 'Ue4Sq': 1, 'Um4Sq': 2}\n",
      "\n",
      "{'g': 1, 'm4': 3, 'Ue4Sq': 1, 'Um4Sq': 2}\n",
      "\n",
      "{'g': 1, 'm4': 4, 'Ue4Sq': 1, 'Um4Sq': 2}\n",
      "\n",
      "{'g': 2, 'm4': 1, 'Ue4Sq': 1, 'Um4Sq': 2}\n",
      "\n",
      "{'g': 2, 'm4': 2, 'Ue4Sq': 1, 'Um4Sq': 2}\n",
      "\n",
      "{'g': 2, 'm4': 3, 'Ue4Sq': 1, 'Um4Sq': 2}\n",
      "\n",
      "{'g': 2, 'm4': 4, 'Ue4Sq': 1, 'Um4Sq': 2}\n",
      "\n",
      "{'g': 3, 'm4': 1, 'Ue4Sq': 1, 'Um4Sq': 2}\n",
      "\n",
      "{'g': 3, 'm4': 2, 'Ue4Sq': 1, 'Um4Sq': 2}\n",
      "\n",
      "{'g': 3, 'm4': 3, 'Ue4Sq': 1, 'Um4Sq': 2}\n",
      "\n",
      "{'g': 3, 'm4': 4, 'Ue4Sq': 1, 'Um4Sq': 2}\n",
      "\n",
      "{'g': 4, 'm4': 1, 'Ue4Sq': 1, 'Um4Sq': 2}\n",
      "\n",
      "{'g': 4, 'm4': 2, 'Ue4Sq': 1, 'Um4Sq': 2}\n",
      "\n",
      "{'g': 4, 'm4': 3, 'Ue4Sq': 1, 'Um4Sq': 2}\n",
      "\n",
      "{'g': 4, 'm4': 4, 'Ue4Sq': 1, 'Um4Sq': 2}\n",
      "\n",
      "{'g': 1, 'm4': 1, 'Ue4Sq': 2, 'Um4Sq': 2}\n",
      "\n",
      "{'g': 1, 'm4': 2, 'Ue4Sq': 2, 'Um4Sq': 2}\n",
      "\n",
      "{'g': 1, 'm4': 3, 'Ue4Sq': 2, 'Um4Sq': 2}\n",
      "\n",
      "{'g': 1, 'm4': 4, 'Ue4Sq': 2, 'Um4Sq': 2}\n",
      "\n",
      "{'g': 2, 'm4': 1, 'Ue4Sq': 2, 'Um4Sq': 2}\n",
      "\n",
      "{'g': 2, 'm4': 2, 'Ue4Sq': 2, 'Um4Sq': 2}\n",
      "\n",
      "{'g': 2, 'm4': 3, 'Ue4Sq': 2, 'Um4Sq': 2}\n",
      "\n",
      "{'g': 2, 'm4': 4, 'Ue4Sq': 2, 'Um4Sq': 2}\n",
      "\n",
      "{'g': 3, 'm4': 1, 'Ue4Sq': 2, 'Um4Sq': 2}\n",
      "\n",
      "{'g': 3, 'm4': 2, 'Ue4Sq': 2, 'Um4Sq': 2}\n",
      "\n",
      "{'g': 3, 'm4': 3, 'Ue4Sq': 2, 'Um4Sq': 2}\n",
      "\n",
      "{'g': 3, 'm4': 4, 'Ue4Sq': 2, 'Um4Sq': 2}\n",
      "\n",
      "{'g': 4, 'm4': 1, 'Ue4Sq': 2, 'Um4Sq': 2}\n",
      "\n",
      "{'g': 4, 'm4': 2, 'Ue4Sq': 2, 'Um4Sq': 2}\n",
      "\n",
      "{'g': 4, 'm4': 3, 'Ue4Sq': 2, 'Um4Sq': 2}\n",
      "\n",
      "{'g': 4, 'm4': 4, 'Ue4Sq': 2, 'Um4Sq': 2}\n",
      "\n",
      "{'g': 1, 'm4': 1, 'Ue4Sq': 3, 'Um4Sq': 2}\n",
      "\n",
      "{'g': 1, 'm4': 2, 'Ue4Sq': 3, 'Um4Sq': 2}\n",
      "\n",
      "{'g': 1, 'm4': 3, 'Ue4Sq': 3, 'Um4Sq': 2}\n",
      "\n",
      "{'g': 1, 'm4': 4, 'Ue4Sq': 3, 'Um4Sq': 2}\n",
      "\n",
      "{'g': 2, 'm4': 1, 'Ue4Sq': 3, 'Um4Sq': 2}\n",
      "\n",
      "{'g': 2, 'm4': 2, 'Ue4Sq': 3, 'Um4Sq': 2}\n",
      "\n",
      "{'g': 2, 'm4': 3, 'Ue4Sq': 3, 'Um4Sq': 2}\n",
      "\n",
      "{'g': 2, 'm4': 4, 'Ue4Sq': 3, 'Um4Sq': 2}\n",
      "\n",
      "{'g': 3, 'm4': 1, 'Ue4Sq': 3, 'Um4Sq': 2}\n",
      "\n",
      "{'g': 3, 'm4': 2, 'Ue4Sq': 3, 'Um4Sq': 2}\n",
      "\n",
      "{'g': 3, 'm4': 3, 'Ue4Sq': 3, 'Um4Sq': 2}\n",
      "\n",
      "{'g': 3, 'm4': 4, 'Ue4Sq': 3, 'Um4Sq': 2}\n",
      "\n",
      "{'g': 4, 'm4': 1, 'Ue4Sq': 3, 'Um4Sq': 2}\n",
      "\n",
      "{'g': 4, 'm4': 2, 'Ue4Sq': 3, 'Um4Sq': 2}\n",
      "\n",
      "{'g': 4, 'm4': 3, 'Ue4Sq': 3, 'Um4Sq': 2}\n",
      "\n",
      "{'g': 4, 'm4': 4, 'Ue4Sq': 3, 'Um4Sq': 2}\n",
      "\n",
      "{'g': 1, 'm4': 1, 'Ue4Sq': 4, 'Um4Sq': 2}\n",
      "\n",
      "{'g': 1, 'm4': 2, 'Ue4Sq': 4, 'Um4Sq': 2}\n",
      "\n",
      "{'g': 1, 'm4': 3, 'Ue4Sq': 4, 'Um4Sq': 2}\n",
      "\n",
      "{'g': 1, 'm4': 4, 'Ue4Sq': 4, 'Um4Sq': 2}\n",
      "\n",
      "{'g': 2, 'm4': 1, 'Ue4Sq': 4, 'Um4Sq': 2}\n",
      "\n",
      "{'g': 2, 'm4': 2, 'Ue4Sq': 4, 'Um4Sq': 2}\n",
      "\n",
      "{'g': 2, 'm4': 3, 'Ue4Sq': 4, 'Um4Sq': 2}\n",
      "\n",
      "{'g': 2, 'm4': 4, 'Ue4Sq': 4, 'Um4Sq': 2}\n",
      "\n",
      "{'g': 3, 'm4': 1, 'Ue4Sq': 4, 'Um4Sq': 2}\n",
      "\n",
      "{'g': 3, 'm4': 2, 'Ue4Sq': 4, 'Um4Sq': 2}\n",
      "\n",
      "{'g': 3, 'm4': 3, 'Ue4Sq': 4, 'Um4Sq': 2}\n",
      "\n",
      "{'g': 3, 'm4': 4, 'Ue4Sq': 4, 'Um4Sq': 2}\n",
      "\n",
      "{'g': 4, 'm4': 1, 'Ue4Sq': 4, 'Um4Sq': 2}\n",
      "\n",
      "{'g': 4, 'm4': 2, 'Ue4Sq': 4, 'Um4Sq': 2}\n",
      "\n",
      "{'g': 4, 'm4': 3, 'Ue4Sq': 4, 'Um4Sq': 2}\n",
      "\n",
      "{'g': 4, 'm4': 4, 'Ue4Sq': 4, 'Um4Sq': 2}\n",
      "\n",
      "{'g': 1, 'm4': 1, 'Ue4Sq': 1, 'Um4Sq': 3}\n",
      "\n",
      "{'g': 1, 'm4': 2, 'Ue4Sq': 1, 'Um4Sq': 3}\n",
      "\n",
      "{'g': 1, 'm4': 3, 'Ue4Sq': 1, 'Um4Sq': 3}\n",
      "\n",
      "{'g': 1, 'm4': 4, 'Ue4Sq': 1, 'Um4Sq': 3}\n",
      "\n",
      "{'g': 2, 'm4': 1, 'Ue4Sq': 1, 'Um4Sq': 3}\n",
      "\n",
      "{'g': 2, 'm4': 2, 'Ue4Sq': 1, 'Um4Sq': 3}\n",
      "\n",
      "{'g': 2, 'm4': 3, 'Ue4Sq': 1, 'Um4Sq': 3}\n",
      "\n",
      "{'g': 2, 'm4': 4, 'Ue4Sq': 1, 'Um4Sq': 3}\n",
      "\n",
      "{'g': 3, 'm4': 1, 'Ue4Sq': 1, 'Um4Sq': 3}\n",
      "\n",
      "{'g': 3, 'm4': 2, 'Ue4Sq': 1, 'Um4Sq': 3}\n",
      "\n",
      "{'g': 3, 'm4': 3, 'Ue4Sq': 1, 'Um4Sq': 3}\n",
      "\n",
      "{'g': 3, 'm4': 4, 'Ue4Sq': 1, 'Um4Sq': 3}\n",
      "\n",
      "{'g': 4, 'm4': 1, 'Ue4Sq': 1, 'Um4Sq': 3}\n",
      "\n",
      "{'g': 4, 'm4': 2, 'Ue4Sq': 1, 'Um4Sq': 3}\n",
      "\n",
      "{'g': 4, 'm4': 3, 'Ue4Sq': 1, 'Um4Sq': 3}\n",
      "\n",
      "{'g': 4, 'm4': 4, 'Ue4Sq': 1, 'Um4Sq': 3}\n",
      "\n",
      "{'g': 1, 'm4': 1, 'Ue4Sq': 2, 'Um4Sq': 3}\n",
      "\n",
      "{'g': 1, 'm4': 2, 'Ue4Sq': 2, 'Um4Sq': 3}\n",
      "\n",
      "{'g': 1, 'm4': 3, 'Ue4Sq': 2, 'Um4Sq': 3}\n",
      "\n",
      "{'g': 1, 'm4': 4, 'Ue4Sq': 2, 'Um4Sq': 3}\n",
      "\n",
      "{'g': 2, 'm4': 1, 'Ue4Sq': 2, 'Um4Sq': 3}\n",
      "\n",
      "{'g': 2, 'm4': 2, 'Ue4Sq': 2, 'Um4Sq': 3}\n",
      "\n",
      "{'g': 2, 'm4': 3, 'Ue4Sq': 2, 'Um4Sq': 3}\n",
      "\n",
      "{'g': 2, 'm4': 4, 'Ue4Sq': 2, 'Um4Sq': 3}\n",
      "\n",
      "{'g': 3, 'm4': 1, 'Ue4Sq': 2, 'Um4Sq': 3}\n",
      "\n",
      "{'g': 3, 'm4': 2, 'Ue4Sq': 2, 'Um4Sq': 3}\n",
      "\n",
      "{'g': 3, 'm4': 3, 'Ue4Sq': 2, 'Um4Sq': 3}\n",
      "\n",
      "{'g': 3, 'm4': 4, 'Ue4Sq': 2, 'Um4Sq': 3}\n",
      "\n",
      "{'g': 4, 'm4': 1, 'Ue4Sq': 2, 'Um4Sq': 3}\n",
      "\n",
      "{'g': 4, 'm4': 2, 'Ue4Sq': 2, 'Um4Sq': 3}\n",
      "\n",
      "{'g': 4, 'm4': 3, 'Ue4Sq': 2, 'Um4Sq': 3}\n",
      "\n",
      "{'g': 4, 'm4': 4, 'Ue4Sq': 2, 'Um4Sq': 3}\n",
      "\n",
      "{'g': 1, 'm4': 1, 'Ue4Sq': 3, 'Um4Sq': 3}\n",
      "\n",
      "{'g': 1, 'm4': 2, 'Ue4Sq': 3, 'Um4Sq': 3}\n",
      "\n",
      "{'g': 1, 'm4': 3, 'Ue4Sq': 3, 'Um4Sq': 3}\n",
      "\n",
      "{'g': 1, 'm4': 4, 'Ue4Sq': 3, 'Um4Sq': 3}\n",
      "\n",
      "{'g': 2, 'm4': 1, 'Ue4Sq': 3, 'Um4Sq': 3}\n",
      "\n",
      "{'g': 2, 'm4': 2, 'Ue4Sq': 3, 'Um4Sq': 3}\n",
      "\n",
      "{'g': 2, 'm4': 3, 'Ue4Sq': 3, 'Um4Sq': 3}\n",
      "\n",
      "{'g': 2, 'm4': 4, 'Ue4Sq': 3, 'Um4Sq': 3}\n",
      "\n",
      "{'g': 3, 'm4': 1, 'Ue4Sq': 3, 'Um4Sq': 3}\n",
      "\n",
      "{'g': 3, 'm4': 2, 'Ue4Sq': 3, 'Um4Sq': 3}\n",
      "\n",
      "{'g': 3, 'm4': 3, 'Ue4Sq': 3, 'Um4Sq': 3}\n",
      "\n",
      "{'g': 3, 'm4': 4, 'Ue4Sq': 3, 'Um4Sq': 3}\n",
      "\n",
      "{'g': 4, 'm4': 1, 'Ue4Sq': 3, 'Um4Sq': 3}\n",
      "\n",
      "{'g': 4, 'm4': 2, 'Ue4Sq': 3, 'Um4Sq': 3}\n",
      "\n",
      "{'g': 4, 'm4': 3, 'Ue4Sq': 3, 'Um4Sq': 3}\n",
      "\n",
      "{'g': 4, 'm4': 4, 'Ue4Sq': 3, 'Um4Sq': 3}\n",
      "\n",
      "{'g': 1, 'm4': 1, 'Ue4Sq': 4, 'Um4Sq': 3}\n",
      "\n",
      "{'g': 1, 'm4': 2, 'Ue4Sq': 4, 'Um4Sq': 3}\n",
      "\n",
      "{'g': 1, 'm4': 3, 'Ue4Sq': 4, 'Um4Sq': 3}\n",
      "\n",
      "{'g': 1, 'm4': 4, 'Ue4Sq': 4, 'Um4Sq': 3}\n",
      "\n",
      "{'g': 2, 'm4': 1, 'Ue4Sq': 4, 'Um4Sq': 3}\n",
      "\n",
      "{'g': 2, 'm4': 2, 'Ue4Sq': 4, 'Um4Sq': 3}\n",
      "\n",
      "{'g': 2, 'm4': 3, 'Ue4Sq': 4, 'Um4Sq': 3}\n",
      "\n",
      "{'g': 2, 'm4': 4, 'Ue4Sq': 4, 'Um4Sq': 3}\n",
      "\n",
      "{'g': 3, 'm4': 1, 'Ue4Sq': 4, 'Um4Sq': 3}\n",
      "\n",
      "{'g': 3, 'm4': 2, 'Ue4Sq': 4, 'Um4Sq': 3}\n",
      "\n",
      "{'g': 3, 'm4': 3, 'Ue4Sq': 4, 'Um4Sq': 3}\n",
      "\n",
      "{'g': 3, 'm4': 4, 'Ue4Sq': 4, 'Um4Sq': 3}\n",
      "\n",
      "{'g': 4, 'm4': 1, 'Ue4Sq': 4, 'Um4Sq': 3}\n",
      "\n",
      "{'g': 4, 'm4': 2, 'Ue4Sq': 4, 'Um4Sq': 3}\n",
      "\n",
      "{'g': 4, 'm4': 3, 'Ue4Sq': 4, 'Um4Sq': 3}\n",
      "\n",
      "{'g': 4, 'm4': 4, 'Ue4Sq': 4, 'Um4Sq': 3}\n",
      "\n",
      "{'g': 1, 'm4': 1, 'Ue4Sq': 1, 'Um4Sq': 4}\n",
      "\n",
      "{'g': 1, 'm4': 2, 'Ue4Sq': 1, 'Um4Sq': 4}\n",
      "\n",
      "{'g': 1, 'm4': 3, 'Ue4Sq': 1, 'Um4Sq': 4}\n",
      "\n",
      "{'g': 1, 'm4': 4, 'Ue4Sq': 1, 'Um4Sq': 4}\n",
      "\n",
      "{'g': 2, 'm4': 1, 'Ue4Sq': 1, 'Um4Sq': 4}\n",
      "\n",
      "{'g': 2, 'm4': 2, 'Ue4Sq': 1, 'Um4Sq': 4}\n",
      "\n",
      "{'g': 2, 'm4': 3, 'Ue4Sq': 1, 'Um4Sq': 4}\n",
      "\n",
      "{'g': 2, 'm4': 4, 'Ue4Sq': 1, 'Um4Sq': 4}\n",
      "\n",
      "{'g': 3, 'm4': 1, 'Ue4Sq': 1, 'Um4Sq': 4}\n",
      "\n",
      "{'g': 3, 'm4': 2, 'Ue4Sq': 1, 'Um4Sq': 4}\n",
      "\n",
      "{'g': 3, 'm4': 3, 'Ue4Sq': 1, 'Um4Sq': 4}\n",
      "\n",
      "{'g': 3, 'm4': 4, 'Ue4Sq': 1, 'Um4Sq': 4}\n",
      "\n",
      "{'g': 4, 'm4': 1, 'Ue4Sq': 1, 'Um4Sq': 4}\n",
      "\n",
      "{'g': 4, 'm4': 2, 'Ue4Sq': 1, 'Um4Sq': 4}\n",
      "\n",
      "{'g': 4, 'm4': 3, 'Ue4Sq': 1, 'Um4Sq': 4}\n",
      "\n",
      "{'g': 4, 'm4': 4, 'Ue4Sq': 1, 'Um4Sq': 4}\n",
      "\n",
      "{'g': 1, 'm4': 1, 'Ue4Sq': 2, 'Um4Sq': 4}\n",
      "\n",
      "{'g': 1, 'm4': 2, 'Ue4Sq': 2, 'Um4Sq': 4}\n",
      "\n",
      "{'g': 1, 'm4': 3, 'Ue4Sq': 2, 'Um4Sq': 4}\n",
      "\n",
      "{'g': 1, 'm4': 4, 'Ue4Sq': 2, 'Um4Sq': 4}\n",
      "\n",
      "{'g': 2, 'm4': 1, 'Ue4Sq': 2, 'Um4Sq': 4}\n",
      "\n",
      "{'g': 2, 'm4': 2, 'Ue4Sq': 2, 'Um4Sq': 4}\n",
      "\n",
      "{'g': 2, 'm4': 3, 'Ue4Sq': 2, 'Um4Sq': 4}\n",
      "\n",
      "{'g': 2, 'm4': 4, 'Ue4Sq': 2, 'Um4Sq': 4}\n",
      "\n",
      "{'g': 3, 'm4': 1, 'Ue4Sq': 2, 'Um4Sq': 4}\n",
      "\n",
      "{'g': 3, 'm4': 2, 'Ue4Sq': 2, 'Um4Sq': 4}\n",
      "\n",
      "{'g': 3, 'm4': 3, 'Ue4Sq': 2, 'Um4Sq': 4}\n",
      "\n",
      "{'g': 3, 'm4': 4, 'Ue4Sq': 2, 'Um4Sq': 4}\n",
      "\n",
      "{'g': 4, 'm4': 1, 'Ue4Sq': 2, 'Um4Sq': 4}\n",
      "\n",
      "{'g': 4, 'm4': 2, 'Ue4Sq': 2, 'Um4Sq': 4}\n",
      "\n",
      "{'g': 4, 'm4': 3, 'Ue4Sq': 2, 'Um4Sq': 4}\n",
      "\n",
      "{'g': 4, 'm4': 4, 'Ue4Sq': 2, 'Um4Sq': 4}\n",
      "\n",
      "{'g': 1, 'm4': 1, 'Ue4Sq': 3, 'Um4Sq': 4}\n",
      "\n",
      "{'g': 1, 'm4': 2, 'Ue4Sq': 3, 'Um4Sq': 4}\n",
      "\n",
      "{'g': 1, 'm4': 3, 'Ue4Sq': 3, 'Um4Sq': 4}\n",
      "\n",
      "{'g': 1, 'm4': 4, 'Ue4Sq': 3, 'Um4Sq': 4}\n",
      "\n",
      "{'g': 2, 'm4': 1, 'Ue4Sq': 3, 'Um4Sq': 4}\n",
      "\n",
      "{'g': 2, 'm4': 2, 'Ue4Sq': 3, 'Um4Sq': 4}\n",
      "\n",
      "{'g': 2, 'm4': 3, 'Ue4Sq': 3, 'Um4Sq': 4}\n",
      "\n",
      "{'g': 2, 'm4': 4, 'Ue4Sq': 3, 'Um4Sq': 4}\n",
      "\n",
      "{'g': 3, 'm4': 1, 'Ue4Sq': 3, 'Um4Sq': 4}\n",
      "\n",
      "{'g': 3, 'm4': 2, 'Ue4Sq': 3, 'Um4Sq': 4}\n",
      "\n",
      "{'g': 3, 'm4': 3, 'Ue4Sq': 3, 'Um4Sq': 4}\n",
      "\n",
      "{'g': 3, 'm4': 4, 'Ue4Sq': 3, 'Um4Sq': 4}\n",
      "\n",
      "{'g': 4, 'm4': 1, 'Ue4Sq': 3, 'Um4Sq': 4}\n",
      "\n",
      "{'g': 4, 'm4': 2, 'Ue4Sq': 3, 'Um4Sq': 4}\n",
      "\n",
      "{'g': 4, 'm4': 3, 'Ue4Sq': 3, 'Um4Sq': 4}\n",
      "\n",
      "{'g': 4, 'm4': 4, 'Ue4Sq': 3, 'Um4Sq': 4}\n",
      "\n",
      "{'g': 1, 'm4': 1, 'Ue4Sq': 4, 'Um4Sq': 4}\n",
      "\n",
      "{'g': 1, 'm4': 2, 'Ue4Sq': 4, 'Um4Sq': 4}\n",
      "\n",
      "{'g': 1, 'm4': 3, 'Ue4Sq': 4, 'Um4Sq': 4}\n",
      "\n",
      "{'g': 1, 'm4': 4, 'Ue4Sq': 4, 'Um4Sq': 4}\n",
      "\n",
      "{'g': 2, 'm4': 1, 'Ue4Sq': 4, 'Um4Sq': 4}\n",
      "\n",
      "{'g': 2, 'm4': 2, 'Ue4Sq': 4, 'Um4Sq': 4}\n",
      "\n",
      "{'g': 2, 'm4': 3, 'Ue4Sq': 4, 'Um4Sq': 4}\n",
      "\n",
      "{'g': 2, 'm4': 4, 'Ue4Sq': 4, 'Um4Sq': 4}\n",
      "\n",
      "{'g': 3, 'm4': 1, 'Ue4Sq': 4, 'Um4Sq': 4}\n",
      "\n",
      "{'g': 3, 'm4': 2, 'Ue4Sq': 4, 'Um4Sq': 4}\n",
      "\n",
      "{'g': 3, 'm4': 3, 'Ue4Sq': 4, 'Um4Sq': 4}\n",
      "\n",
      "{'g': 3, 'm4': 4, 'Ue4Sq': 4, 'Um4Sq': 4}\n",
      "\n",
      "{'g': 4, 'm4': 1, 'Ue4Sq': 4, 'Um4Sq': 4}\n",
      "\n",
      "{'g': 4, 'm4': 2, 'Ue4Sq': 4, 'Um4Sq': 4}\n",
      "\n",
      "{'g': 4, 'm4': 3, 'Ue4Sq': 4, 'Um4Sq': 4}\n",
      "\n",
      "{'g': 4, 'm4': 4, 'Ue4Sq': 4, 'Um4Sq': 4}\n",
      "\n"
     ]
    }
   ],
   "source": [
    "def create_grid_of_params(g, m4, Ue4Sq, Um4Sq):\n",
    "    paramlist_decay = np.array(np.meshgrid(g, m4, Ue4Sq, Um4Sq)).T.reshape(-1, 4)\n",
    "    return [{\"g\": g, \"m4\": m4, \"Ue4Sq\": Ue4Sq, \"Um4Sq\": Um4Sq} for g, m4, Ue4Sq, Um4Sq in paramlist_decay]\n",
    "\n",
    "Npoints = 3\n",
    "# Range of g for sterile decay model scanned over 1e-1 to 1e2 in 15 steps\n",
    "g = [1,2,3,4]\n",
    "\n",
    "# Range of m scanned over 1e-1 to 1e2 in 15 steps\n",
    "m = [1,2,3,4]\n",
    "\n",
    "# Range of |U_{e4}|^2 scanned over 1e-4 to 0.49 in 15 steps\n",
    "e = [1,2,3,4]\n",
    "\n",
    "# Range of |U_{\\mu4}|^2 scanned over 1e-4 to 0.49 in 15 steps\n",
    "mu = [1,2,3,4]\n",
    "\n",
    "paramlist_decay = create_grid_of_params(g, m, e, mu)\n",
    "for entry in paramlist_decay:\n",
    "    print(entry)\n",
    "    print()\n",
    "    "
   ]
  },
  {
   "cell_type": "code",
   "execution_count": 33,
   "metadata": {},
   "outputs": [
    {
     "name": "stdout",
     "output_type": "stream",
     "text": [
      "{'g': 1, 'm4': 1, 'Ue4Sq': 1, 'Um4Sq': 1}\n",
      "{'g': 1, 'm4': 2, 'Ue4Sq': 1, 'Um4Sq': 1}\n",
      "{'g': 1, 'm4': 3, 'Ue4Sq': 1, 'Um4Sq': 1}\n",
      "{'g': 1, 'm4': 4, 'Ue4Sq': 1, 'Um4Sq': 1}\n",
      "{'g': 1, 'm4': 1, 'Ue4Sq': 1, 'Um4Sq': 2}\n",
      "{'g': 1, 'm4': 2, 'Ue4Sq': 1, 'Um4Sq': 2}\n",
      "{'g': 1, 'm4': 3, 'Ue4Sq': 1, 'Um4Sq': 2}\n",
      "{'g': 1, 'm4': 4, 'Ue4Sq': 1, 'Um4Sq': 2}\n",
      "{'g': 1, 'm4': 1, 'Ue4Sq': 1, 'Um4Sq': 3}\n",
      "{'g': 1, 'm4': 2, 'Ue4Sq': 1, 'Um4Sq': 3}\n",
      "{'g': 1, 'm4': 3, 'Ue4Sq': 1, 'Um4Sq': 3}\n",
      "{'g': 1, 'm4': 4, 'Ue4Sq': 1, 'Um4Sq': 3}\n",
      "{'g': 1, 'm4': 1, 'Ue4Sq': 1, 'Um4Sq': 4}\n",
      "{'g': 1, 'm4': 2, 'Ue4Sq': 1, 'Um4Sq': 4}\n",
      "{'g': 1, 'm4': 3, 'Ue4Sq': 1, 'Um4Sq': 4}\n",
      "{'g': 1, 'm4': 4, 'Ue4Sq': 1, 'Um4Sq': 4}\n"
     ]
    }
   ],
   "source": [
    "# Filter entries where g is 1 and Ue4Sq is 1\n",
    "filtered_entries = [entry for entry in paramlist_decay if entry[\"g\"] == 1 and entry[\"Ue4Sq\"] == 1]\n",
    "\n",
    "# Print the filtered entries\n",
    "for entry in filtered_entries:\n",
    "    print(entry)"
   ]
  },
  {
   "cell_type": "code",
   "execution_count": 34,
   "metadata": {},
   "outputs": [
    {
     "name": "stdout",
     "output_type": "stream",
     "text": [
      "{'g': 1, 'm4': 1, 'Ue4Sq': 1, 'Um4Sq': 1}\n",
      "{'g': 1, 'm4': 2, 'Ue4Sq': 1, 'Um4Sq': 1}\n",
      "{'g': 1, 'm4': 3, 'Ue4Sq': 1, 'Um4Sq': 1}\n",
      "{'g': 1, 'm4': 4, 'Ue4Sq': 1, 'Um4Sq': 1}\n",
      "{'g': 1, 'm4': 1, 'Ue4Sq': 1, 'Um4Sq': 2}\n",
      "{'g': 1, 'm4': 2, 'Ue4Sq': 1, 'Um4Sq': 2}\n",
      "{'g': 1, 'm4': 3, 'Ue4Sq': 1, 'Um4Sq': 2}\n",
      "{'g': 1, 'm4': 4, 'Ue4Sq': 1, 'Um4Sq': 2}\n",
      "{'g': 1, 'm4': 1, 'Ue4Sq': 1, 'Um4Sq': 3}\n",
      "{'g': 1, 'm4': 2, 'Ue4Sq': 1, 'Um4Sq': 3}\n",
      "{'g': 1, 'm4': 3, 'Ue4Sq': 1, 'Um4Sq': 3}\n",
      "{'g': 1, 'm4': 4, 'Ue4Sq': 1, 'Um4Sq': 3}\n",
      "{'g': 1, 'm4': 1, 'Ue4Sq': 1, 'Um4Sq': 4}\n",
      "{'g': 1, 'm4': 2, 'Ue4Sq': 1, 'Um4Sq': 4}\n",
      "{'g': 1, 'm4': 3, 'Ue4Sq': 1, 'Um4Sq': 4}\n",
      "{'g': 1, 'm4': 4, 'Ue4Sq': 1, 'Um4Sq': 4}\n"
     ]
    }
   ],
   "source": [
    "test_entries = create_grid_of_params(1,m,1,mu)\n",
    "for entry in test_entries:\n",
    "    print(entry)"
   ]
  },
  {
   "cell_type": "code",
   "execution_count": 20,
   "metadata": {},
   "outputs": [
    {
     "name": "stdout",
     "output_type": "stream",
     "text": [
      "2020\n"
     ]
    }
   ],
   "source": [
    "def test(which_template = \"2012\"):\n",
    "    if which_template == \"2012\":\n",
    "        relative_exposure = 2012\n",
    "    elif which_template == \"2018\":\n",
    "        relative_exposure = 2018\n",
    "    elif which_template == \"2020\":\n",
    "        relative_exposure = 2020\n",
    "    return relative_exposure\n",
    "print(test(which_template = \"2020\"))"
   ]
  },
  {
   "cell_type": "code",
   "execution_count": 11,
   "metadata": {},
   "outputs": [
    {
     "name": "stdout",
     "output_type": "stream",
     "text": [
      "[0.5 0.5 0.5 0.5 0.5 0.5 0.5 0.5 0.5 0.5]\n"
     ]
    }
   ],
   "source": []
  },
  {
   "cell_type": "code",
   "execution_count": 25,
   "metadata": {},
   "outputs": [
    {
     "name": "stdout",
     "output_type": "stream",
     "text": [
      "[array([1., 1., 1., 1.])]\n"
     ]
    }
   ],
   "source": [
    "SigSets = np.array([1,2,3,4])\n",
    "RWVec = np.array([1,2,3,4])\n",
    "SSRW = SigSets * RWVec\n",
    "SSRW1 = []\n",
    "SSRW1.append(SigSets / RWVec)\n",
    "print(SSRW1)"
   ]
  },
  {
   "cell_type": "code",
   "execution_count": 7,
   "metadata": {},
   "outputs": [
    {
     "name": "stdout",
     "output_type": "stream",
     "text": [
      "[135.99766599999998, 66.99785800000001, 73.56322399999999, 39.482043000000004, 4.964655999999991, 29.098184000000003, 0.9796110000000056, 1.5530219999999986, 15.795480999999995, -0.6039190000000048, -7.9532039999999995]\n",
      "[198.59472254672895, 97.83565712616823, 107.42293224299065, 57.65485251168225, 7.249789719626155, 42.491507009345796, 1.4305067172897277, 2.26784754672897, 23.065830899532703, -0.8818910630841191, -11.613907710280372]\n"
     ]
    },
    {
     "data": {
      "image/png": "[encoded data removed]",
      "text/plain": [
       "<Figure size 432x288 with 1 Axes>"
      ]
     },
     "metadata": {
      "needs_background": "light"
     },
     "output_type": "display_data"
    }
   ],
   "source": [
    "# MiniBooNE 2018 excess POT: 12.84e20\n",
    "import numpy as np\n",
    "from multiprocessing import Pool\n",
    "import matplotlib.pyplot as plt\n",
    "\n",
    "from functools import partial\n",
    "\n",
    "import param_scan\n",
    "MB_True_BinEdges = [200.0, 300.0, 375.0, 475.0, 550.0, 675.0, 800.0, 950.0, 1100.0, 1250.0, 1500.0, 3000.0]\n",
    "MBdata = [497.0, 283.0, 313.0, 167.0, 184.0, 163.0, 140.0, 115.0, 97.0, 98.0, 130.0]\n",
    "MBbkg = [361.002334, 216.002142, 239.436776, 127.517957, 179.035344, 133.901816, 139.020389, 113.446978, 81.204519, 98.603919, 137.953204]  \n",
    "MBdata_norm = []\n",
    "for i in range(len(MBdata)):\n",
    "    MBdata_norm.append(MBdata[i] / (MB_True_BinEdges[i + 1] - MB_True_BinEdges[i]))\n",
    "\n",
    "MBbkg_norm = []\n",
    "for i in range(len(MBbkg)):\n",
    "    MBbkg_norm.append(MBbkg[i] / (MB_True_BinEdges[i + 1] - MB_True_BinEdges[i]))\n",
    "plt.step(MB_True_BinEdges[:-1], MBdata_norm, color='dodgerblue', ls=':', lw=2)\n",
    "plt.step(MB_True_BinEdges[:-1], MBbkg_norm, color='dodgerblue', ls='--', lw=2)\n",
    "excess = []\n",
    "excess_norm = []\n",
    "for i in range(len(MBdata)):\n",
    "    excess.append(MBdata[i]-MBbkg[i])\n",
    "    excess_norm.append((MBdata[i]-MBbkg[i])*18.75/12.84)\n",
    "print(excess)\n",
    "print(excess_norm)"
   ]
  },
  {
   "cell_type": "code",
   "execution_count": 43,
   "metadata": {},
   "outputs": [
    {
     "name": "stdout",
     "output_type": "stream",
     "text": [
      "[204.835376, 110.57631099999998, 94.35517499999997, 61.78802999999999, 19.558200999999997, 40.46580700000001, -2.0087450000000047, -1.6643960000000106, 19.418634999999995, 0.010633000000012771, -13.450356999999997]\n"
     ]
    },
    {
     "data": {
      "text/plain": [
       "[<matplotlib.lines.Line2D at 0x7fb15be624c0>]"
      ]
     },
     "execution_count": 43,
     "metadata": {},
     "output_type": "execute_result"
    },
    {
     "data": {
      "image/png": "[encoded data removed]",
      "text/plain": [
       "<Figure size 432x288 with 1 Axes>"
      ]
     },
     "metadata": {
      "needs_background": "light"
     },
     "output_type": "display_data"
    }
   ],
   "source": [
    "# MiniBooNE 2020 excess POT: 18.75e20\n",
    "MB_True_BinEdges = [200.0, 300.0, 375.0, 475.0, 550.0, 675.0, 800.0, 950.0, 1100.0, 1250.0, 1500.0, 3000.0]\n",
    "MBdata = [732.0,  426.0 , 444.0,  248.0  ,281.0 , 236.0,  201.0 , 164.0 , 138.0 , 144.0 , 188.0]\n",
    "MBbkg = [527.164624 , 315.423689 , 349.644825 , 186.211970 , 261.441799 , 195.534193, 203.008745 , 165.664396 , 118.581365 , 143.989367 , 201.450357]  \n",
    "MBdata_norm = []\n",
    "for i in range(len(MBdata)):\n",
    "    MBdata_norm.append(MBdata[i] / (MB_True_BinEdges[i + 1] - MB_True_BinEdges[i]))\n",
    "\n",
    "MBbkg_norm = []\n",
    "for i in range(len(MBbkg)):\n",
    "    MBbkg_norm.append(MBbkg[i] / (MB_True_BinEdges[i + 1] - MB_True_BinEdges[i]))\n",
    "excess_2020 = []\n",
    "for i in range(len(MBdata)):\n",
    "    excess_2020.append(MBdata[i]-MBbkg[i])\n",
    "print(excess_2020)\n",
    "#plt.step(MB_True_BinEdges[:-1], MBdata_norm, color='dodgerblue', ls=':', lw=2)\n",
    "#plt.step(MB_True_BinEdges[:-1], MBbkg_norm, color='dodgerblue', ls='--', lw=2)\n",
    "plt.step(MB_True_BinEdges[:-1], excess_norm, color='red', lw=2)\n",
    "plt.step(MB_True_BinEdges[:-1], excess_2020, color='dodgerblue', lw=2)"
   ]
  },
  {
   "cell_type": "code",
   "execution_count": 8,
   "metadata": {},
   "outputs": [
    {
     "name": "stdout",
     "output_type": "stream",
     "text": [
      "[ 100.  200.  300.  400.  500.  600.  700.  800.  900. 1000. 1100. 1200.\n",
      " 1300. 1400. 1500. 1600. 1700. 1800. 1900. 2000. 2100. 2200. 2300. 2400.\n",
      " 2500.]\n",
      "[3.70703593e+00 9.99873089e+00 8.97393856e+00 6.09817615e+00\n",
      " 4.09828745e+00 2.55760150e+00 1.33886685e+00 5.07740299e-01\n",
      " 1.55243311e-01 7.01578542e-02 3.23583492e-02 2.54323927e-02\n",
      " 6.31835041e-03 3.95957080e-03 3.44288913e-03 4.16592022e-03\n",
      " 0.00000000e+00 1.44642576e-03 0.00000000e+00 3.74900019e-03\n",
      " 0.00000000e+00 1.06192480e-03 0.00000000e+00 0.00000000e+00]\n",
      "[2.67857 8.63095 7.88691 5.80357 4.01786 2.08334 0.89286 0.      0.\n",
      " 0.      0.      0.      0.      0.      0.      0.      0.      0.\n",
      " 0.      0.      0.      0.      0.      0.     ]\n"
     ]
    },
    {
     "data": {
      "text/plain": [
       "<matplotlib.legend.Legend at 0x7ff0c9242970>"
      ]
     },
     "execution_count": 8,
     "metadata": {},
     "output_type": "execute_result"
    },
    {
     "data": {
      "image/png": "[encoded data removed]",
      "text/plain": [
       "<Figure size 432x288 with 1 Axes>"
      ]
     },
     "metadata": {
      "needs_background": "light"
     },
     "output_type": "display_data"
    }
   ],
   "source": [
    "# Official excess\n",
    "# function of reconstructed shower energy\n",
    "#official_data_FC = np.array([18.203125, 38.984375, 47.1875, 39.53125, 34.609375])\n",
    "#official_bkg_FC = np.array([9.726562, 25.85937, 40.62499, 36.52343, 33.78906])\n",
    "#official_data_PC = np.array([14.92187, 20.11718, 28.04687, 25.58593])\n",
    "#official_bkg_PC = np.array([13.554687, 17.929687, 26.6796875, 25.31249])\n",
    "\n",
    "# function of reconstructed energy\n",
    "official_data_FC = np.array([5.53571, 14.76190, 21.16071, 22.64880, 28.45238, 28.75000, 27.55952])\n",
    "official_bkg_FC = np.array([2.85714, 6.13095, 13.27380, 16.84523, 24.43452, 26.66666, 26.66666])\n",
    "official_data_PC = np.array([1.51785, 6.87499, 7.91666, 10.59523, 14.01785, 16.25000])\n",
    "official_bkg_PC = np.array([1.36904, 5.83333, 6.57738, 9.40476, 13.27380, 15.95238])\n",
    "official_excess_FC = official_data_FC - official_bkg_FC\n",
    "official_excess_FC = np.append(official_excess_FC, [0]*17)\n",
    "official_excess_PC = official_data_PC - official_bkg_PC\n",
    "official_excess_PC = np.append(official_excess_PC, [0]*18)\n",
    "# Now let's unfold the MiniBooNE excess in MB official 11 bins to MicroBooNE\n",
    "from MicroTools import unfolder\n",
    "GBPC = unfolder.MBtomuB(\n",
    "    analysis=\"1eX_PC\", remove_high_energy=True, unfold=True, effNoUnfold=True, which_template=\"2018\"\n",
    ")\n",
    "GBFC = unfolder.MBtomuB(\n",
    "    analysis=\"1eX\", remove_high_energy=True, unfold=True, effNoUnfold=True, which_template=\"2018\"\n",
    ")\n",
    "MB_BinEdges = np.array([200.0, 300.0, 375.0, 475.0, 550.0, 675.0, 800.0, 950.0, 1100.0, 1250.0, 1500.0, 3000.0])\n",
    "MBdata = np.array([497.0, 283.0, 313.0, 167.0, 184.0, 163.0, 140.0, 115.0, 97.0, 98.0, 130.0])\n",
    "MBbkg = np.array([361.002334, 216.002142, 239.436776, 127.517957, 179.035344, 133.901816, 139.020389, 113.446978, 81.204519, 98.603919, 137.953204])\n",
    "MBSig_for_unfolding = MBdata - MBbkg\n",
    "# MicroBooNE fully inclusive signal by unfolding MiniBooNE Signal\n",
    "uBFC = GBFC.miniToMicro(MBSig_for_unfolding)\n",
    "# MicroBooNE partially inclusive signal by unfolding MiniBooNE Signal\n",
    "uBPC = GBPC.miniToMicro(MBSig_for_unfolding)\n",
    "# MicroBooNE bin edges\n",
    "bin_edges_rec_microB = np.linspace(100, 2500, 25)\n",
    "print(bin_edges_rec_microB)\n",
    "print(uBFC)\n",
    "print(official_excess_FC)\n",
    "plt.hist(bin_edges_rec_microB[:-1], bins=bin_edges_rec_microB, weights = uBFC,  histtype='step', color='red', ls=':', linewidth=1.5, label='FC unfolded')\n",
    "plt.hist(bin_edges_rec_microB[:-1], bins=bin_edges_rec_microB, weights = official_excess_FC,  histtype='step', color='red', ls='-', linewidth=1.5, label='FC official')\n",
    "\n",
    "#plt.step(bin_edges_rec_microB[1:], uBPC, color='blue', ls=':', lw=2, label = 'PC')\n",
    "plt.title('MicroBooNE FC signal comparison')\n",
    "plt.legend()"
   ]
  },
  {
   "cell_type": "code",
   "execution_count": 121,
   "metadata": {},
   "outputs": [
    {
     "name": "stdout",
     "output_type": "stream",
     "text": [
      "37.587713617437146\n",
      "5.352191962628907\n"
     ]
    },
    {
     "data": {
      "image/png": "[encoded data removed]",
      "text/plain": [
       "<Figure size 432x288 with 1 Axes>"
      ]
     },
     "metadata": {
      "needs_background": "light"
     },
     "output_type": "display_data"
    }
   ],
   "source": [
    "plt.hist(bin_edges_rec_microB[:-1], bins=bin_edges_rec_microB, weights = uBPC,  histtype='step', color='red', ls=':', linewidth=1.5, label='PC unfolded')\n",
    "plt.hist(bin_edges_rec_microB[:-1], bins=bin_edges_rec_microB, weights = official_excess_PC,  histtype='step', color='red', ls='-', linewidth=1.5, label='PC official')\n",
    "plt.title('MicroBooNE PC signal comparison')\n",
    "plt.legend()\n",
    "print(sum(uBFC))\n",
    "print(sum(uBPC))"
   ]
  },
  {
   "cell_type": "code",
   "execution_count": 126,
   "metadata": {},
   "outputs": [
    {
     "name": "stdout",
     "output_type": "stream",
     "text": [
      "[ 100.  200.  300.  400.  500.  600.  700.  800.  900. 1000. 1100. 1200.\n",
      " 1300. 1400. 1500. 1600. 1700. 1800. 1900. 2000. 2100. 2200. 2300. 2400.\n",
      " 2500.]\n",
      "39.605774494682834\n",
      "[2.67857 8.63095 7.88691 5.80357 4.01786 2.08334 0.89286 0.      0.\n",
      " 0.      0.      0.      0.      0.      0.      0.      0.      0.\n",
      " 0.      0.      0.      0.      0.      0.     ]\n"
     ]
    },
    {
     "data": {
      "text/plain": [
       "<matplotlib.legend.Legend at 0x7fb15f49b310>"
      ]
     },
     "execution_count": 126,
     "metadata": {},
     "output_type": "execute_result"
    },
    {
     "data": {
      "image/png": "[encoded data removed]",
      "text/plain": [
       "<Figure size 432x288 with 1 Axes>"
      ]
     },
     "metadata": {
      "needs_background": "light"
     },
     "output_type": "display_data"
    }
   ],
   "source": [
    "from MicroTools import unfolder\n",
    "GBPC2018 = unfolder.MBtomuB(\n",
    "    analysis=\"1eX_PC\", remove_high_energy=True, unfold=True, effNoUnfold=True, which_template=\"2018\"\n",
    ")\n",
    "GBPC2020 = unfolder.MBtomuB(\n",
    "    analysis=\"1eX_PC\", remove_high_energy=True, unfold=True, effNoUnfold=True, which_template=\"2020\"\n",
    ")\n",
    "GBFC2018 = unfolder.MBtomuB(\n",
    "    analysis=\"1eX\", remove_high_energy=True, unfold=True, effNoUnfold=True, which_template=\"2018\"\n",
    ")\n",
    "GBFC2020 = unfolder.MBtomuB(\n",
    "    analysis=\"1eX\", remove_high_energy=True, unfold=True, effNoUnfold=True, which_template=\"2020\"\n",
    ")\n",
    "\n",
    "MB_BinEdges = np.array([200.0, 300.0, 375.0, 475.0, 550.0, 675.0, 800.0, 950.0, 1100.0, 1250.0, 1500.0, 3000.0])\n",
    "MBdata2018 = np.array([497.0, 283.0, 313.0, 167.0, 184.0, 163.0, 140.0, 115.0, 97.0, 98.0, 130.0])\n",
    "MBbkg2018 = np.array([361.002334, 216.002142, 239.436776, 127.517957, 179.035344, 133.901816, 139.020389, 113.446978, 81.204519, 98.603919, 137.953204])\n",
    "\n",
    "MBdata2020 = np.array([732.0, 426.0, 444.0, 248.0, 281.0, 236.0, 201.0, 164.0, 138.0, 144.0, 188.0])\n",
    "MBbkg2020 = np.array([527.164624, 315.423689, 349.644825, 186.211970, 261.441799, 195.534193, 203.008745, 165.664396, 118.581365, 143.989367, 201.450357])\n",
    "MBSig_for_unfolding2020 = MBdata2020 - MBbkg2020\n",
    "MBSig_for_unfolding2018 = MBdata2018 - MBbkg2018\n",
    "# MicroBooNE fully inclusive signal by unfolding MiniBooNE Signal\n",
    "uBFC2020 = GBFC2020.miniToMicro(MBSig_for_unfolding2020)\n",
    "uBFC2018 = GBFC2018.miniToMicro(MBSig_for_unfolding2018)\n",
    "# MicroBooNE partially inclusive signal by unfolding MiniBooNE Signal\n",
    "uBPC2020 = GBPC2020.miniToMicro(MBSig_for_unfolding2020)\n",
    "uBPC2018 = GBPC2018.miniToMicro(MBSig_for_unfolding2018)\n",
    "# MicroBooNE bin edges\n",
    "bin_edges_rec_microB = np.linspace(100, 2500, 25)\n",
    "print(bin_edges_rec_microB)\n",
    "print(sum(uBFC2020))\n",
    "print(official_excess_FC)\n",
    "plt.hist(bin_edges_rec_microB[:-1], bins=bin_edges_rec_microB, weights = uBFC2018,  histtype='step', color='red', ls=':', linewidth=1.5, label='FC 2018')\n",
    "plt.hist(bin_edges_rec_microB[:-1], bins=bin_edges_rec_microB, weights = uBFC2020,  histtype='step', color='orange', ls=':', linewidth=1.5, label='FC 2020')\n",
    "plt.title('MicroBooNE FC signal comparison')\n",
    "plt.legend()"
   ]
  },
  {
   "cell_type": "code",
   "execution_count": 118,
   "metadata": {},
   "outputs": [
    {
     "data": {
      "text/plain": [
       "<matplotlib.legend.Legend at 0x7fb15f5ceee0>"
      ]
     },
     "execution_count": 118,
     "metadata": {},
     "output_type": "execute_result"
    },
    {
     "data": {
      "image/png": "[encoded data removed]",
      "text/plain": [
       "<Figure size 432x288 with 1 Axes>"
      ]
     },
     "metadata": {
      "needs_background": "light"
     },
     "output_type": "display_data"
    }
   ],
   "source": [
    "plt.hist(bin_edges_rec_microB[:-1], bins=bin_edges_rec_microB, weights = uBPC2018,  histtype='step', color='red', ls=':', linewidth=1.5, label='PC 2018')\n",
    "plt.hist(bin_edges_rec_microB[:-1], bins=bin_edges_rec_microB, weights = uBPC2020,  histtype='step', color='orange', ls=':', linewidth=1.5, label='PC 2020')\n",
    "plt.title('MicroBooNE PC signal comparison')\n",
    "plt.legend()"
   ]
  },
  {
   "cell_type": "code",
   "execution_count": 85,
   "metadata": {},
   "outputs": [
    {
     "name": "stdout",
     "output_type": "stream",
     "text": [
      "[0, 1, 2, 3]\n"
     ]
    },
    {
     "data": {
      "text/plain": [
       "(array([1., 2., 3., 4.]),\n",
       " array([0, 1, 2, 3, 4]),\n",
       " [<matplotlib.patches.Polygon at 0x7fb15ded10a0>])"
      ]
     },
     "execution_count": 85,
     "metadata": {},
     "output_type": "execute_result"
    },
    {
     "data": {
      "image/png": "[encoded data removed]",
      "text/plain": [
       "<Figure size 432x288 with 1 Axes>"
      ]
     },
     "metadata": {
      "needs_background": "light"
     },
     "output_type": "display_data"
    }
   ],
   "source": [
    "bins=[0,1,2,3,4]\n",
    "print(bins[:-1])\n",
    "plt.hist(bins[:-1],bins=[0,1,2,3,4], weights = [1,2,3,4],  histtype='step', color='blue', linewidth=1.5)"
   ]
  },
  {
   "cell_type": "code",
   "execution_count": 19,
   "metadata": {},
   "outputs": [
    {
     "name": "stdout",
     "output_type": "stream",
     "text": [
      "[ 6.98896012  7.60906174 14.64176131 12.05754512 21.37117018 20.15151249\n",
      " 20.73624086 16.26505694 12.26989461 11.92714671  9.36541525]\n"
     ]
    },
    {
     "data": {
      "text/plain": [
       "Text(0.5, 1.0, 'MiniBooNE Signal template(2020)')"
      ]
     },
     "execution_count": 19,
     "metadata": {},
     "output_type": "execute_result"
    },
    {
     "data": {
      "image/png": "[encoded data removed]",
      "text/plain": [
       "<Figure size 720x360 with 1 Axes>"
      ]
     },
     "metadata": {
      "needs_background": "light"
     },
     "output_type": "display_data"
    }
   ],
   "source": [
    "# MiniBooNE signal from 2020 release, 18.75e20 POT\n",
    "import param_scan\n",
    "import numpy as np\n",
    "theta = {}\n",
    "\n",
    "theta[\"g\"] = 1\n",
    "theta[\"m4\"] = 100\n",
    "theta[\"Ue4Sq\"] = 0.25\n",
    "theta[\"Um4Sq\"] = 0.001\n",
    "\n",
    "sterile = param_scan.Sterile(\n",
    "    theta, oscillations=True, decay=False, decouple_decay=True\n",
    ")\n",
    "\n",
    "# Replicating events for multiple daughter neutrino energies\n",
    "Etrue_parent, Etrue_daughter = param_scan.create_Etrue_and_Weight_int()\n",
    "MB_Ereco_official_bins = param_scan.MB_Ereco_official_bins\n",
    "NREPLICATION = param_scan.NREPLICATION\n",
    "Weight = param_scan.Weight\n",
    "Length = param_scan.Length\n",
    "Ereco = param_scan.Ereco\n",
    "Etrue = param_scan.Etrue\n",
    "migration_matrix_official_bins = param_scan.migration_matrix_official_bins\n",
    "e_prod_e_int_bins = np.linspace(0, 3, 51)  # GeV\n",
    "# replicating entries of the MC data release -- baseline L and weight\n",
    "Ereco_ext = np.stack([Ereco for _ in range(NREPLICATION)], axis=0).T.flatten()\n",
    "Length_ext = np.stack([Length for _ in range(NREPLICATION)], axis=0).T.flatten()\n",
    "Weight_ext = np.stack(\n",
    "    [Weight / NREPLICATION for _ in range(NREPLICATION)], axis=0\n",
    ").T.flatten()\n",
    "\n",
    "# Flavor transition probabilities -- Assuming nu4 decays only into nue\n",
    "Pme = sterile.Pme(Etrue_parent, Etrue_parent, Length_ext)\n",
    "#Pme = sterile.Pme_old(Etrue_parent, Length_ext)\n",
    "Weight_decay = Weight_ext * Pme\n",
    "\n",
    "# Calculate the MiniBooNE chi2\n",
    "\n",
    "# Migrate nue signal from Etrue to Ereco with 11 bins\n",
    "MBSig_for_MBfit = np.dot(\n",
    "    np.histogram(Etrue_parent, bins=e_prod_e_int_bins, weights=Weight_decay)[0],\n",
    "    migration_matrix_official_bins,\n",
    ")\n",
    "\n",
    "print(MBSig_for_MBfit)\n",
    "Pme_reco = sterile.Pme(Ereco, Ereco, Length)\n",
    "plt.hist(Ereco_ext, bins=MB_Ereco_official_bins, weights = Weight_decay, histtype='step', color='dodgerblue', ls='--', linewidth=1.5, label='Ereco_ext')\n",
    "plt.hist(Ereco, bins=MB_Ereco_official_bins, weights = Weight * Pme_reco, histtype='step', color='dodgerblue', ls=':', linewidth=1.5, label='Ereco')\n",
    "plt.hist(MB_Ereco_official_bins[:-1], bins=MB_Ereco_official_bins, weights = MBSig_for_MBfit,  histtype='step', color='dodgerblue', ls='-', linewidth=1.5, label='Migrated')\n",
    "plt.xlabel('Reconstructed energy(GeV)')\n",
    "plt.legend()\n",
    "plt.title('MiniBooNE Signal template(2020)')"
   ]
  },
  {
   "cell_type": "code",
   "execution_count": 18,
   "metadata": {},
   "outputs": [
    {
     "name": "stdout",
     "output_type": "stream",
     "text": [
      "none\n"
     ]
    },
    {
     "data": {
      "image/png": "[encoded data removed]",
      "text/plain": [
       "<Figure size 720x360 with 1 Axes>"
      ]
     },
     "metadata": {
      "needs_background": "light"
     },
     "output_type": "display_data"
    }
   ],
   "source": [
    "Pme_reco = sterile.Pme(Ereco, Ereco, Length)\n",
    "plt.hist(Ereco, bins=MB_Ereco_official_bins, weights = Weight*Pme_reco)\n",
    "print('none')"
   ]
  },
  {
   "cell_type": "code",
   "execution_count": 21,
   "metadata": {},
   "outputs": [
    {
     "data": {
      "image/png": "[encoded data removed]",
      "text/plain": [
       "<Figure size 576x432 with 1 Axes>"
      ]
     },
     "metadata": {
      "needs_background": "light"
     },
     "output_type": "display_data"
    }
   ],
   "source": [
    "MCT = [77.71578947, 143.90340557, 196.07832817, 267.13560372, 327.16160991, \n",
    "       373.37368421, 894.8247678, 2112.43839009, 2272.64024768, 5099.22910217,\n",
    "       3630.38080495, 2404.02167183, 1456.92260062]\n",
    "MuB_True_BinEdges = np.array([\n",
    "    0.200,\n",
    "    0.250,\n",
    "    0.300,\n",
    "    0.350,\n",
    "    0.400,\n",
    "    0.450,\n",
    "    0.500,\n",
    "    0.600,\n",
    "    0.800,\n",
    "    1.000,\n",
    "    1.500,\n",
    "    2.000,\n",
    "    2.500,\n",
    "    3.000,\n",
    "])\n",
    "MuB_True_BinWidth = MuB_True_BinEdges[1:] - MuB_True_BinEdges[:-1]\n",
    "plt.hist(MuB_True_BinEdges[:-1], bins=MuB_True_BinEdges, weights=MCT/(MuB_True_BinEdges[1:] - MuB_True_BinEdges[:-1]))\n",
    "\n"
   ]
  },
  {
   "cell_type": "code",
   "execution_count": null,
   "metadata": {},
   "outputs": [],
   "source": []
  },
  {
   "cell_type": "code",
   "execution_count": null,
   "metadata": {},
   "outputs": [],
   "source": []
  }
 ],
 "metadata": {
  "kernelspec": {
   "display_name": "Python 3",
   "language": "python",
   "name": "python3"
  },
  "language_info": {
   "codemirror_mode": {
    "name": "ipython",
    "version": 3
   },
   "file_extension": ".py",
   "mimetype": "text/x-python",
   "name": "python",
   "nbconvert_exporter": "python",
   "pygments_lexer": "ipython3",
   "version": "3.8.5"
  }
 },
 "nbformat": 4,
 "nbformat_minor": 2
}
