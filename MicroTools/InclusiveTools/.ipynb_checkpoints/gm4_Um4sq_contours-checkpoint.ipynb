{
 "cells": [
  {
   "cell_type": "code",
   "execution_count": 1,
   "metadata": {},
   "outputs": [],
   "source": [
    "%load_ext autoreload\n",
    "%autoreload 2"
   ]
  },
  {
   "cell_type": "code",
   "execution_count": 4,
   "metadata": {},
   "outputs": [
    {
     "ename": "NameError",
     "evalue": "name '__file__' is not defined",
     "output_type": "error",
     "traceback": [
      "\u001b[0;31m---------------------------------------------------------------------------\u001b[0m",
      "\u001b[0;31mNameError\u001b[0m                                 Traceback (most recent call last)",
      "\u001b[0;32m<ipython-input-4-a78ef51391d1>\u001b[0m in \u001b[0;36m<module>\u001b[0;34m\u001b[0m\n\u001b[1;32m      2\u001b[0m \u001b[0;32mimport\u001b[0m \u001b[0msys\u001b[0m\u001b[0;34m\u001b[0m\u001b[0;34m\u001b[0m\u001b[0m\n\u001b[1;32m      3\u001b[0m \u001b[0;32mimport\u001b[0m \u001b[0mos\u001b[0m\u001b[0;34m\u001b[0m\u001b[0;34m\u001b[0m\u001b[0m\n\u001b[0;32m----> 4\u001b[0;31m \u001b[0mtoolsdir\u001b[0m \u001b[0;34m=\u001b[0m \u001b[0mos\u001b[0m\u001b[0;34m.\u001b[0m\u001b[0mpath\u001b[0m\u001b[0;34m.\u001b[0m\u001b[0mrealpath\u001b[0m\u001b[0;34m(\u001b[0m\u001b[0m__file__\u001b[0m\u001b[0;34m)\u001b[0m\u001b[0;34m[\u001b[0m\u001b[0;34m:\u001b[0m\u001b[0;34m-\u001b[0m\u001b[0mlen\u001b[0m\u001b[0;34m(\u001b[0m\u001b[0;34m'InclusiveTools/gm4_Um4sq_contours.ipynb'\u001b[0m\u001b[0;34m)\u001b[0m\u001b[0;34m]\u001b[0m\u001b[0;34m\u001b[0m\u001b[0;34m\u001b[0m\u001b[0m\n\u001b[0m\u001b[1;32m      5\u001b[0m \u001b[0msys\u001b[0m\u001b[0;34m.\u001b[0m\u001b[0mpath\u001b[0m\u001b[0;34m.\u001b[0m\u001b[0mappend\u001b[0m\u001b[0;34m(\u001b[0m\u001b[0mtoolsdir\u001b[0m\u001b[0;34m)\u001b[0m\u001b[0;34m\u001b[0m\u001b[0;34m\u001b[0m\u001b[0m\n\u001b[1;32m      6\u001b[0m \u001b[0;32mfrom\u001b[0m \u001b[0mMicroTools\u001b[0m \u001b[0;32mimport\u001b[0m \u001b[0;34m*\u001b[0m\u001b[0;34m\u001b[0m\u001b[0;34m\u001b[0m\u001b[0m\n",
      "\u001b[0;31mNameError\u001b[0m: name '__file__' is not defined"
     ]
    }
   ],
   "source": [
    "import numpy as np\n",
    "import sys\n",
    "import os\n",
    "toolsdir = os.path.realpath(__file__)[:-len('InclusiveTools/gm4_Um4sq_contours.ipynb')]\n",
    "sys.path.append(toolsdir)\n",
    "from MicroTools import *\n",
    "from MicroTools.plot_tools import *"
   ]
  },
  {
   "cell_type": "code",
   "execution_count": null,
   "metadata": {},
   "outputs": [],
   "source": [
    "MuBAppDisT0 = np.load(f\"{path_osc_data}/App_gm4_Um4sq.npy\", allow_pickle=True)\n",
    "MuBAppDisT0_new = np.load(f\"{path_osc_data}/App_gm4_Um4sq_migrated.npy\", allow_pickle=True)\n",
    "PVs = np.load(f\"{path_osc_data}/gm4_Um4sq_PVs.npy\", allow_pickle=True)\n",
    "gm4VecT = PVs[0]\n",
    "MVec = PVs[1]\n",
    "\n",
    "MuBAppDisT = (np.asarray(MuBAppDisT0.T[0])).reshape(len(gm4VecT), len(MVec))\n",
    "MuBAppDisTAs = (np.asarray(MuBAppDisT0.T[1])).reshape(len(gm4VecT), len(MVec))\n",
    "\n",
    "MuBAppDisT_new = (np.asarray(MuBAppDisT0_new.T[0])).reshape(len(gm4VecT), len(MVec))\n",
    "MuBAppDisTAs_new = (np.asarray(MuBAppDisT0_new.T[1])).reshape(len(gm4VecT), len(MVec))"
   ]
  },
  {
   "cell_type": "code",
   "execution_count": null,
   "metadata": {},
   "outputs": [],
   "source": [
    "from MicroTools.plot_tools import *\n",
    "\n",
    "# Load 95% contour from Miniboone.\n",
    "MB = np.loadtxt('miniboone_2sigma.dat')\n",
    "MBX = 10**MB[:,0]\n",
    "MBY = 10**MB[:,1]\n",
    "\n",
    "fig, ax = std_fig(figsize=(std_figsize[0], std_figsize[1]*1.5))\n",
    "xmin, xmax, ymin, ymax = 1e-4, 1, 1e-1, 1e2\n",
    "ax.set_xscale('log')\n",
    "ax.set_yscale('log')\n",
    "ax.axis([xmin, xmax, ymin, ymax])\n",
    "ax.set_ylabel(r'$g_D m_4 [\\mathrm{eV}]$', fontproperties=font)        \n",
    "ax.xaxis.set_major_locator(FixedLocator((1e-4, 1e-3, 1e-2, 1e-1, 1)))\n",
    "ax.yaxis.set_major_locator(FixedLocator((1e-1, 1, 10, 100)))\n",
    "[l.set_size(labelfont.get_size()) for l in ax.get_xticklabels()]\n",
    "[l.set_size(labelfont.get_size()) for l in ax.get_yticklabels()]\n",
    "[l.set_position((0.5, -0.015)) for l in ax.get_xticklabels()]\n",
    "ax.set_yticklabels((r\"$10^{-1}$\", r\"$1$\", r\"$10$\", r\"$10^2$\"), fontproperties=labelfont)\n",
    "ax.set_xticklabels((r\"$10^{-4}$\", r\"$10^{-3}$\", r\"$10^{-2}$\", r\"$10^{-1}$\", r\"$1$\"), fontproperties=labelfont)\n",
    "ax.set_xlabel(r\"$|U_{\\mu 4}|^2$\", fontproperties=font)        \n",
    "\n",
    "\n",
    "levs0MB = np.min(MuBAppDisT)\n",
    "levs0MB_new = np.min(MuBAppDisT_new)\n",
    "print(levs0MB)\n",
    "#levsMB = [levs0MB, levs0MB + 2.30, levs0MB + 6.18, levs0MB + 11.83]\n",
    "levsMB = [levs0MB, levs0MB + 11.83]\n",
    "levsMB_new = [levs0MB_new, levs0MB_new + 11.83]\n",
    "#ax.contourf(MVec, gm4VecT, MuBAppDisT, levels=levsMB, colors=['#333333', '#666666', '#999999', '#CCCCCC'], alpha=0.3)\n",
    "#ax.contour(MVec, gm4VecT, MuBAppDisT, levels=levsMB, colors=['#333333', '#666666', '#999999', '#CCCCCC'], alpha=1, linewidths=0.25)\n",
    "ax.contourf(MVec, gm4VecT, MuBAppDisT, levels=levsMB, colors=['green','green'], alpha=0.3)\n",
    "ax.contour(MVec, gm4VecT, MuBAppDisT, levels=levsMB, colors=['green','green'], alpha=1, linewidths=0.25)\n",
    "ax.contourf(MVec, gm4VecT, MuBAppDisT_new, levels=levsMB_new, colors=['orange','orange'], alpha=0.3)\n",
    "ax.contour(MVec, gm4VecT, MuBAppDisT_new, levels=levsMB_new, colors=['orange','orange'], alpha=1, linewidths=0.25)\n",
    "#ax.fill(MBX,MBY,color='Black',alpha=0.5)\n",
    "\n",
    "#ax.fill_between(x=10**MBlower[:,0],y1=10**MBlower[:,1],y2=100,color='blue', alpha=.3)\n",
    "#ax.fill_between(x=10**MBupper[:,0],y1=10**MBupper[:,1],y2=100,color='white')\n",
    "\n",
    "#plt.Rectangle((0.1,0.1),0.8,0.8,fc = 'blue', alpha = .3, label=r'MiniBooNE $2\\sigma$'),\n",
    "\n",
    "legend_elements = [plt.Rectangle((0.1,0.1),0.8,0.8,fc = 'green', alpha = .3, label=r'MicroBooNE $3\\sigma$'),\n",
    "                   plt.Rectangle((0.1,0.1),0.8,0.8,fc = 'orange', alpha = .3, label=r'new MicroBooNE $3\\sigma$')]\n",
    "ax.legend(handles = legend_elements, loc = 'upper right', fontsize = 12)\n",
    "\n",
    "fig.savefig(f\"{path_plots}/gm4_Um4sq_compare_migrated.pdf\", bbox_inches='tight')"
   ]
  },
  {
   "cell_type": "code",
   "execution_count": 5,
   "metadata": {},
   "outputs": [
    {
     "name": "stdout",
     "output_type": "stream",
     "text": [
      "[[-3.3021233   1.98032467]\n",
      " [-3.30195923  1.95932262]\n",
      " [-3.30188201  1.94943931]\n",
      " ...\n",
      " [-0.05112065 -0.50273602]\n",
      " [-0.04787769 -0.4953171 ]\n",
      " [-0.03457768 -0.50764551]]\n"
     ]
    }
   ],
   "source": [
    "MB = np.loadtxt('miniboone_2sigma.dat')\n",
    "MBX = 10**MB[:,0]\n",
    "MBY = 10**MB[:,1]\n",
    "MBlower = np.loadtxt('miniboone_2sigma_lower.dat')\n",
    "MBupper = np.loadtxt('miniboone_2sigma_upper.dat')\n",
    "MBc = np.vstack((MBlower,MBupper))\n",
    "print(MBc)"
   ]
  },
  {
   "cell_type": "code",
   "execution_count": null,
   "metadata": {},
   "outputs": [],
   "source": []
  }
 ],
 "metadata": {
  "kernelspec": {
   "display_name": "Python 3",
   "language": "python",
   "name": "python3"
  },
  "language_info": {
   "codemirror_mode": {
    "name": "ipython",
    "version": 3
   },
   "file_extension": ".py",
   "mimetype": "text/x-python",
   "name": "python",
   "nbconvert_exporter": "python",
   "pygments_lexer": "ipython3",
   "version": "3.8.5"
  }
 },
 "nbformat": 4,
 "nbformat_minor": 2
}
