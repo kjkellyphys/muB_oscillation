{
 "cells": [
  {
   "cell_type": "code",
   "execution_count": 1,
   "metadata": {},
   "outputs": [],
   "source": [
    "%load_ext autoreload\n",
    "%autoreload 2"
   ]
  },
  {
   "cell_type": "code",
   "execution_count": 6,
   "metadata": {},
   "outputs": [],
   "source": [
    "import numpy as np\n",
    "import pandas as pd\n",
    "import matplotlib.pyplot as plt\n",
    "from matplotlib.pyplot import cm\n",
    "import MicroTools as micro\n",
    "from MicroTools import plot_tools as pt\n",
    "import MiniTools as mini\n",
    "import param_scan\n",
    "\n",
    "from importlib.resources import open_text\n"
   ]
  },
  {
   "cell_type": "code",
   "execution_count": 7,
   "metadata": {},
   "outputs": [],
   "source": [
    "# settings for Fig. 1\n",
    "TOTAL_RATE = False\n",
    "INCLUDE_MB_LAST_BIN = False\n",
    "STACKED = False\n",
    "PLOT_FAMILY=False\n",
    "colormap=cm.Blues\n",
    "TEMP1_COLOR = 'deeppink'\n",
    "TEMP2_COLOR = 'dodgerblue'\n",
    "\n",
    "PATH_PLOTS = 'plots/event_rates/'"
   ]
  },
  {
   "cell_type": "code",
   "execution_count": 47,
   "metadata": {},
   "outputs": [],
   "source": [
    "params = {'g': 1, 'Ue4Sq': 0.1, 'Um4Sq': 3e-2/4, 'm4': 1}\n",
    "\n",
    "rates_dic_osc = param_scan.get_nue_rates(params, oscillations=True, use_numu_MC=False, include_antineutrinos=True, decay=False, decouple_decay=True, disappearance=False, energy_degradation=False, n_replications=1)\n",
    "rates_dic_decay = param_scan.get_nue_rates(params, oscillations=True, use_numu_MC=False, include_antineutrinos=True, decay=True, decouple_decay=True, disappearance=False, energy_degradation=False, n_replications=1)"
   ]
  },
  {
   "cell_type": "code",
   "execution_count": 1,
   "metadata": {},
   "outputs": [
    {
     "ename": "NameError",
     "evalue": "name 'pt' is not defined",
     "output_type": "error",
     "traceback": [
      "\u001b[0;31m---------------------------------------------------------------------------\u001b[0m",
      "\u001b[0;31mNameError\u001b[0m                                 Traceback (most recent call last)",
      "Cell \u001b[0;32mIn[1], line 1\u001b[0m\n\u001b[0;32m----> 1\u001b[0m fig, ax1 \u001b[38;5;241m=\u001b[39m \u001b[43mpt\u001b[49m\u001b[38;5;241m.\u001b[39mstd_fig(figsize\u001b[38;5;241m=\u001b[39m(\u001b[38;5;241m3.2\u001b[39m\u001b[38;5;241m*\u001b[39m\u001b[38;5;241m1.2\u001b[39m,\u001b[38;5;241m2.5\u001b[39m\u001b[38;5;241m*\u001b[39m\u001b[38;5;241m1.2\u001b[39m))\n\u001b[1;32m      2\u001b[0m bins \u001b[38;5;241m=\u001b[39m param_scan\u001b[38;5;241m.\u001b[39mMB_Ereco_official_bins\n\u001b[1;32m      3\u001b[0m bin_w \u001b[38;5;241m=\u001b[39m np\u001b[38;5;241m.\u001b[39mdiff(bins)\n",
      "\u001b[0;31mNameError\u001b[0m: name 'pt' is not defined"
     ]
    }
   ],
   "source": [
    "\n",
    "\n",
    "fig, ax1 = pt.std_fig(figsize=(3.2*1.2,2.5*1.2))\n",
    "bins = param_scan.MB_Ereco_official_bins\n",
    "bin_w = np.diff(bins)\n",
    "bin_c = bins[:-1] + bin_w/2\n",
    "\n",
    "######################################\n",
    "# MiniBooNE \n",
    "if TOTAL_RATE:\n",
    "    units= 1\n",
    "    ax1.set_ylabel(r\"Events\")\n",
    "else:\n",
    "    units = 1/micro.bin_width\n",
    "    ax1.set_ylabel(r\"Events/MeV\")\n",
    "\n",
    "nue_data = np.genfromtxt(\n",
    "    open_text(\n",
    "        f\"MiniTools.include.MB_data_release_2020.combined\",\n",
    "        f\"miniboone_nuedata_lowe.txt\",\n",
    "    )\n",
    ")\n",
    "nue_bkg = np.genfromtxt(\n",
    "            open_text(\n",
    "                f\"MiniTools.include.MB_data_release_2020.combined\",\n",
    "                f\"miniboone_nuebgr_lowe.txt\",\n",
    "            )\n",
    "        )\n",
    "\n",
    "# plot data\n",
    "pt.data_plot(ax1, \n",
    "          X=bin_c,\n",
    "          Y=nue_data*units, \n",
    "          xerr=bin_w/2, \n",
    "          yerr=np.sqrt(nue_data)*units,\n",
    "          zorder=3)\n",
    "\n",
    "\n",
    "ax1.hist(bins[:-1],\n",
    "        bins=bins,\n",
    "        weights=(nue_bkg)*units,\n",
    "        edgecolor='black',\n",
    "        color='dodgerblue',\n",
    "        lw=0.5,\n",
    "        label=r'Backgrounds',\n",
    "        histtype='stepfilled',\n",
    "        zorder=2)\n",
    "\n",
    "\n",
    "# plot sterile\n",
    "ax1.hist(bins[:-1],\n",
    "        bins=bins,\n",
    "        weights=(rates_dic_osc['MC_nue_app'] + nue_bkg)*units,\n",
    "        edgecolor='orange',\n",
    "        color='white',\n",
    "        lw=0.5,\n",
    "        label=r'3+1 best-fit',\n",
    "        histtype='stepfilled',\n",
    "        zorder=1.5)\n",
    "\n",
    "ax1.hist(bins[:-1],\n",
    "        bins=bins,\n",
    "        weights=(rates_dic_decay['MC_nue_app'] + nue_bkg)*units,\n",
    "        edgecolor='deeppink',\n",
    "        color='white',\n",
    "        lw=0.5,\n",
    "        label=r'3+1 best-fit',\n",
    "        histtype='stepfilled',\n",
    "        zorder=1)\n",
    "\n",
    "\n",
    "\n",
    "ax1.legend(fontsize=8, markerfirst=False, ncol=1)\n",
    "ax1.annotate(text=r'MiniBooNE 2020', xy=(0.0,1.05), xycoords='axes fraction', fontsize=9)\n",
    "ax1.set_xlabel(r\"Reconstructed $E_\\nu^{\\rm QE}$ (GeV)\", fontsize=9, labelpad=2.5)\n",
    "if INCLUDE_MB_LAST_BIN:\n",
    "    ax1.set_xticks([0.2,0.5,1,1.5,2,2.5,3])\n",
    "    ax1.set_xlim(0.2,3)\n",
    "else:\n",
    "    ax1.set_xticks([0.2,0.4,0.6,0.8,1,1.2,1.4])\n",
    "    ax1.set_xlim(0.2,1.5)\n",
    "\n",
    "# ax1.xaxis.set_major_locator(pt.MultipleLocator(0.5))\n",
    "# ax1.xaxis.set_minor_locator(pt.MultipleLocator(0.1))\n",
    "\n",
    "ax1.annotate(text=r'Kelly\\,et.\\,al.\\,2024', xy=(0.65,1.05), xycoords='axes fraction', fontsize=8.5)\n",
    "\n",
    "fig.savefig(f\"{PATH_PLOTS}/Fig_1.png\", dpi=400)\n",
    "fig.savefig(f\"{PATH_PLOTS}/Fig_1.pdf\")"
   ]
  },
  {
   "cell_type": "code",
   "execution_count": null,
   "metadata": {},
   "outputs": [],
   "source": []
  }
 ],
 "metadata": {
  "kernelspec": {
   "display_name": "darknews",
   "language": "python",
   "name": "python3"
  },
  "language_info": {
   "codemirror_mode": {
    "name": "ipython",
    "version": 3
   },
   "file_extension": ".py",
   "mimetype": "text/x-python",
   "name": "python",
   "nbconvert_exporter": "python",
   "pygments_lexer": "ipython3",
   "version": "3.11.0"
  }
 },
 "nbformat": 4,
 "nbformat_minor": 2
}
