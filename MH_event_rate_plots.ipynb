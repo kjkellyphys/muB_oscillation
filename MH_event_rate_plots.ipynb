{
 "cells": [
  {
   "cell_type": "code",
   "execution_count": 2,
   "metadata": {},
   "outputs": [],
   "source": [
    "%load_ext autoreload\n",
    "%autoreload 2"
   ]
  },
  {
   "cell_type": "code",
   "execution_count": 3,
   "metadata": {},
   "outputs": [],
   "source": [
    "import numpy as np\n",
    "import pandas as pd\n",
    "import matplotlib.pyplot as plt\n",
    "from matplotlib.pyplot import cm\n",
    "import MicroTools as micro\n",
    "from MicroTools import plot_tools as pt\n",
    "import MiniTools as mini\n",
    "import param_scan\n",
    "\n",
    "from importlib.resources import open_text\n"
   ]
  },
  {
   "cell_type": "code",
   "execution_count": 4,
   "metadata": {},
   "outputs": [],
   "source": [
    "# settings for Fig. 1\n",
    "TOTAL_RATE = False\n",
    "INCLUDE_MB_LAST_BIN = False\n",
    "STACKED = False\n",
    "PLOT_FAMILY=False\n",
    "colormap=cm.Blues\n",
    "TEMP1_COLOR = 'deeppink'\n",
    "TEMP2_COLOR = 'dodgerblue'\n",
    "\n",
    "PATH_PLOTS = 'plots/event_rates/'"
   ]
  },
  {
   "cell_type": "code",
   "execution_count": 44,
   "metadata": {},
   "outputs": [],
   "source": [
    "params = {'g': 1e-3, 'Ue4Sq': 0.1, 'Um4Sq': 3e-2/4, 'm4': 1}\n",
    "\n",
    "rates_dic_osc = param_scan.get_nue_rates(params, oscillations=True, use_numu_MC=True, include_antineutrinos=True, decay=False, decouple_decay=False, disappearance=False, energy_degradation=False, n_replications=1, undo_numu_normalization=False)\n",
    "rates_dic_decay = param_scan.get_nue_rates(params, oscillations=True, use_numu_MC=True, include_antineutrinos=True, decay=True, decouple_decay=False, disappearance=False, energy_degradation=False, n_replications=10, undo_numu_normalization=False)"
   ]
  },
  {
   "cell_type": "code",
   "execution_count": 45,
   "metadata": {},
   "outputs": [],
   "source": [
    "Weight_nue_flux = mini.apps.reweight_MC_to_nue_flux(\n",
    "            param_scan.Etrue_nue, param_scan.Weight_nue, mode=\"fhc\"\n",
    "        )\n",
    "\n",
    "MC_nue_bkg_intrinsic = np.dot(\n",
    "                param_scan.fast_histogram(\n",
    "                    param_scan.Etrue_nue, bins=param_scan.e_prod_e_int_bins, weights=Weight_nue_flux\n",
    "                )[0],\n",
    "                mini.apps.migration_matrix_official_bins_nue_11bins,\n",
    "            )"
   ]
  },
  {
   "cell_type": "code",
   "execution_count": 89,
   "metadata": {},
   "outputs": [
    {
     "name": "stderr",
     "output_type": "stream",
     "text": [
      "/var/folders/dl/ccbsfs591r1fhgcws28m8xy40000gn/T/ipykernel_2822/3661257215.py:16: DeprecationWarning: open_text is deprecated. Use files() instead. Refer to https://importlib-resources.readthedocs.io/en/latest/using.html#migrating-from-legacy for migration advice.\n",
      "  open_text(\n",
      "/var/folders/dl/ccbsfs591r1fhgcws28m8xy40000gn/T/ipykernel_2822/3661257215.py:22: DeprecationWarning: open_text is deprecated. Use files() instead. Refer to https://importlib-resources.readthedocs.io/en/latest/using.html#migrating-from-legacy for migration advice.\n",
      "  open_text(\n"
     ]
    },
    {
     "data": {
      "image/png": "[encoded data removed]",
      "text/plain": [
       "<Figure size 360x240 with 1 Axes>"
      ]
     },
     "metadata": {},
     "output_type": "display_data"
    }
   ],
   "source": [
    "fig, ax1 = pt.std_fig(figsize=(3*1.2,2*1.2))\n",
    "bins = param_scan.MB_Ereco_official_bins\n",
    "bin_w = np.diff(bins)\n",
    "bin_c = bins[:-1] + bin_w/2\n",
    "\n",
    "######################################\n",
    "# MiniBooNE \n",
    "if TOTAL_RATE:\n",
    "    units= 1\n",
    "    ax1.set_ylabel(r\"Events\")\n",
    "else:\n",
    "    units = 1/micro.bin_width\n",
    "    ax1.set_ylabel(r\"Events/MeV\")\n",
    "\n",
    "nue_data = np.genfromtxt(\n",
    "    open_text(\n",
    "        f\"MiniTools.include.MB_data_release_2020.combined\",\n",
    "        f\"miniboone_nuedata_lowe.txt\",\n",
    "    )\n",
    ")\n",
    "nue_bkg = np.genfromtxt(\n",
    "            open_text(\n",
    "                f\"MiniTools.include.MB_data_release_2020.combined\",\n",
    "                f\"miniboone_nuebgr_lowe.txt\",\n",
    "            )\n",
    "        )\n",
    "nue_bkg_midID = nue_bkg - MC_nue_bkg_intrinsic\n",
    "\n",
    "# plot data\n",
    "pt.data_plot(ax1, \n",
    "          X=bin_c,\n",
    "          Y=nue_data*units, \n",
    "          xerr=bin_w/2, \n",
    "          yerr=np.sqrt(nue_data)*units,\n",
    "          zorder=3)\n",
    "\n",
    "\n",
    "ax1.hist(bins[:-1],\n",
    "        bins=bins,\n",
    "        weights=(nue_bkg_midID)*units,\n",
    "        edgecolor='black',\n",
    "        facecolor='peachpuff',\n",
    "        lw=0.5,\n",
    "        label=r'Bkg misID',\n",
    "        histtype='stepfilled',\n",
    "        zorder=2)\n",
    "ax1.hist(bins[:-1],\n",
    "        bins=bins,\n",
    "        # weights=(nue_bkg_midID)*units,\n",
    "        weights=(nue_bkg)*units,\n",
    "        edgecolor='black',\n",
    "        facecolor='skyblue',\n",
    "        lw=0.5,\n",
    "        label=r'Bkg $\\nu_e$ intrinsic',\n",
    "        histtype='stepfilled',\n",
    "        zorder=1.5)\n",
    "\n",
    "\n",
    "# plot sterile\n",
    "ax1.hist(bins[:-1],\n",
    "        bins=bins,\n",
    "                # weights=(rates_dic_osc['MC_nue_app'] + rates_dic_osc['MC_nue_bkg_total_w_dis'])*units,\n",
    "                weights=(rates_dic_osc['MC_nue_app'] + nue_bkg)*units,\n",
    "        edgecolor='black',\n",
    "        facecolor='None',\n",
    "        lw=1.0,\n",
    "        linestyle=(1,(3,0)),\n",
    "        label=r'3+1 osc',\n",
    "        histtype='stepfilled',\n",
    "        zorder=1.5)\n",
    "ax1.hist(bins[:-1],\n",
    "        bins=bins,\n",
    "                # weights=(rates_dic_decay['MC_nue_app'] + rates_dic_decay['MC_nue_bkg_total_w_dis'])*units,\n",
    "                weights=(rates_dic_decay['MC_nue_app'] + nue_bkg)*units,\n",
    "        edgecolor='deeppink',\n",
    "        facecolor='None',\n",
    "        lw=1.0,\n",
    "        linestyle=(1,(3,0)),\n",
    "        label=r'3+1 decay ($g=10^{-10})$',\n",
    "        histtype='stepfilled',\n",
    "        zorder=1.5)\n",
    "\n",
    "\n",
    "\n",
    "ax1.legend(fontsize=8, markerfirst=False, ncol=1)\n",
    "ax1.annotate(text=r'MiniBooNE 2020', xy=(0.0,1.05), xycoords='axes fraction', fontsize=9)\n",
    "ax1.set_xlabel(r\"Reconstructed $E_\\nu^{\\rm QE}$ (GeV)\", fontsize=9, labelpad=2.5)\n",
    "if INCLUDE_MB_LAST_BIN:\n",
    "    ax1.set_xticks([0.2,0.5,1,1.5,2,2.5,3])\n",
    "    ax1.set_xlim(0.2,3)\n",
    "else:\n",
    "    ax1.set_xticks([0.2,0.4,0.6,0.8,1,1.2,1.4])\n",
    "    ax1.set_xlim(0.2,1.5)\n",
    "ax1.set_ylim(0,8)\n",
    "# ax1.xaxis.set_major_locator(pt.MultipleLocator(0.5))\n",
    "# ax1.xaxis.set_minor_locator(pt.MultipleLocator(0.1))\n",
    "\n",
    "ax1.annotate(text=r'Kelly\\,et.\\,al.\\,2024', xy=(0.65,1.05), xycoords='axes fraction', fontsize=8.5)\n",
    "\n",
    "fig.savefig(f\"{PATH_PLOTS}/Fig_1.png\", dpi=400, bbox_inches='tight')\n",
    "fig.savefig(f\"{PATH_PLOTS}/Fig_1.pdf\", dpi=400, bbox_inches='tight')"
   ]
  },
  {
   "cell_type": "code",
   "execution_count": null,
   "metadata": {},
   "outputs": [],
   "source": []
  },
  {
   "cell_type": "code",
   "execution_count": null,
   "metadata": {},
   "outputs": [],
   "source": []
  }
 ],
 "metadata": {
  "kernelspec": {
   "display_name": "darknews",
   "language": "python",
   "name": "python3"
  },
  "language_info": {
   "codemirror_mode": {
    "name": "ipython",
    "version": 3
   },
   "file_extension": ".py",
   "mimetype": "text/x-python",
   "name": "python",
   "nbconvert_exporter": "python",
   "pygments_lexer": "ipython3",
   "version": "3.11.0"
  }
 },
 "nbformat": 4,
 "nbformat_minor": 2
}
