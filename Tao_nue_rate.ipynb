{
 "cells": [
  {
   "cell_type": "code",
   "execution_count": 1,
   "metadata": {},
   "outputs": [
    {
     "name": "stdout",
     "output_type": "stream",
     "text": [
      "0.58.1\n"
     ]
    }
   ],
   "source": [
    "import numpy as np\n",
    "import numba\n",
    "print(numba.__version__)\n",
    "import matplotlib.pyplot as plt\n",
    "import matplotlib.patches as mpatches\n",
    "from scipy.interpolate import interp1d\n",
    "\n",
    "from multiprocessing import Pool\n",
    "from functools import partial\n",
    "\n",
    "import MicroTools as micro\n",
    "import MicroTools.plot_tools as pt\n",
    "\n",
    "import param_scan\n",
    "from param_scan import fast_histogram\n",
    "from param_scan import get_nue_rates\n",
    "from tqdm.notebook import tqdm  # Note the change here\n",
    "# from tqdm.auto import tqdm\n",
    "\n",
    "from ipywidgets import IntProgress\n",
    "from IPython.display import display"
   ]
  },
  {
   "cell_type": "code",
   "execution_count": 2,
   "metadata": {},
   "outputs": [
    {
     "data": {
      "text/plain": [
       "<matplotlib.legend.Legend at 0x7f91562c7d90>"
      ]
     },
     "execution_count": 2,
     "metadata": {},
     "output_type": "execute_result"
    },
    {
     "name": "stderr",
     "output_type": "stream",
     "text": [
      "findfont: Font family ['serif'] not found. Falling back to DejaVu Sans.\n"
     ]
    },
    {
     "data": {
      "image/png": "[encoded data removed]",
      "text/plain": [
       "<Figure size 319.68x221.055 with 1 Axes>"
      ]
     },
     "metadata": {
      "needs_background": "light"
     },
     "output_type": "display_data"
    }
   ],
   "source": [
    "kwargs_osc = {\n",
    "'oscillations': True, \n",
    "'decay': False, \n",
    "'decouple_decay': False, \n",
    "'disappearance': True, \n",
    "'energy_degradation': False, \n",
    "'use_numu_MC': True, \n",
    "'undo_numu_normalization': False,\n",
    "'n_replications': 10,\n",
    "'include_antineutrinos': False\n",
    "}\n",
    "kwargs_decay = {\n",
    "'oscillations': True, \n",
    "'decay': True, \n",
    "'decouple_decay': False, \n",
    "'disappearance': True, \n",
    "'energy_degradation': False, \n",
    "'use_numu_MC': True, \n",
    "'undo_numu_normalization': False,\n",
    "'n_replications': 10,\n",
    "'include_antineutrinos': False\n",
    "}\n",
    "theta = {\"g\": 1e-1, \"m4\": 1, \"Ue4Sq\": 0.05, \"Um4Sq\": 0.05}\n",
    "nue_app_osc = get_nue_rates(theta, **kwargs_osc)[\"MC_nue_app\"]\n",
    "nue_app_decay = get_nue_rates(theta, **kwargs_decay)[\"MC_nue_app\"]\n",
    "nuebar_app_osc = get_nue_rates(theta, **kwargs_osc)[\"MC_nuebar_app\"]\n",
    "nuebar_app_decay = get_nue_rates(theta, **kwargs_decay)[\"MC_nuebar_app\"]\n",
    "\n",
    "bin_widths = np.diff(param_scan.MB_Ereco_official_bins)\n",
    "plt.hist(param_scan.MB_Ereco_official_bins[:-1], param_scan.MB_Ereco_official_bins, weights=nue_app_osc/bin_widths, histtype=\"step\", label=\"osc\")\n",
    "plt.hist(param_scan.MB_Ereco_official_bins[:-1], param_scan.MB_Ereco_official_bins, weights=nue_app_decay/bin_widths, histtype=\"step\", label=\"decay\")\n",
    "plt.hist(param_scan.MB_Ereco_official_bins[:-1], param_scan.MB_Ereco_official_bins, weights=nuebar_app_osc/bin_widths, histtype=\"step\", label=\"oscbar\")\n",
    "plt.hist(param_scan.MB_Ereco_official_bins[:-1], param_scan.MB_Ereco_official_bins, weights=nuebar_app_decay/bin_widths, histtype=\"step\", label=\"decaybar\")\n",
    "plt.legend()\n"
   ]
  },
  {
   "cell_type": "code",
   "execution_count": 16,
   "metadata": {},
   "outputs": [
    {
     "data": {
      "text/plain": [
       "<matplotlib.legend.Legend at 0x7fe1978a7910>"
      ]
     },
     "execution_count": 16,
     "metadata": {},
     "output_type": "execute_result"
    },
    {
     "data": {
      "image/png": "[encoded data removed]",
      "text/plain": [
       "<Figure size 319.68x221.055 with 1 Axes>"
      ]
     },
     "metadata": {
      "needs_background": "light"
     },
     "output_type": "display_data"
    }
   ],
   "source": [
    "# check further\n",
    "import MiniTools as mini\n",
    "n_replications = 10\n",
    "Ereco_nue_ext = param_scan.replicate(param_scan.Ereco_nue, n=n_replications)\n",
    "Etrue_nue_ext = param_scan.replicate(param_scan.Etrue_nue, n=n_replications)\n",
    "Weight_nue_ext = param_scan.replicate(param_scan.Weight_nue / n_replications, n=n_replications)\n",
    "\n",
    "Etrue_nue_parent, Etrue_nue_daughter = param_scan.create_Etrue_and_Weight_int(\n",
    "    etrue=param_scan.Etrue_nue, n_replications=n_replications\n",
    ")\n",
    "# does raw weights agree?\n",
    "MC_nue_app_osc = fast_histogram(\n",
    "    Ereco_nue_ext,\n",
    "    weights=Weight_nue_ext,\n",
    "    bins=param_scan.MB_Ereco_official_bins,\n",
    ")[0]\n",
    "\n",
    "MC_nue_app_decay = np.dot(\n",
    "    fast_histogram(\n",
    "        Etrue_nue_parent, bins=param_scan.e_prod_e_int_bins, weights=Weight_nue_ext\n",
    "    )[0],\n",
    "    mini.apps.migration_matrix_official_bins_nue_11bins,\n",
    ")\n",
    "\n",
    "plt.hist(param_scan.MB_Ereco_official_bins[:-1], param_scan.MB_Ereco_official_bins, weights=MC_nue_app_osc/bin_widths, histtype=\"step\", label=\"osc\")\n",
    "plt.hist(param_scan.MB_Ereco_official_bins[:-1], param_scan.MB_Ereco_official_bins, weights=MC_nue_app_decay/bin_widths, histtype=\"step\", label=\"decay\")\n",
    "plt.legend()"
   ]
  },
  {
   "cell_type": "code",
   "execution_count": null,
   "metadata": {},
   "outputs": [],
   "source": []
  }
 ],
 "metadata": {
  "kernelspec": {
   "display_name": "base",
   "language": "python",
   "name": "python3"
  },
  "language_info": {
   "codemirror_mode": {
    "name": "ipython",
    "version": 3
   },
   "file_extension": ".py",
   "mimetype": "text/x-python",
   "name": "python",
   "nbconvert_exporter": "python",
   "pygments_lexer": "ipython3",
   "version": "3.8.5"
  }
 },
 "nbformat": 4,
 "nbformat_minor": 2
}
