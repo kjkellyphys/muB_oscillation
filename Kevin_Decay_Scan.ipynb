{
 "cells": [
  {
   "cell_type": "code",
   "execution_count": 1,
   "metadata": {},
   "outputs": [],
   "source": [
    "import numpy as np\n",
    "import matplotlib.pyplot as plt\n",
    "import matplotlib.patches as mpatches\n",
    "from scipy.interpolate import interp1d\n",
    "\n",
    "from multiprocessing import Pool\n",
    "from functools import partial\n",
    "\n",
    "import MicroTools as micro\n",
    "import MicroTools.plot_tools as pt\n",
    "\n",
    "import param_scan\n",
    "from param_scan import fast_histogram\n",
    "from tqdm import tqdm\n",
    "# from tqdm.auto import tqdm\n",
    "\n",
    "from ipywidgets import IntProgress\n",
    "from IPython.display import display"
   ]
  },
  {
   "cell_type": "code",
   "execution_count": 2,
   "metadata": {},
   "outputs": [],
   "source": [
    "def run_scan_osc_dec(kwargs, filename, Npoints=10, path_results = \"fit_data/\"):\n",
    "\n",
    "    gvec = np.geomspace(1e-1, 3.5, Npoints)\n",
    "    mvec = np.geomspace(1e-1, 1e2, Npoints)\n",
    "    Ue4Sq = np.geomspace(1e-4, 0.49, Npoints)\n",
    "    Umu4Sq = np.geomspace(1e-4, 0.49, Npoints)\n",
    "    # Cartesian product of grid -- already imposes unitarity and pertubatirbity of g\n",
    "    paramlist = param_scan.create_grid_of_params(g=gvec, m4=mvec, Ue4Sq=Ue4Sq, Um4Sq=Umu4Sq)\n",
    "\n",
    "    # Pure oscillation method\n",
    "    func_scan = partial(param_scan.DecayReturnMicroBooNEChi2, **kwargs)\n",
    "\n",
    "    with Pool() as pool:\n",
    "        # res = pool.map(func_scan, paramlist)\n",
    "        res = np.array(list(tqdm(pool.imap(func_scan, paramlist), total=len(paramlist))))\n",
    "\n",
    "    param_scan.write_pickle(f\"{path_results}/{filename}\", res)\n",
    "    return res"
   ]
  },
  {
   "cell_type": "code",
   "execution_count": 3,
   "metadata": {},
   "outputs": [],
   "source": [
    "# Common attributes to all osc+dec scans\n",
    "kwargs_common = {\n",
    "    'oscillations': True, \n",
    "    'decay': True, \n",
    "    'decouple_decay': False, \n",
    "    'include_antineutrinos': True, \n",
    "    'n_replications': 10}\n",
    "\n",
    "# Appearance only\n",
    "kwargs_apponly = {\n",
    "    'disappearance': False, \n",
    "    'use_numu_MC': False,\n",
    "    'undo_numu_normalization': False,\n",
    "    **kwargs_common}\n",
    "\n",
    "# Include disappearance and energy degradation\n",
    "kwargs_std = {\n",
    "    'disappearance': True, \n",
    "    'use_numu_MC': True,\n",
    "    'energy_degradation': True, \n",
    "    'undo_numu_normalization': False,\n",
    "    **kwargs_common}\n",
    "\n",
    "#Include disappearance, but no energy degradation\n",
    "kwargs_noed = {\n",
    "    'disappearance': True, \n",
    "    'use_numu_MC': True,\n",
    "    'energy_degradation': False, \n",
    "    'undo_numu_normalization': False,\n",
    "    **kwargs_common}\n",
    "\n",
    "#Oscillation only, no antineutrinos\n",
    "kwargs_nobar_osc = {\n",
    "'oscillations': True, \n",
    "'decay': False, \n",
    "'decouple_decay': False, \n",
    "'disappearance': True, \n",
    "'energy_degradation': False, \n",
    "'use_numu_MC': True, \n",
    "'undo_numu_normalization': False,\n",
    "'n_replications': 10,\n",
    "'include_antineutrinos': False\n",
    "}\n",
    "\n",
    "# osc+decay, no antineutrinos\n",
    "kwargs_nobar = {\n",
    "'oscillations': True, \n",
    "'decay': True, \n",
    "'decouple_decay': False, \n",
    "'disappearance': True, \n",
    "'energy_degradation': False, \n",
    "'use_numu_MC': True, \n",
    "'undo_numu_normalization': False,\n",
    "'n_replications': 10,\n",
    "'include_antineutrinos': False\n",
    "}"
   ]
  },
  {
   "cell_type": "code",
   "execution_count": 5,
   "metadata": {},
   "outputs": [
    {
     "name": "stderr",
     "output_type": "stream",
     "text": [
      "  8%|▊         | 66204/810000 [51:59<9:11:27, 22.48it/s] "
     ]
    }
   ],
   "source": [
    "a0 = run_scan_osc_dec(kwargs_std, 'KJK_decay_dis_nb', Npoints=30)"
   ]
  },
  {
   "cell_type": "code",
   "execution_count": null,
   "metadata": {},
   "outputs": [],
   "source": []
  }
 ],
 "metadata": {
  "kernelspec": {
   "display_name": "kjkvec",
   "language": "python",
   "name": "python3"
  },
  "language_info": {
   "codemirror_mode": {
    "name": "ipython",
    "version": 3
   },
   "file_extension": ".py",
   "mimetype": "text/x-python",
   "name": "python",
   "nbconvert_exporter": "python",
   "pygments_lexer": "ipython3",
   "version": "3.12.2"
  }
 },
 "nbformat": 4,
 "nbformat_minor": 2
}
