{
 "cells": [
  {
   "cell_type": "markdown",
   "metadata": {},
   "source": [
    "## Plot for 4D scan: $g$, $m_4$, $|U_{e4}|^2$, $|U_{\\mu 4}|^2$"
   ]
  },
  {
   "cell_type": "code",
   "execution_count": 2,
   "metadata": {},
   "outputs": [
    {
     "name": "stdout",
     "output_type": "stream",
     "text": [
      "The autoreload extension is already loaded. To reload it, use:\n",
      "  %reload_ext autoreload\n"
     ]
    }
   ],
   "source": [
    "%load_ext autoreload\n",
    "%autoreload 2"
   ]
  },
  {
   "cell_type": "code",
   "execution_count": 2,
   "metadata": {},
   "outputs": [],
   "source": [
    "import numpy as np\n",
    "import matplotlib.pyplot as plt\n",
    "from scipy.interpolate import interp1d\n",
    "\n",
    "import MicroTools as micro\n",
    "import MicroTools.plot_tools as pt"
   ]
  },
  {
   "cell_type": "markdown",
   "metadata": {},
   "source": [
    "## Slicings of g, and $|U_{e4}|^2$"
   ]
  },
  {
   "cell_type": "code",
   "execution_count": 3,
   "metadata": {},
   "outputs": [
    {
     "name": "stderr",
     "output_type": "stream",
     "text": [
      "<ipython-input-3-c807a4c03f1b>:53: UserWarning: linewidths is ignored by contourf\n",
      "  ax.contourf(MVec, gm4VecT, MicroApp_deltachi2, levels=levsMicroB, cmap='Blues', alpha=1, linewidths=1.5)\n"
     ]
    },
    {
     "data": {
      "text/plain": [
       "<matplotlib.contour.QuadContourSet at 0x7f902c9ebee0>"
      ]
     },
     "execution_count": 3,
     "metadata": {},
     "output_type": "execute_result"
    },
    {
     "data": {
      "image/png": "[encoded data removed]",
      "text/plain": [
       "<Figure size 319.68x331.583 with 1 Axes>"
      ]
     },
     "metadata": {
      "needs_background": "light"
     },
     "output_type": "display_data"
    }
   ],
   "source": [
    "Npoints = 15\n",
    "# Range of g for sterile decay model scanned over 1e-1 to 1e2 in 15 steps\n",
    "g = np.geomspace(1e-1, 1e2, Npoints)\n",
    "\n",
    "# Range of m scanned over 1e-1 to 1e2 in 15 steps\n",
    "m = np.geomspace(1e-1, 1e2, Npoints)\n",
    "\n",
    "# Range of |U_{e4}|^2 scanned over 1e-4 to 0.49 in 15 steps\n",
    "e = np.geomspace(1e-4, 0.49, Npoints)\n",
    "\n",
    "# Range of |U_{\\mu4}|^2 scanned over 1e-4 to 0.49 in 15 steps\n",
    "mu = np.geomspace(1e-4, 0.49, Npoints)\n",
    "\n",
    "# which slice to take\n",
    "gvalue = g[0]\n",
    "evalue = e[10]\n",
    "\n",
    "# 4D parameter scan\n",
    "path_results = \"fit_data/\"\n",
    "data = np.load(f\"{path_results}/App_g_m4_Ue4sq_Um4sq_deg.npy\", allow_pickle=True)\n",
    "\n",
    "# Filter entries for fixed g and e\n",
    "data_slice = np.array([entry for entry in data if entry[0] == gvalue and entry[2] == evalue])\n",
    "MiniApp_chi2 = data_slice[:,-3]\n",
    "MicroApp_chi2 = data_slice[:,-2]\n",
    "MicroApp_Asimov_chi2 = data_slice[:,-1]\n",
    "MiniApp_deltachi2 = MiniApp_chi2 - np.min(MiniApp_chi2)\n",
    "MicroApp_deltachi2 = MicroApp_chi2 - np.min(MicroApp_chi2)\n",
    "MicroApp_Asimov_deltachi2 = MicroApp_Asimov_chi2 - np.min(MicroApp_Asimov_chi2)\n",
    "\n",
    "MVec, gm4VecT = 4 * evalue * data_slice[:,3], data_slice[:,1]**2\n",
    "\n",
    "# rearrange data to use contour. Ignore if using tricontour\n",
    "MVec = np.unique(MVec)\n",
    "gm4VecT = np.unique(gm4VecT)\n",
    "MicroApp_deltachi2 = np.transpose(MicroApp_deltachi2.reshape(len(MVec), len(gm4VecT)))\n",
    "MicroApp_Asimov_deltachi2 = np.transpose(MicroApp_Asimov_deltachi2.reshape(len(MVec), len(gm4VecT)))\n",
    "\n",
    "fig, ax = pt.std_fig(figsize=(pt.std_figsize[0], pt.std_figsize[1]*1.5))\n",
    "#xmin, xmax, ymin, ymax = 1e-4, 2e-1, 1e-2, 1e4\n",
    "xmin, xmax, ymin, ymax = 1e-4, 1e-1, 1e-2, 1e8\n",
    "ax.set_xscale('log')\n",
    "ax.set_yscale('log')\n",
    "ax.axis([xmin, xmax, ymin, ymax])\n",
    "#ax.set_ylabel(r'$g_D m_4 [\\mathrm{eV}]$', fontproperties=pt.font)\n",
    "ax.set_ylabel(r'$\\Delta m_{41}^2 [\\mathrm{eV^2}]$', fontproperties=pt.font)\n",
    "ax.set_xlabel(r\"$\\sin^2(2\\theta_{\\mu e})$\", fontproperties=pt.font)\n",
    "ax.text(2e-4, 3e-2, '$|U_{e4}|^2=%.4f$\\n$g=%.2f$'%(evalue,gvalue), fontsize = 15)\n",
    "\n",
    "levs0MB = np.min(MicroApp_chi2)\n",
    "levsMiniB = [0, 2.30, 6.18, 11.83]\n",
    "levsMicroB = [11.83, 1e10]\n",
    "ax.contourf(MVec, gm4VecT, MicroApp_deltachi2, levels=levsMicroB, cmap='Blues', alpha=1, linewidths=1.5)\n",
    "ax.contour(MVec, gm4VecT, MicroApp_Asimov_deltachi2, levels=levsMicroB, colors=['black'], alpha=1, linewidths=1, linestyles=['--'])\n"
   ]
  },
  {
   "cell_type": "markdown",
   "metadata": {},
   "source": [
    "## Marginalize over $\\textrm{g}$ and $|U_{e4}|^2$ for minimal MicroBooNE $\\chi^2$"
   ]
  },
  {
   "cell_type": "code",
   "execution_count": 4,
   "metadata": {},
   "outputs": [
    {
     "data": {
      "text/plain": [
       "<matplotlib.tri.tricontour.TriContourSet at 0x7f904c4b7520>"
      ]
     },
     "execution_count": 4,
     "metadata": {},
     "output_type": "execute_result"
    },
    {
     "data": {
      "image/png": "[encoded data removed]",
      "text/plain": [
       "<Figure size 319.68x331.583 with 1 Axes>"
      ]
     },
     "metadata": {
      "needs_background": "light"
     },
     "output_type": "display_data"
    }
   ],
   "source": [
    "Npoints = 15\n",
    "slice_marg = []\n",
    "\n",
    "for i in range(Npoints):\n",
    "    slice_m = data[data[:, 1] == m[i], :]\n",
    "    for j in range(Npoints):\n",
    "        slice_mu = slice_m[slice_m[:, 3] == mu[j], :]\n",
    "        min_entry = slice_mu[np.argmin(slice_mu[:, -2])]\n",
    "        slice_marg.append(min_entry)\n",
    "slice_marg = np.array(slice_marg)\n",
    "MicroApp_chi2 = slice_marg[:,-2]\n",
    "MicroApp_deltachi2 = MicroApp_chi2 - np.min(MicroApp_chi2)\n",
    "MVec = slice_marg[:,3]\n",
    "#MVec = [4 * slice_marg[i,2] * slice_marg[i,3] for i in range(len(slice_marg))]\n",
    "gm4VecT = slice_marg[:,1]**2\n",
    "fig, ax = pt.std_fig(figsize=(pt.std_figsize[0], pt.std_figsize[1]*1.5))\n",
    "xmin, xmax, ymin, ymax = 1e-4, 1, 1e-2, 1e4\n",
    "ax.set_xscale('log')\n",
    "ax.set_yscale('log')\n",
    "ax.axis([xmin, xmax, ymin, ymax])\n",
    "#ax.set_ylabel(r'$g_D m_4 [\\mathrm{eV}]$', fontproperties=pt.font)\n",
    "ax.set_ylabel(r'$\\Delta m_{41}^2 [\\mathrm{eV^2}]$', fontproperties=pt.font)\n",
    "ax.set_xlabel(r\"$|U_{\\mu 4}|^2$\", fontproperties=pt.font)\n",
    "\n",
    "levs0MB = np.min(MicroApp_chi2)\n",
    "levsMiniB = [0, 2.30, 6.18, 11.83]\n",
    "levsMicroB = [6.18, 1e10]\n",
    "ax.tricontourf(MVec, gm4VecT, MicroApp_deltachi2, levels=levsMicroB, cmap='Blues', alpha=1)"
   ]
  },
  {
   "cell_type": "markdown",
   "metadata": {},
   "source": [
    "## Fix $m_4=1\\textrm{keV}$, marginalize over $|U_{e4}|^2$"
   ]
  },
  {
   "cell_type": "code",
   "execution_count": 8,
   "metadata": {},
   "outputs": [
    {
     "name": "stderr",
     "output_type": "stream",
     "text": [
      "<ipython-input-8-b8daaad1cd92>:57: UserWarning: linewidths is ignored by contourf\n",
      "  ax.tricontourf(MVec, gVecT, MicroApp_deltachi2, levels=levsMicroB, cmap='Blues', alpha=1, linewidths=1.5)\n",
      "No handles with labels found to put in legend.\n"
     ]
    },
    {
     "name": "stdout",
     "output_type": "stream",
     "text": [
      "225\n",
      "225\n",
      "225\n"
     ]
    },
    {
     "data": {
      "image/png": "[encoded data removed]",
      "text/plain": [
       "<Figure size 319.68x331.583 with 1 Axes>"
      ]
     },
     "metadata": {
      "needs_background": "light"
     },
     "output_type": "display_data"
    }
   ],
   "source": [
    "# 4D parameter scan\n",
    "path_results = \"fit_data/\"\n",
    "data = np.load(f\"{path_results}/App_g_m4_Ue4sq_Um4sq_deg.npy\", allow_pickle=True)\n",
    "\n",
    "#gm4VecT, EVec, MVec = data[:,0], data[:,1], data[:,2]\n",
    "\n",
    "MiniApp_chi2 = data[:,-3]\n",
    "MicroApp_chi2 = data[:,-2]\n",
    "MicroApp_Asimov_chi2 = data[:,-1]\n",
    "Npoints = 15\n",
    "def marg(chi2, which_axis):\n",
    "    chi2_rs = np.reshape(chi2, (Npoints, Npoints, Npoints))\n",
    "    min_chi2 = np.min(chi2_rs, axis = which_axis)\n",
    "    min_chi2 = np.ravel(min_chi2)\n",
    "    delta_chi2 = min_chi2 - np.min(min_chi2)\n",
    "    return delta_chi2\n",
    "\n",
    "# Range of g for sterile decay model scanned over 1e-1 to 1e2 in 15 steps\n",
    "g = np.geomspace(1e-1, 1e2, Npoints)\n",
    "\n",
    "# Range of m scanned over 1e-1 to 1e2 in 15 steps\n",
    "m = np.geomspace(1e-1, 1e2, Npoints)\n",
    "\n",
    "# Range of |U_{e4}|^2 scanned over 1e-4 to 0.49 in 15 steps\n",
    "e = np.geomspace(1e-4, 0.49, Npoints)\n",
    "\n",
    "# Range of |U_{\\mu4}|^2 scanned over 1e-4 to 0.49 in 15 steps\n",
    "mu = np.geomspace(1e-4, 0.49, Npoints)\n",
    "\n",
    "gVecT, MVec = np.meshgrid(g,mu)\n",
    "gVecT, MVec = np.ravel(gVecT), np.ravel(MVec)\n",
    "\n",
    "# marg over e\n",
    "MiniApp_deltachi2 = marg(MiniApp_chi2,which_axis = 2)\n",
    "MicroApp_deltachi2 = marg(MicroApp_chi2,which_axis = 2)\n",
    "MicroApp_Asimov_deltachi2 = marg(MicroApp_Asimov_chi2,which_axis = 2)\n",
    "print(np.size(gVecT))\n",
    "print(np.size(MVec))\n",
    "print(np.size(MiniApp_deltachi2))\n",
    "\n",
    "fig, ax = pt.std_fig(figsize=(pt.std_figsize[0], pt.std_figsize[1]*1.5))\n",
    "xmin, xmax, ymin, ymax = 1e-4, 1, 1e-1, 1e2\n",
    "ax.set_xscale('log')\n",
    "ax.set_yscale('log')\n",
    "ax.axis([xmin, xmax, ymin, ymax])\n",
    "ax.set_ylabel(r'$g_D$', fontproperties=pt.font)        \n",
    "ax.set_xticks([1e-4, 1e-3, 1e-2, 1e-1, 1])\n",
    "ax.set_yticks([1e-1, 1, 10, 100])\n",
    "[l.set_size(pt.labelfont.get_size()) for l in ax.get_xticklabels()]\n",
    "[l.set_size(pt.labelfont.get_size()) for l in ax.get_yticklabels()]\n",
    "[l.set_position((0.5, -0.015)) for l in ax.get_xticklabels()]\n",
    "ax.set_yticklabels((r\"$10^{-1}$\", r\"$1$\", r\"$10$\", r\"$10^2$\"), fontproperties=pt.labelfont)\n",
    "ax.set_xticklabels((r\"$10^{-4}$\", r\"$10^{-3}$\", r\"$10^{-2}$\", r\"$10^{-1}$\", r\"$1$\"), fontproperties=pt.labelfont)\n",
    "ax.set_xlabel(r\"$|U_{\\mu 4}|^2$\", fontproperties=pt.font)\n",
    "\n",
    "\n",
    "levs0MB = np.min(MicroApp_chi2)\n",
    "levsMiniB = [0, 2.30, 6.18, 11.83]\n",
    "levsMicroB = [6.18, 1e10]\n",
    "ax.tricontourf(MVec, gVecT, MicroApp_deltachi2, levels=levsMicroB, cmap='Blues', alpha=1, linewidths=1.5)\n",
    "ax.tricontour(MVec, gVecT, MicroApp_Asimov_deltachi2, levels=levsMicroB, colors=['black'], alpha=1, linewidths=1.5, linestyles=['--'])\n",
    "ax.tricontourf(MVec, gVecT, MiniApp_deltachi2, levels=levsMiniB, cmap='Oranges_r', alpha=1)\n",
    "\n",
    "#fleft = interp1d(10**MBupper[:,1], 10**MBupper[:,0], bounds_error=False, fill_value='extrapolate')\n",
    "#fright = interp1d(10**MBlower[:,1], 10**MBlower[:,0], bounds_error=False, fill_value='extrapolate')\n",
    "#y = np.geomspace(np.min([10**MBupper[:,1].min(), 10**MBlower[:,1].min()]), np.max([10**MBupper[:,1].max(), 10**MBlower[:,1].max()]))\n",
    "#ax.fill_betweenx(y, fleft(y), fright(y), edgecolor='black', hatch='////', facecolor='None', alpha=0.5, label='deGouvea MB $2\\sigma$')\n",
    "\n",
    "ax.legend(loc = 'lower left', fontsize = 10)\n",
    "\n",
    "fig.savefig(f\"{micro.path_plots}/Fixed_m4_1e3_15*15*15_v1.pdf\", bbox_inches='tight')"
   ]
  },
  {
   "cell_type": "code",
   "execution_count": null,
   "metadata": {},
   "outputs": [],
   "source": []
  }
 ],
 "metadata": {
  "kernelspec": {
   "display_name": "Python 3",
   "language": "python",
   "name": "python3"
  },
  "language_info": {
   "codemirror_mode": {
    "name": "ipython",
    "version": 3
   },
   "file_extension": ".py",
   "mimetype": "text/x-python",
   "name": "python",
   "nbconvert_exporter": "python",
   "pygments_lexer": "ipython3",
   "version": "3.8.5"
  }
 },
 "nbformat": 4,
 "nbformat_minor": 2
}
