{
 "cells": [
  {
   "cell_type": "markdown",
   "metadata": {},
   "source": [
    "## Plot for 4D scan: $g$, $m_4$, $|U_{e4}|^2$, $|U_{\\mu 4}|^2$"
   ]
  },
  {
   "cell_type": "code",
   "execution_count": 1,
   "metadata": {},
   "outputs": [],
   "source": [
    "%load_ext autoreload\n",
    "%autoreload 2"
   ]
  },
  {
   "cell_type": "code",
   "execution_count": 2,
   "metadata": {},
   "outputs": [],
   "source": [
    "import numpy as np\n",
    "import matplotlib.pyplot as plt\n",
    "from scipy.interpolate import interp1d\n",
    "\n",
    "import MicroTools as micro\n",
    "import MicroTools.plot_tools as pt"
   ]
  },
  {
   "cell_type": "markdown",
   "metadata": {},
   "source": [
    "## Fix $m_4=1\\textrm{keV}$, marginalize over $|U_{e4}|^2$"
   ]
  },
  {
   "cell_type": "code",
   "execution_count": 8,
   "metadata": {},
   "outputs": [
    {
     "name": "stderr",
     "output_type": "stream",
     "text": [
      "<ipython-input-8-b8daaad1cd92>:57: UserWarning: linewidths is ignored by contourf\n",
      "  ax.tricontourf(MVec, gVecT, MicroApp_deltachi2, levels=levsMicroB, cmap='Blues', alpha=1, linewidths=1.5)\n",
      "No handles with labels found to put in legend.\n"
     ]
    },
    {
     "name": "stdout",
     "output_type": "stream",
     "text": [
      "225\n",
      "225\n",
      "225\n"
     ]
    },
    {
     "data": {
      "image/png": "[encoded data removed]",
      "text/plain": [
       "<Figure size 319.68x331.583 with 1 Axes>"
      ]
     },
     "metadata": {
      "needs_background": "light"
     },
     "output_type": "display_data"
    }
   ],
   "source": [
    "# 4D parameter scan\n",
    "path_results = \"fit_data/\"\n",
    "data = np.load(f\"{path_results}/Fixed_m4_1e3_15*15*15_v1.npy\", allow_pickle=True)\n",
    "\n",
    "#gm4VecT, EVec, MVec = data[:,0], data[:,1], data[:,2]\n",
    "\n",
    "MiniApp_chi2 = data[:,-3]\n",
    "MicroApp_chi2 = data[:,-2]\n",
    "MicroApp_Asimov_chi2 = data[:,-1]\n",
    "Npoints = 15\n",
    "def marg(chi2, which_axis):\n",
    "    chi2_rs = np.reshape(chi2, (Npoints, Npoints, Npoints))\n",
    "    min_chi2 = np.min(chi2_rs, axis = which_axis)\n",
    "    min_chi2 = np.ravel(min_chi2)\n",
    "    delta_chi2 = min_chi2 - np.min(min_chi2)\n",
    "    return delta_chi2\n",
    "\n",
    "# Range of |U_{\\mu4}|^2 scanned over 1e-4 to 0.5 in 15 steps\n",
    "mu = np.geomspace(1e-4, 0.49, Npoints)\n",
    "\n",
    "# Range of g for sterile decay model scanned over 0.1 to 100 in 15 steps\n",
    "g = np.geomspace(1e-1, 1e2, Npoints)\n",
    "\n",
    "# Range of |U_{e4}|^2 scanned over 1e-4 to 0.5 in 15 steps\n",
    "e = np.geomspace(1e-4, 0.49, Npoints)\n",
    "\n",
    "gVecT, MVec = np.meshgrid(g,mu)\n",
    "gVecT, MVec = np.ravel(gVecT), np.ravel(MVec)\n",
    "\n",
    "# marg over e\n",
    "MiniApp_deltachi2 = marg(MiniApp_chi2,which_axis = 2)\n",
    "MicroApp_deltachi2 = marg(MicroApp_chi2,which_axis = 2)\n",
    "MicroApp_Asimov_deltachi2 = marg(MicroApp_Asimov_chi2,which_axis = 2)\n",
    "print(np.size(gVecT))\n",
    "print(np.size(MVec))\n",
    "print(np.size(MiniApp_deltachi2))\n",
    "\n",
    "fig, ax = pt.std_fig(figsize=(pt.std_figsize[0], pt.std_figsize[1]*1.5))\n",
    "xmin, xmax, ymin, ymax = 1e-4, 1, 1e-1, 1e2\n",
    "ax.set_xscale('log')\n",
    "ax.set_yscale('log')\n",
    "ax.axis([xmin, xmax, ymin, ymax])\n",
    "ax.set_ylabel(r'$g_D$', fontproperties=pt.font)        \n",
    "ax.set_xticks([1e-4, 1e-3, 1e-2, 1e-1, 1])\n",
    "ax.set_yticks([1e-1, 1, 10, 100])\n",
    "[l.set_size(pt.labelfont.get_size()) for l in ax.get_xticklabels()]\n",
    "[l.set_size(pt.labelfont.get_size()) for l in ax.get_yticklabels()]\n",
    "[l.set_position((0.5, -0.015)) for l in ax.get_xticklabels()]\n",
    "ax.set_yticklabels((r\"$10^{-1}$\", r\"$1$\", r\"$10$\", r\"$10^2$\"), fontproperties=pt.labelfont)\n",
    "ax.set_xticklabels((r\"$10^{-4}$\", r\"$10^{-3}$\", r\"$10^{-2}$\", r\"$10^{-1}$\", r\"$1$\"), fontproperties=pt.labelfont)\n",
    "ax.set_xlabel(r\"$|U_{\\mu 4}|^2$\", fontproperties=pt.font)\n",
    "\n",
    "\n",
    "levs0MB = np.min(MicroApp_chi2)\n",
    "levsMiniB = [0, 2.30, 6.18, 11.83]\n",
    "levsMicroB = [6.18, 1e10]\n",
    "ax.tricontourf(MVec, gVecT, MicroApp_deltachi2, levels=levsMicroB, cmap='Blues', alpha=1, linewidths=1.5)\n",
    "ax.tricontour(MVec, gVecT, MicroApp_Asimov_deltachi2, levels=levsMicroB, colors=['black'], alpha=1, linewidths=1.5, linestyles=['--'])\n",
    "ax.tricontourf(MVec, gVecT, MiniApp_deltachi2, levels=levsMiniB, cmap='Oranges_r', alpha=1)\n",
    "\n",
    "#fleft = interp1d(10**MBupper[:,1], 10**MBupper[:,0], bounds_error=False, fill_value='extrapolate')\n",
    "#fright = interp1d(10**MBlower[:,1], 10**MBlower[:,0], bounds_error=False, fill_value='extrapolate')\n",
    "#y = np.geomspace(np.min([10**MBupper[:,1].min(), 10**MBlower[:,1].min()]), np.max([10**MBupper[:,1].max(), 10**MBlower[:,1].max()]))\n",
    "#ax.fill_betweenx(y, fleft(y), fright(y), edgecolor='black', hatch='////', facecolor='None', alpha=0.5, label='deGouvea MB $2\\sigma$')\n",
    "\n",
    "ax.legend(loc = 'lower left', fontsize = 10)\n",
    "\n",
    "fig.savefig(f\"{micro.path_plots}/Fixed_m4_1e3_15*15*15_v1.pdf\", bbox_inches='tight')"
   ]
  },
  {
   "cell_type": "code",
   "execution_count": null,
   "metadata": {},
   "outputs": [],
   "source": []
  }
 ],
 "metadata": {
  "kernelspec": {
   "display_name": "Python 3",
   "language": "python",
   "name": "python3"
  },
  "language_info": {
   "codemirror_mode": {
    "name": "ipython",
    "version": 3
   },
   "file_extension": ".py",
   "mimetype": "text/x-python",
   "name": "python",
   "nbconvert_exporter": "python",
   "pygments_lexer": "ipython3",
   "version": "3.8.5"
  }
 },
 "nbformat": 4,
 "nbformat_minor": 2
}
